{
 "cells": [
  {
   "cell_type": "markdown",
   "id": "df84f3c8",
   "metadata": {},
   "source": [
    "## 1. Load and Preview Data"
   ]
  },
  {
   "cell_type": "code",
   "execution_count": 2,
   "id": "0c2648c1",
   "metadata": {},
   "outputs": [
    {
     "data": {
      "text/html": [
       "<div>\n",
       "<style scoped>\n",
       "    .dataframe tbody tr th:only-of-type {\n",
       "        vertical-align: middle;\n",
       "    }\n",
       "\n",
       "    .dataframe tbody tr th {\n",
       "        vertical-align: top;\n",
       "    }\n",
       "\n",
       "    .dataframe thead th {\n",
       "        text-align: right;\n",
       "    }\n",
       "</style>\n",
       "<table border=\"1\" class=\"dataframe\">\n",
       "  <thead>\n",
       "    <tr style=\"text-align: right;\">\n",
       "      <th></th>\n",
       "      <th>Row ID</th>\n",
       "      <th>Order ID</th>\n",
       "      <th>Order Date</th>\n",
       "      <th>Ship Date</th>\n",
       "      <th>Ship Mode</th>\n",
       "      <th>Customer ID</th>\n",
       "      <th>Customer Name</th>\n",
       "      <th>Segment</th>\n",
       "      <th>Country</th>\n",
       "      <th>City</th>\n",
       "      <th>...</th>\n",
       "      <th>Postal Code</th>\n",
       "      <th>Region</th>\n",
       "      <th>Product ID</th>\n",
       "      <th>Category</th>\n",
       "      <th>Sub-Category</th>\n",
       "      <th>Product Name</th>\n",
       "      <th>Sales</th>\n",
       "      <th>Quantity</th>\n",
       "      <th>Discount</th>\n",
       "      <th>Profit</th>\n",
       "    </tr>\n",
       "  </thead>\n",
       "  <tbody>\n",
       "    <tr>\n",
       "      <th>0</th>\n",
       "      <td>1</td>\n",
       "      <td>CA-2016-152156</td>\n",
       "      <td>2016-11-08</td>\n",
       "      <td>2016-11-11</td>\n",
       "      <td>Second Class</td>\n",
       "      <td>CG-12520</td>\n",
       "      <td>Claire Gute</td>\n",
       "      <td>Consumer</td>\n",
       "      <td>United States</td>\n",
       "      <td>Henderson</td>\n",
       "      <td>...</td>\n",
       "      <td>42420</td>\n",
       "      <td>South</td>\n",
       "      <td>FUR-BO-10001798</td>\n",
       "      <td>Furniture</td>\n",
       "      <td>Bookcases</td>\n",
       "      <td>Bush Somerset Collection Bookcase</td>\n",
       "      <td>261.9600</td>\n",
       "      <td>2</td>\n",
       "      <td>0.00</td>\n",
       "      <td>41.9136</td>\n",
       "    </tr>\n",
       "    <tr>\n",
       "      <th>1</th>\n",
       "      <td>2</td>\n",
       "      <td>CA-2016-152156</td>\n",
       "      <td>2016-11-08</td>\n",
       "      <td>2016-11-11</td>\n",
       "      <td>Second Class</td>\n",
       "      <td>CG-12520</td>\n",
       "      <td>Claire Gute</td>\n",
       "      <td>Consumer</td>\n",
       "      <td>United States</td>\n",
       "      <td>Henderson</td>\n",
       "      <td>...</td>\n",
       "      <td>42420</td>\n",
       "      <td>South</td>\n",
       "      <td>FUR-CH-10000454</td>\n",
       "      <td>Furniture</td>\n",
       "      <td>Chairs</td>\n",
       "      <td>Hon Deluxe Fabric Upholstered Stacking Chairs,...</td>\n",
       "      <td>731.9400</td>\n",
       "      <td>3</td>\n",
       "      <td>0.00</td>\n",
       "      <td>219.5820</td>\n",
       "    </tr>\n",
       "    <tr>\n",
       "      <th>2</th>\n",
       "      <td>3</td>\n",
       "      <td>CA-2016-138688</td>\n",
       "      <td>2016-06-12</td>\n",
       "      <td>2016-06-16</td>\n",
       "      <td>Second Class</td>\n",
       "      <td>DV-13045</td>\n",
       "      <td>Darrin Van Huff</td>\n",
       "      <td>Corporate</td>\n",
       "      <td>United States</td>\n",
       "      <td>Los Angeles</td>\n",
       "      <td>...</td>\n",
       "      <td>90036</td>\n",
       "      <td>West</td>\n",
       "      <td>OFF-LA-10000240</td>\n",
       "      <td>Office Supplies</td>\n",
       "      <td>Labels</td>\n",
       "      <td>Self-Adhesive Address Labels for Typewriters b...</td>\n",
       "      <td>14.6200</td>\n",
       "      <td>2</td>\n",
       "      <td>0.00</td>\n",
       "      <td>6.8714</td>\n",
       "    </tr>\n",
       "    <tr>\n",
       "      <th>3</th>\n",
       "      <td>4</td>\n",
       "      <td>US-2015-108966</td>\n",
       "      <td>2015-10-11</td>\n",
       "      <td>2015-10-18</td>\n",
       "      <td>Standard Class</td>\n",
       "      <td>SO-20335</td>\n",
       "      <td>Sean O'Donnell</td>\n",
       "      <td>Consumer</td>\n",
       "      <td>United States</td>\n",
       "      <td>Fort Lauderdale</td>\n",
       "      <td>...</td>\n",
       "      <td>33311</td>\n",
       "      <td>South</td>\n",
       "      <td>FUR-TA-10000577</td>\n",
       "      <td>Furniture</td>\n",
       "      <td>Tables</td>\n",
       "      <td>Bretford CR4500 Series Slim Rectangular Table</td>\n",
       "      <td>957.5775</td>\n",
       "      <td>5</td>\n",
       "      <td>0.45</td>\n",
       "      <td>-383.0310</td>\n",
       "    </tr>\n",
       "    <tr>\n",
       "      <th>4</th>\n",
       "      <td>5</td>\n",
       "      <td>US-2015-108966</td>\n",
       "      <td>2015-10-11</td>\n",
       "      <td>2015-10-18</td>\n",
       "      <td>Standard Class</td>\n",
       "      <td>SO-20335</td>\n",
       "      <td>Sean O'Donnell</td>\n",
       "      <td>Consumer</td>\n",
       "      <td>United States</td>\n",
       "      <td>Fort Lauderdale</td>\n",
       "      <td>...</td>\n",
       "      <td>33311</td>\n",
       "      <td>South</td>\n",
       "      <td>OFF-ST-10000760</td>\n",
       "      <td>Office Supplies</td>\n",
       "      <td>Storage</td>\n",
       "      <td>Eldon Fold 'N Roll Cart System</td>\n",
       "      <td>22.3680</td>\n",
       "      <td>2</td>\n",
       "      <td>0.20</td>\n",
       "      <td>2.5164</td>\n",
       "    </tr>\n",
       "  </tbody>\n",
       "</table>\n",
       "<p>5 rows × 21 columns</p>\n",
       "</div>"
      ],
      "text/plain": [
       "   Row ID        Order ID Order Date  Ship Date       Ship Mode Customer ID  \\\n",
       "0       1  CA-2016-152156 2016-11-08 2016-11-11    Second Class    CG-12520   \n",
       "1       2  CA-2016-152156 2016-11-08 2016-11-11    Second Class    CG-12520   \n",
       "2       3  CA-2016-138688 2016-06-12 2016-06-16    Second Class    DV-13045   \n",
       "3       4  US-2015-108966 2015-10-11 2015-10-18  Standard Class    SO-20335   \n",
       "4       5  US-2015-108966 2015-10-11 2015-10-18  Standard Class    SO-20335   \n",
       "\n",
       "     Customer Name    Segment        Country             City  ...  \\\n",
       "0      Claire Gute   Consumer  United States        Henderson  ...   \n",
       "1      Claire Gute   Consumer  United States        Henderson  ...   \n",
       "2  Darrin Van Huff  Corporate  United States      Los Angeles  ...   \n",
       "3   Sean O'Donnell   Consumer  United States  Fort Lauderdale  ...   \n",
       "4   Sean O'Donnell   Consumer  United States  Fort Lauderdale  ...   \n",
       "\n",
       "  Postal Code  Region       Product ID         Category Sub-Category  \\\n",
       "0       42420   South  FUR-BO-10001798        Furniture    Bookcases   \n",
       "1       42420   South  FUR-CH-10000454        Furniture       Chairs   \n",
       "2       90036    West  OFF-LA-10000240  Office Supplies       Labels   \n",
       "3       33311   South  FUR-TA-10000577        Furniture       Tables   \n",
       "4       33311   South  OFF-ST-10000760  Office Supplies      Storage   \n",
       "\n",
       "                                        Product Name     Sales  Quantity  \\\n",
       "0                  Bush Somerset Collection Bookcase  261.9600         2   \n",
       "1  Hon Deluxe Fabric Upholstered Stacking Chairs,...  731.9400         3   \n",
       "2  Self-Adhesive Address Labels for Typewriters b...   14.6200         2   \n",
       "3      Bretford CR4500 Series Slim Rectangular Table  957.5775         5   \n",
       "4                     Eldon Fold 'N Roll Cart System   22.3680         2   \n",
       "\n",
       "   Discount    Profit  \n",
       "0      0.00   41.9136  \n",
       "1      0.00  219.5820  \n",
       "2      0.00    6.8714  \n",
       "3      0.45 -383.0310  \n",
       "4      0.20    2.5164  \n",
       "\n",
       "[5 rows x 21 columns]"
      ]
     },
     "metadata": {},
     "output_type": "display_data"
    },
    {
     "name": "stdout",
     "output_type": "stream",
     "text": [
      "<class 'pandas.core.frame.DataFrame'>\n",
      "RangeIndex: 9994 entries, 0 to 9993\n",
      "Data columns (total 21 columns):\n",
      " #   Column         Non-Null Count  Dtype         \n",
      "---  ------         --------------  -----         \n",
      " 0   Row ID         9994 non-null   int64         \n",
      " 1   Order ID       9994 non-null   object        \n",
      " 2   Order Date     9994 non-null   datetime64[ns]\n",
      " 3   Ship Date      9994 non-null   datetime64[ns]\n",
      " 4   Ship Mode      9994 non-null   object        \n",
      " 5   Customer ID    9994 non-null   object        \n",
      " 6   Customer Name  9994 non-null   object        \n",
      " 7   Segment        9994 non-null   object        \n",
      " 8   Country        9994 non-null   object        \n",
      " 9   City           9994 non-null   object        \n",
      " 10  State          9994 non-null   object        \n",
      " 11  Postal Code    9994 non-null   int64         \n",
      " 12  Region         9994 non-null   object        \n",
      " 13  Product ID     9994 non-null   object        \n",
      " 14  Category       9994 non-null   object        \n",
      " 15  Sub-Category   9994 non-null   object        \n",
      " 16  Product Name   9994 non-null   object        \n",
      " 17  Sales          9994 non-null   float64       \n",
      " 18  Quantity       9994 non-null   int64         \n",
      " 19  Discount       9994 non-null   float64       \n",
      " 20  Profit         9994 non-null   float64       \n",
      "dtypes: datetime64[ns](2), float64(3), int64(3), object(13)\n",
      "memory usage: 1.6+ MB\n"
     ]
    }
   ],
   "source": [
    "import pandas as pd\n",
    "import warnings\n",
    "warnings.filterwarnings(\"ignore\")\n",
    "\n",
    "# Memuat dataset dari file Excel\n",
    "df = pd.read_excel('data.xls')\n",
    "\n",
    "# Menampilkan 5 baris pertama dari dataset\n",
    "display(df.head())\n",
    "\n",
    "# Menampilkan informasi umum tentang dataset\n",
    "df.info()"
   ]
  },
  {
   "cell_type": "markdown",
   "id": "30cfdc1c",
   "metadata": {},
   "source": [
    "## 2. Basic Summary Statistics"
   ]
  },
  {
   "cell_type": "code",
   "execution_count": 3,
   "id": "55920ad7",
   "metadata": {},
   "outputs": [
    {
     "data": {
      "text/html": [
       "<div>\n",
       "<style scoped>\n",
       "    .dataframe tbody tr th:only-of-type {\n",
       "        vertical-align: middle;\n",
       "    }\n",
       "\n",
       "    .dataframe tbody tr th {\n",
       "        vertical-align: top;\n",
       "    }\n",
       "\n",
       "    .dataframe thead th {\n",
       "        text-align: right;\n",
       "    }\n",
       "</style>\n",
       "<table border=\"1\" class=\"dataframe\">\n",
       "  <thead>\n",
       "    <tr style=\"text-align: right;\">\n",
       "      <th></th>\n",
       "      <th>Row ID</th>\n",
       "      <th>Order Date</th>\n",
       "      <th>Ship Date</th>\n",
       "      <th>Postal Code</th>\n",
       "      <th>Sales</th>\n",
       "      <th>Quantity</th>\n",
       "      <th>Discount</th>\n",
       "      <th>Profit</th>\n",
       "    </tr>\n",
       "  </thead>\n",
       "  <tbody>\n",
       "    <tr>\n",
       "      <th>count</th>\n",
       "      <td>9994.000000</td>\n",
       "      <td>9994</td>\n",
       "      <td>9994</td>\n",
       "      <td>9994.000000</td>\n",
       "      <td>9994.000000</td>\n",
       "      <td>9994.000000</td>\n",
       "      <td>9994.000000</td>\n",
       "      <td>9994.000000</td>\n",
       "    </tr>\n",
       "    <tr>\n",
       "      <th>mean</th>\n",
       "      <td>4997.500000</td>\n",
       "      <td>2016-04-30 00:07:12.259355648</td>\n",
       "      <td>2016-05-03 23:06:58.571142912</td>\n",
       "      <td>55190.379428</td>\n",
       "      <td>229.858001</td>\n",
       "      <td>3.789574</td>\n",
       "      <td>0.156203</td>\n",
       "      <td>28.656896</td>\n",
       "    </tr>\n",
       "    <tr>\n",
       "      <th>min</th>\n",
       "      <td>1.000000</td>\n",
       "      <td>2014-01-03 00:00:00</td>\n",
       "      <td>2014-01-07 00:00:00</td>\n",
       "      <td>1040.000000</td>\n",
       "      <td>0.444000</td>\n",
       "      <td>1.000000</td>\n",
       "      <td>0.000000</td>\n",
       "      <td>-6599.978000</td>\n",
       "    </tr>\n",
       "    <tr>\n",
       "      <th>25%</th>\n",
       "      <td>2499.250000</td>\n",
       "      <td>2015-05-23 00:00:00</td>\n",
       "      <td>2015-05-27 00:00:00</td>\n",
       "      <td>23223.000000</td>\n",
       "      <td>17.280000</td>\n",
       "      <td>2.000000</td>\n",
       "      <td>0.000000</td>\n",
       "      <td>1.728750</td>\n",
       "    </tr>\n",
       "    <tr>\n",
       "      <th>50%</th>\n",
       "      <td>4997.500000</td>\n",
       "      <td>2016-06-26 00:00:00</td>\n",
       "      <td>2016-06-29 00:00:00</td>\n",
       "      <td>56430.500000</td>\n",
       "      <td>54.490000</td>\n",
       "      <td>3.000000</td>\n",
       "      <td>0.200000</td>\n",
       "      <td>8.666500</td>\n",
       "    </tr>\n",
       "    <tr>\n",
       "      <th>75%</th>\n",
       "      <td>7495.750000</td>\n",
       "      <td>2017-05-14 00:00:00</td>\n",
       "      <td>2017-05-18 00:00:00</td>\n",
       "      <td>90008.000000</td>\n",
       "      <td>209.940000</td>\n",
       "      <td>5.000000</td>\n",
       "      <td>0.200000</td>\n",
       "      <td>29.364000</td>\n",
       "    </tr>\n",
       "    <tr>\n",
       "      <th>max</th>\n",
       "      <td>9994.000000</td>\n",
       "      <td>2017-12-30 00:00:00</td>\n",
       "      <td>2018-01-05 00:00:00</td>\n",
       "      <td>99301.000000</td>\n",
       "      <td>22638.480000</td>\n",
       "      <td>14.000000</td>\n",
       "      <td>0.800000</td>\n",
       "      <td>8399.976000</td>\n",
       "    </tr>\n",
       "    <tr>\n",
       "      <th>std</th>\n",
       "      <td>2885.163629</td>\n",
       "      <td>NaN</td>\n",
       "      <td>NaN</td>\n",
       "      <td>32063.693350</td>\n",
       "      <td>623.245101</td>\n",
       "      <td>2.225110</td>\n",
       "      <td>0.206452</td>\n",
       "      <td>234.260108</td>\n",
       "    </tr>\n",
       "  </tbody>\n",
       "</table>\n",
       "</div>"
      ],
      "text/plain": [
       "            Row ID                     Order Date  \\\n",
       "count  9994.000000                           9994   \n",
       "mean   4997.500000  2016-04-30 00:07:12.259355648   \n",
       "min       1.000000            2014-01-03 00:00:00   \n",
       "25%    2499.250000            2015-05-23 00:00:00   \n",
       "50%    4997.500000            2016-06-26 00:00:00   \n",
       "75%    7495.750000            2017-05-14 00:00:00   \n",
       "max    9994.000000            2017-12-30 00:00:00   \n",
       "std    2885.163629                            NaN   \n",
       "\n",
       "                           Ship Date   Postal Code         Sales     Quantity  \\\n",
       "count                           9994   9994.000000   9994.000000  9994.000000   \n",
       "mean   2016-05-03 23:06:58.571142912  55190.379428    229.858001     3.789574   \n",
       "min              2014-01-07 00:00:00   1040.000000      0.444000     1.000000   \n",
       "25%              2015-05-27 00:00:00  23223.000000     17.280000     2.000000   \n",
       "50%              2016-06-29 00:00:00  56430.500000     54.490000     3.000000   \n",
       "75%              2017-05-18 00:00:00  90008.000000    209.940000     5.000000   \n",
       "max              2018-01-05 00:00:00  99301.000000  22638.480000    14.000000   \n",
       "std                              NaN  32063.693350    623.245101     2.225110   \n",
       "\n",
       "          Discount       Profit  \n",
       "count  9994.000000  9994.000000  \n",
       "mean      0.156203    28.656896  \n",
       "min       0.000000 -6599.978000  \n",
       "25%       0.000000     1.728750  \n",
       "50%       0.200000     8.666500  \n",
       "75%       0.200000    29.364000  \n",
       "max       0.800000  8399.976000  \n",
       "std       0.206452   234.260108  "
      ]
     },
     "execution_count": 3,
     "metadata": {},
     "output_type": "execute_result"
    }
   ],
   "source": [
    "# Menghasilkan statistik deskriptif dari dataset untuk kolom numerik\n",
    "df.describe()"
   ]
  },
  {
   "cell_type": "markdown",
   "id": "4617fd2a",
   "metadata": {},
   "source": [
    "**Dokumentasi dan Interpretasi Hasil**\n",
    "\n",
    "- **Struktur Data**: Dataset ini terdiri dari 9,994 baris dan 21 kolom, mencakup informasi detail mengenai setiap transaksi seperti Order ID, Order Date, dan metrik finansial (`Sales`, `Profit`, `Discount`)"
   ]
  },
  {
   "cell_type": "markdown",
   "id": "7d7ee603",
   "metadata": {},
   "source": [
    "## 3. Missing Value Analysis"
   ]
  },
  {
   "cell_type": "code",
   "execution_count": 4,
   "id": "2bd01864",
   "metadata": {},
   "outputs": [
    {
     "name": "stdout",
     "output_type": "stream",
     "text": [
      "Row ID           0\n",
      "Order ID         0\n",
      "Order Date       0\n",
      "Ship Date        0\n",
      "Ship Mode        0\n",
      "Customer ID      0\n",
      "Customer Name    0\n",
      "Segment          0\n",
      "Country          0\n",
      "City             0\n",
      "State            0\n",
      "Postal Code      0\n",
      "Region           0\n",
      "Product ID       0\n",
      "Category         0\n",
      "Sub-Category     0\n",
      "Product Name     0\n",
      "Sales            0\n",
      "Quantity         0\n",
      "Discount         0\n",
      "Profit           0\n",
      "dtype: int64\n"
     ]
    },
    {
     "data": {
      "text/plain": [
       "<Axes: >"
      ]
     },
     "execution_count": 4,
     "metadata": {},
     "output_type": "execute_result"
    },
    {
     "data": {
      "image/png": "[encoded data removed]",
      "text/plain": [
       "<Figure size 640x480 with 1 Axes>"
      ]
     },
     "metadata": {},
     "output_type": "display_data"
    }
   ],
   "source": [
    "import seaborn as sns\n",
    "\n",
    "# Your code here\n",
    "print(df.isnull().sum())\n",
    "\n",
    "sns.heatmap(df.isnull(),cbar=False)\n"
   ]
  },
  {
   "cell_type": "markdown",
   "id": "5955970e",
   "metadata": {},
   "source": [
    "## 4. Time Series Decomposition"
   ]
  },
  {
   "cell_type": "code",
   "execution_count": 5,
   "id": "a018f258",
   "metadata": {},
   "outputs": [
    {
     "name": "stdout",
     "output_type": "stream",
     "text": [
      "Data Setelah Resampling Mingguan:\n"
     ]
    },
    {
     "data": {
      "text/html": [
       "<div>\n",
       "<style scoped>\n",
       "    .dataframe tbody tr th:only-of-type {\n",
       "        vertical-align: middle;\n",
       "    }\n",
       "\n",
       "    .dataframe tbody tr th {\n",
       "        vertical-align: top;\n",
       "    }\n",
       "\n",
       "    .dataframe thead th {\n",
       "        text-align: right;\n",
       "    }\n",
       "</style>\n",
       "<table border=\"1\" class=\"dataframe\">\n",
       "  <thead>\n",
       "    <tr style=\"text-align: right;\">\n",
       "      <th></th>\n",
       "      <th>Sales</th>\n",
       "      <th>Quantity</th>\n",
       "      <th>Discount</th>\n",
       "    </tr>\n",
       "    <tr>\n",
       "      <th>Order Date</th>\n",
       "      <th></th>\n",
       "      <th></th>\n",
       "      <th></th>\n",
       "    </tr>\n",
       "  </thead>\n",
       "  <tbody>\n",
       "    <tr>\n",
       "      <th>2014-01-05</th>\n",
       "      <td>324.044</td>\n",
       "      <td>13</td>\n",
       "      <td>0.320000</td>\n",
       "    </tr>\n",
       "    <tr>\n",
       "      <th>2014-01-12</th>\n",
       "      <td>4599.572</td>\n",
       "      <td>49</td>\n",
       "      <td>0.112500</td>\n",
       "    </tr>\n",
       "    <tr>\n",
       "      <th>2014-01-19</th>\n",
       "      <td>4509.127</td>\n",
       "      <td>99</td>\n",
       "      <td>0.229545</td>\n",
       "    </tr>\n",
       "    <tr>\n",
       "      <th>2014-01-26</th>\n",
       "      <td>3842.388</td>\n",
       "      <td>108</td>\n",
       "      <td>0.034483</td>\n",
       "    </tr>\n",
       "    <tr>\n",
       "      <th>2014-02-02</th>\n",
       "      <td>1642.310</td>\n",
       "      <td>33</td>\n",
       "      <td>0.131818</td>\n",
       "    </tr>\n",
       "  </tbody>\n",
       "</table>\n",
       "</div>"
      ],
      "text/plain": [
       "               Sales  Quantity  Discount\n",
       "Order Date                              \n",
       "2014-01-05   324.044        13  0.320000\n",
       "2014-01-12  4599.572        49  0.112500\n",
       "2014-01-19  4509.127        99  0.229545\n",
       "2014-01-26  3842.388       108  0.034483\n",
       "2014-02-02  1642.310        33  0.131818"
      ]
     },
     "metadata": {},
     "output_type": "display_data"
    }
   ],
   "source": [
    "# Data Preprocessing\n",
    "# Mengatur 'Order Date' sebagai index dan memastikan tipenya adalah datetime\n",
    "df['Order Date'] = pd.to_datetime(df['Order Date'])\n",
    "df.set_index('Order Date', inplace=True)\n",
    "\n",
    "# Resampling data ke frekuensi mingguan ('W')\n",
    "weekly_df = pd.DataFrame()\n",
    "weekly_df['Sales'] = df['Sales'].resample('W').sum()\n",
    "weekly_df['Quantity'] = df['Quantity'].resample('W').sum()\n",
    "weekly_df['Discount'] = df['Discount'].resample('W').mean()\n",
    "\n",
    "# Mengisi nilai NaN yang mungkin muncul setelah resampling dengan 0\n",
    "weekly_df.fillna(0, inplace=True)\n",
    "\n",
    "print(\"Data Setelah Resampling Mingguan:\")\n",
    "display(weekly_df.head())"
   ]
  },
  {
   "cell_type": "code",
   "execution_count": 10,
   "id": "212d6c6c",
   "metadata": {},
   "outputs": [
    {
     "data": {
      "application/vnd.plotly.v1+json": {
       "config": {
        "plotlyServerURL": "https://plot.ly"
       },
       "data": [
        {
         "name": "Observed",
         "type": "scatter",
         "x": [
          "2014-01-05T00:00:00.000000000",
          "2014-01-12T00:00:00.000000000",
          "2014-01-19T00:00:00.000000000",
          "2014-01-26T00:00:00.000000000",
          "2014-02-02T00:00:00.000000000",
          "2014-02-09T00:00:00.000000000",
          "2014-02-16T00:00:00.000000000",
          "2014-02-23T00:00:00.000000000",
          "2014-03-02T00:00:00.000000000",
          "2014-03-09T00:00:00.000000000",
          "2014-03-16T00:00:00.000000000",
          "2014-03-23T00:00:00.000000000",
          "2014-03-30T00:00:00.000000000",
          "2014-04-06T00:00:00.000000000",
          "2014-04-13T00:00:00.000000000",
          "2014-04-20T00:00:00.000000000",
          "2014-04-27T00:00:00.000000000",
          "2014-05-04T00:00:00.000000000",
          "2014-05-11T00:00:00.000000000",
          "2014-05-18T00:00:00.000000000",
          "2014-05-25T00:00:00.000000000",
          "2014-06-01T00:00:00.000000000",
          "2014-06-08T00:00:00.000000000",
          "2014-06-15T00:00:00.000000000",
          "2014-06-22T00:00:00.000000000",
          "2014-06-29T00:00:00.000000000",
          "2014-07-06T00:00:00.000000000",
          "2014-07-13T00:00:00.000000000",
          "2014-07-20T00:00:00.000000000",
          "2014-07-27T00:00:00.000000000",
          "2014-08-03T00:00:00.000000000",
          "2014-08-10T00:00:00.000000000",
          "2014-08-17T00:00:00.000000000",
          "2014-08-24T00:00:00.000000000",
          "2014-08-31T00:00:00.000000000",
          "2014-09-07T00:00:00.000000000",
          "2014-09-14T00:00:00.000000000",
          "2014-09-21T00:00:00.000000000",
          "2014-09-28T00:00:00.000000000",
          "2014-10-05T00:00:00.000000000",
          "2014-10-12T00:00:00.000000000",
          "2014-10-19T00:00:00.000000000",
          "2014-10-26T00:00:00.000000000",
          "2014-11-02T00:00:00.000000000",
          "2014-11-09T00:00:00.000000000",
          "2014-11-16T00:00:00.000000000",
          "2014-11-23T00:00:00.000000000",
          "2014-11-30T00:00:00.000000000",
          "2014-12-07T00:00:00.000000000",
          "2014-12-14T00:00:00.000000000",
          "2014-12-21T00:00:00.000000000",
          "2014-12-28T00:00:00.000000000",
          "2015-01-04T00:00:00.000000000",
          "2015-01-11T00:00:00.000000000",
          "2015-01-18T00:00:00.000000000",
          "2015-01-25T00:00:00.000000000",
          "2015-02-01T00:00:00.000000000",
          "2015-02-08T00:00:00.000000000",
          "2015-02-15T00:00:00.000000000",
          "2015-02-22T00:00:00.000000000",
          "2015-03-01T00:00:00.000000000",
          "2015-03-08T00:00:00.000000000",
          "2015-03-15T00:00:00.000000000",
          "2015-03-22T00:00:00.000000000",
          "2015-03-29T00:00:00.000000000",
          "2015-04-05T00:00:00.000000000",
          "2015-04-12T00:00:00.000000000",
          "2015-04-19T00:00:00.000000000",
          "2015-04-26T00:00:00.000000000",
          "2015-05-03T00:00:00.000000000",
          "2015-05-10T00:00:00.000000000",
          "2015-05-17T00:00:00.000000000",
          "2015-05-24T00:00:00.000000000",
          "2015-05-31T00:00:00.000000000",
          "2015-06-07T00:00:00.000000000",
          "2015-06-14T00:00:00.000000000",
          "2015-06-21T00:00:00.000000000",
          "2015-06-28T00:00:00.000000000",
          "2015-07-05T00:00:00.000000000",
          "2015-07-12T00:00:00.000000000",
          "2015-07-19T00:00:00.000000000",
          "2015-07-26T00:00:00.000000000",
          "2015-08-02T00:00:00.000000000",
          "2015-08-09T00:00:00.000000000",
          "2015-08-16T00:00:00.000000000",
          "2015-08-23T00:00:00.000000000",
          "2015-08-30T00:00:00.000000000",
          "2015-09-06T00:00:00.000000000",
          "2015-09-13T00:00:00.000000000",
          "2015-09-20T00:00:00.000000000",
          "2015-09-27T00:00:00.000000000",
          "2015-10-04T00:00:00.000000000",
          "2015-10-11T00:00:00.000000000",
          "2015-10-18T00:00:00.000000000",
          "2015-10-25T00:00:00.000000000",
          "2015-11-01T00:00:00.000000000",
          "2015-11-08T00:00:00.000000000",
          "2015-11-15T00:00:00.000000000",
          "2015-11-22T00:00:00.000000000",
          "2015-11-29T00:00:00.000000000",
          "2015-12-06T00:00:00.000000000",
          "2015-12-13T00:00:00.000000000",
          "2015-12-20T00:00:00.000000000",
          "2015-12-27T00:00:00.000000000",
          "2016-01-03T00:00:00.000000000",
          "2016-01-10T00:00:00.000000000",
          "2016-01-17T00:00:00.000000000",
          "2016-01-24T00:00:00.000000000",
          "2016-01-31T00:00:00.000000000",
          "2016-02-07T00:00:00.000000000",
          "2016-02-14T00:00:00.000000000",
          "2016-02-21T00:00:00.000000000",
          "2016-02-28T00:00:00.000000000",
          "2016-03-06T00:00:00.000000000",
          "2016-03-13T00:00:00.000000000",
          "2016-03-20T00:00:00.000000000",
          "2016-03-27T00:00:00.000000000",
          "2016-04-03T00:00:00.000000000",
          "2016-04-10T00:00:00.000000000",
          "2016-04-17T00:00:00.000000000",
          "2016-04-24T00:00:00.000000000",
          "2016-05-01T00:00:00.000000000",
          "2016-05-08T00:00:00.000000000",
          "2016-05-15T00:00:00.000000000",
          "2016-05-22T00:00:00.000000000",
          "2016-05-29T00:00:00.000000000",
          "2016-06-05T00:00:00.000000000",
          "2016-06-12T00:00:00.000000000",
          "2016-06-19T00:00:00.000000000",
          "2016-06-26T00:00:00.000000000",
          "2016-07-03T00:00:00.000000000",
          "2016-07-10T00:00:00.000000000",
          "2016-07-17T00:00:00.000000000",
          "2016-07-24T00:00:00.000000000",
          "2016-07-31T00:00:00.000000000",
          "2016-08-07T00:00:00.000000000",
          "2016-08-14T00:00:00.000000000",
          "2016-08-21T00:00:00.000000000",
          "2016-08-28T00:00:00.000000000",
          "2016-09-04T00:00:00.000000000",
          "2016-09-11T00:00:00.000000000",
          "2016-09-18T00:00:00.000000000",
          "2016-09-25T00:00:00.000000000",
          "2016-10-02T00:00:00.000000000",
          "2016-10-09T00:00:00.000000000",
          "2016-10-16T00:00:00.000000000",
          "2016-10-23T00:00:00.000000000",
          "2016-10-30T00:00:00.000000000",
          "2016-11-06T00:00:00.000000000",
          "2016-11-13T00:00:00.000000000",
          "2016-11-20T00:00:00.000000000",
          "2016-11-27T00:00:00.000000000",
          "2016-12-04T00:00:00.000000000",
          "2016-12-11T00:00:00.000000000",
          "2016-12-18T00:00:00.000000000",
          "2016-12-25T00:00:00.000000000",
          "2017-01-01T00:00:00.000000000",
          "2017-01-08T00:00:00.000000000",
          "2017-01-15T00:00:00.000000000",
          "2017-01-22T00:00:00.000000000",
          "2017-01-29T00:00:00.000000000",
          "2017-02-05T00:00:00.000000000",
          "2017-02-12T00:00:00.000000000",
          "2017-02-19T00:00:00.000000000",
          "2017-02-26T00:00:00.000000000",
          "2017-03-05T00:00:00.000000000",
          "2017-03-12T00:00:00.000000000",
          "2017-03-19T00:00:00.000000000",
          "2017-03-26T00:00:00.000000000",
          "2017-04-02T00:00:00.000000000",
          "2017-04-09T00:00:00.000000000",
          "2017-04-16T00:00:00.000000000",
          "2017-04-23T00:00:00.000000000",
          "2017-04-30T00:00:00.000000000",
          "2017-05-07T00:00:00.000000000",
          "2017-05-14T00:00:00.000000000",
          "2017-05-21T00:00:00.000000000",
          "2017-05-28T00:00:00.000000000",
          "2017-06-04T00:00:00.000000000",
          "2017-06-11T00:00:00.000000000",
          "2017-06-18T00:00:00.000000000",
          "2017-06-25T00:00:00.000000000",
          "2017-07-02T00:00:00.000000000",
          "2017-07-09T00:00:00.000000000",
          "2017-07-16T00:00:00.000000000",
          "2017-07-23T00:00:00.000000000",
          "2017-07-30T00:00:00.000000000",
          "2017-08-06T00:00:00.000000000",
          "2017-08-13T00:00:00.000000000",
          "2017-08-20T00:00:00.000000000",
          "2017-08-27T00:00:00.000000000",
          "2017-09-03T00:00:00.000000000",
          "2017-09-10T00:00:00.000000000",
          "2017-09-17T00:00:00.000000000",
          "2017-09-24T00:00:00.000000000",
          "2017-10-01T00:00:00.000000000",
          "2017-10-08T00:00:00.000000000",
          "2017-10-15T00:00:00.000000000",
          "2017-10-22T00:00:00.000000000",
          "2017-10-29T00:00:00.000000000",
          "2017-11-05T00:00:00.000000000",
          "2017-11-12T00:00:00.000000000",
          "2017-11-19T00:00:00.000000000",
          "2017-11-26T00:00:00.000000000",
          "2017-12-03T00:00:00.000000000",
          "2017-12-10T00:00:00.000000000",
          "2017-12-17T00:00:00.000000000",
          "2017-12-24T00:00:00.000000000",
          "2017-12-31T00:00:00.000000000"
         ],
         "xaxis": "x",
         "y": {
          "bdata": "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",
          "dtype": "f8"
         },
         "yaxis": "y"
        },
        {
         "name": "Trend",
         "type": "scatter",
         "x": [
          "2014-01-05T00:00:00.000000000",
          "2014-01-12T00:00:00.000000000",
          "2014-01-19T00:00:00.000000000",
          "2014-01-26T00:00:00.000000000",
          "2014-02-02T00:00:00.000000000",
          "2014-02-09T00:00:00.000000000",
          "2014-02-16T00:00:00.000000000",
          "2014-02-23T00:00:00.000000000",
          "2014-03-02T00:00:00.000000000",
          "2014-03-09T00:00:00.000000000",
          "2014-03-16T00:00:00.000000000",
          "2014-03-23T00:00:00.000000000",
          "2014-03-30T00:00:00.000000000",
          "2014-04-06T00:00:00.000000000",
          "2014-04-13T00:00:00.000000000",
          "2014-04-20T00:00:00.000000000",
          "2014-04-27T00:00:00.000000000",
          "2014-05-04T00:00:00.000000000",
          "2014-05-11T00:00:00.000000000",
          "2014-05-18T00:00:00.000000000",
          "2014-05-25T00:00:00.000000000",
          "2014-06-01T00:00:00.000000000",
          "2014-06-08T00:00:00.000000000",
          "2014-06-15T00:00:00.000000000",
          "2014-06-22T00:00:00.000000000",
          "2014-06-29T00:00:00.000000000",
          "2014-07-06T00:00:00.000000000",
          "2014-07-13T00:00:00.000000000",
          "2014-07-20T00:00:00.000000000",
          "2014-07-27T00:00:00.000000000",
          "2014-08-03T00:00:00.000000000",
          "2014-08-10T00:00:00.000000000",
          "2014-08-17T00:00:00.000000000",
          "2014-08-24T00:00:00.000000000",
          "2014-08-31T00:00:00.000000000",
          "2014-09-07T00:00:00.000000000",
          "2014-09-14T00:00:00.000000000",
          "2014-09-21T00:00:00.000000000",
          "2014-09-28T00:00:00.000000000",
          "2014-10-05T00:00:00.000000000",
          "2014-10-12T00:00:00.000000000",
          "2014-10-19T00:00:00.000000000",
          "2014-10-26T00:00:00.000000000",
          "2014-11-02T00:00:00.000000000",
          "2014-11-09T00:00:00.000000000",
          "2014-11-16T00:00:00.000000000",
          "2014-11-23T00:00:00.000000000",
          "2014-11-30T00:00:00.000000000",
          "2014-12-07T00:00:00.000000000",
          "2014-12-14T00:00:00.000000000",
          "2014-12-21T00:00:00.000000000",
          "2014-12-28T00:00:00.000000000",
          "2015-01-04T00:00:00.000000000",
          "2015-01-11T00:00:00.000000000",
          "2015-01-18T00:00:00.000000000",
          "2015-01-25T00:00:00.000000000",
          "2015-02-01T00:00:00.000000000",
          "2015-02-08T00:00:00.000000000",
          "2015-02-15T00:00:00.000000000",
          "2015-02-22T00:00:00.000000000",
          "2015-03-01T00:00:00.000000000",
          "2015-03-08T00:00:00.000000000",
          "2015-03-15T00:00:00.000000000",
          "2015-03-22T00:00:00.000000000",
          "2015-03-29T00:00:00.000000000",
          "2015-04-05T00:00:00.000000000",
          "2015-04-12T00:00:00.000000000",
          "2015-04-19T00:00:00.000000000",
          "2015-04-26T00:00:00.000000000",
          "2015-05-03T00:00:00.000000000",
          "2015-05-10T00:00:00.000000000",
          "2015-05-17T00:00:00.000000000",
          "2015-05-24T00:00:00.000000000",
          "2015-05-31T00:00:00.000000000",
          "2015-06-07T00:00:00.000000000",
          "2015-06-14T00:00:00.000000000",
          "2015-06-21T00:00:00.000000000",
          "2015-06-28T00:00:00.000000000",
          "2015-07-05T00:00:00.000000000",
          "2015-07-12T00:00:00.000000000",
          "2015-07-19T00:00:00.000000000",
          "2015-07-26T00:00:00.000000000",
          "2015-08-02T00:00:00.000000000",
          "2015-08-09T00:00:00.000000000",
          "2015-08-16T00:00:00.000000000",
          "2015-08-23T00:00:00.000000000",
          "2015-08-30T00:00:00.000000000",
          "2015-09-06T00:00:00.000000000",
          "2015-09-13T00:00:00.000000000",
          "2015-09-20T00:00:00.000000000",
          "2015-09-27T00:00:00.000000000",
          "2015-10-04T00:00:00.000000000",
          "2015-10-11T00:00:00.000000000",
          "2015-10-18T00:00:00.000000000",
          "2015-10-25T00:00:00.000000000",
          "2015-11-01T00:00:00.000000000",
          "2015-11-08T00:00:00.000000000",
          "2015-11-15T00:00:00.000000000",
          "2015-11-22T00:00:00.000000000",
          "2015-11-29T00:00:00.000000000",
          "2015-12-06T00:00:00.000000000",
          "2015-12-13T00:00:00.000000000",
          "2015-12-20T00:00:00.000000000",
          "2015-12-27T00:00:00.000000000",
          "2016-01-03T00:00:00.000000000",
          "2016-01-10T00:00:00.000000000",
          "2016-01-17T00:00:00.000000000",
          "2016-01-24T00:00:00.000000000",
          "2016-01-31T00:00:00.000000000",
          "2016-02-07T00:00:00.000000000",
          "2016-02-14T00:00:00.000000000",
          "2016-02-21T00:00:00.000000000",
          "2016-02-28T00:00:00.000000000",
          "2016-03-06T00:00:00.000000000",
          "2016-03-13T00:00:00.000000000",
          "2016-03-20T00:00:00.000000000",
          "2016-03-27T00:00:00.000000000",
          "2016-04-03T00:00:00.000000000",
          "2016-04-10T00:00:00.000000000",
          "2016-04-17T00:00:00.000000000",
          "2016-04-24T00:00:00.000000000",
          "2016-05-01T00:00:00.000000000",
          "2016-05-08T00:00:00.000000000",
          "2016-05-15T00:00:00.000000000",
          "2016-05-22T00:00:00.000000000",
          "2016-05-29T00:00:00.000000000",
          "2016-06-05T00:00:00.000000000",
          "2016-06-12T00:00:00.000000000",
          "2016-06-19T00:00:00.000000000",
          "2016-06-26T00:00:00.000000000",
          "2016-07-03T00:00:00.000000000",
          "2016-07-10T00:00:00.000000000",
          "2016-07-17T00:00:00.000000000",
          "2016-07-24T00:00:00.000000000",
          "2016-07-31T00:00:00.000000000",
          "2016-08-07T00:00:00.000000000",
          "2016-08-14T00:00:00.000000000",
          "2016-08-21T00:00:00.000000000",
          "2016-08-28T00:00:00.000000000",
          "2016-09-04T00:00:00.000000000",
          "2016-09-11T00:00:00.000000000",
          "2016-09-18T00:00:00.000000000",
          "2016-09-25T00:00:00.000000000",
          "2016-10-02T00:00:00.000000000",
          "2016-10-09T00:00:00.000000000",
          "2016-10-16T00:00:00.000000000",
          "2016-10-23T00:00:00.000000000",
          "2016-10-30T00:00:00.000000000",
          "2016-11-06T00:00:00.000000000",
          "2016-11-13T00:00:00.000000000",
          "2016-11-20T00:00:00.000000000",
          "2016-11-27T00:00:00.000000000",
          "2016-12-04T00:00:00.000000000",
          "2016-12-11T00:00:00.000000000",
          "2016-12-18T00:00:00.000000000",
          "2016-12-25T00:00:00.000000000",
          "2017-01-01T00:00:00.000000000",
          "2017-01-08T00:00:00.000000000",
          "2017-01-15T00:00:00.000000000",
          "2017-01-22T00:00:00.000000000",
          "2017-01-29T00:00:00.000000000",
          "2017-02-05T00:00:00.000000000",
          "2017-02-12T00:00:00.000000000",
          "2017-02-19T00:00:00.000000000",
          "2017-02-26T00:00:00.000000000",
          "2017-03-05T00:00:00.000000000",
          "2017-03-12T00:00:00.000000000",
          "2017-03-19T00:00:00.000000000",
          "2017-03-26T00:00:00.000000000",
          "2017-04-02T00:00:00.000000000",
          "2017-04-09T00:00:00.000000000",
          "2017-04-16T00:00:00.000000000",
          "2017-04-23T00:00:00.000000000",
          "2017-04-30T00:00:00.000000000",
          "2017-05-07T00:00:00.000000000",
          "2017-05-14T00:00:00.000000000",
          "2017-05-21T00:00:00.000000000",
          "2017-05-28T00:00:00.000000000",
          "2017-06-04T00:00:00.000000000",
          "2017-06-11T00:00:00.000000000",
          "2017-06-18T00:00:00.000000000",
          "2017-06-25T00:00:00.000000000",
          "2017-07-02T00:00:00.000000000",
          "2017-07-09T00:00:00.000000000",
          "2017-07-16T00:00:00.000000000",
          "2017-07-23T00:00:00.000000000",
          "2017-07-30T00:00:00.000000000",
          "2017-08-06T00:00:00.000000000",
          "2017-08-13T00:00:00.000000000",
          "2017-08-20T00:00:00.000000000",
          "2017-08-27T00:00:00.000000000",
          "2017-09-03T00:00:00.000000000",
          "2017-09-10T00:00:00.000000000",
          "2017-09-17T00:00:00.000000000",
          "2017-09-24T00:00:00.000000000",
          "2017-10-01T00:00:00.000000000",
          "2017-10-08T00:00:00.000000000",
          "2017-10-15T00:00:00.000000000",
          "2017-10-22T00:00:00.000000000",
          "2017-10-29T00:00:00.000000000",
          "2017-11-05T00:00:00.000000000",
          "2017-11-12T00:00:00.000000000",
          "2017-11-19T00:00:00.000000000",
          "2017-11-26T00:00:00.000000000",
          "2017-12-03T00:00:00.000000000",
          "2017-12-10T00:00:00.000000000",
          "2017-12-17T00:00:00.000000000",
          "2017-12-24T00:00:00.000000000",
          "2017-12-31T00:00:00.000000000"
         ],
         "xaxis": "x2",
         "y": {
          "bdata": "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",
          "dtype": "f8"
         },
         "yaxis": "y2"
        },
        {
         "name": "Seasonal",
         "type": "scatter",
         "x": [
          "2014-01-05T00:00:00.000000000",
          "2014-01-12T00:00:00.000000000",
          "2014-01-19T00:00:00.000000000",
          "2014-01-26T00:00:00.000000000",
          "2014-02-02T00:00:00.000000000",
          "2014-02-09T00:00:00.000000000",
          "2014-02-16T00:00:00.000000000",
          "2014-02-23T00:00:00.000000000",
          "2014-03-02T00:00:00.000000000",
          "2014-03-09T00:00:00.000000000",
          "2014-03-16T00:00:00.000000000",
          "2014-03-23T00:00:00.000000000",
          "2014-03-30T00:00:00.000000000",
          "2014-04-06T00:00:00.000000000",
          "2014-04-13T00:00:00.000000000",
          "2014-04-20T00:00:00.000000000",
          "2014-04-27T00:00:00.000000000",
          "2014-05-04T00:00:00.000000000",
          "2014-05-11T00:00:00.000000000",
          "2014-05-18T00:00:00.000000000",
          "2014-05-25T00:00:00.000000000",
          "2014-06-01T00:00:00.000000000",
          "2014-06-08T00:00:00.000000000",
          "2014-06-15T00:00:00.000000000",
          "2014-06-22T00:00:00.000000000",
          "2014-06-29T00:00:00.000000000",
          "2014-07-06T00:00:00.000000000",
          "2014-07-13T00:00:00.000000000",
          "2014-07-20T00:00:00.000000000",
          "2014-07-27T00:00:00.000000000",
          "2014-08-03T00:00:00.000000000",
          "2014-08-10T00:00:00.000000000",
          "2014-08-17T00:00:00.000000000",
          "2014-08-24T00:00:00.000000000",
          "2014-08-31T00:00:00.000000000",
          "2014-09-07T00:00:00.000000000",
          "2014-09-14T00:00:00.000000000",
          "2014-09-21T00:00:00.000000000",
          "2014-09-28T00:00:00.000000000",
          "2014-10-05T00:00:00.000000000",
          "2014-10-12T00:00:00.000000000",
          "2014-10-19T00:00:00.000000000",
          "2014-10-26T00:00:00.000000000",
          "2014-11-02T00:00:00.000000000",
          "2014-11-09T00:00:00.000000000",
          "2014-11-16T00:00:00.000000000",
          "2014-11-23T00:00:00.000000000",
          "2014-11-30T00:00:00.000000000",
          "2014-12-07T00:00:00.000000000",
          "2014-12-14T00:00:00.000000000",
          "2014-12-21T00:00:00.000000000",
          "2014-12-28T00:00:00.000000000",
          "2015-01-04T00:00:00.000000000",
          "2015-01-11T00:00:00.000000000",
          "2015-01-18T00:00:00.000000000",
          "2015-01-25T00:00:00.000000000",
          "2015-02-01T00:00:00.000000000",
          "2015-02-08T00:00:00.000000000",
          "2015-02-15T00:00:00.000000000",
          "2015-02-22T00:00:00.000000000",
          "2015-03-01T00:00:00.000000000",
          "2015-03-08T00:00:00.000000000",
          "2015-03-15T00:00:00.000000000",
          "2015-03-22T00:00:00.000000000",
          "2015-03-29T00:00:00.000000000",
          "2015-04-05T00:00:00.000000000",
          "2015-04-12T00:00:00.000000000",
          "2015-04-19T00:00:00.000000000",
          "2015-04-26T00:00:00.000000000",
          "2015-05-03T00:00:00.000000000",
          "2015-05-10T00:00:00.000000000",
          "2015-05-17T00:00:00.000000000",
          "2015-05-24T00:00:00.000000000",
          "2015-05-31T00:00:00.000000000",
          "2015-06-07T00:00:00.000000000",
          "2015-06-14T00:00:00.000000000",
          "2015-06-21T00:00:00.000000000",
          "2015-06-28T00:00:00.000000000",
          "2015-07-05T00:00:00.000000000",
          "2015-07-12T00:00:00.000000000",
          "2015-07-19T00:00:00.000000000",
          "2015-07-26T00:00:00.000000000",
          "2015-08-02T00:00:00.000000000",
          "2015-08-09T00:00:00.000000000",
          "2015-08-16T00:00:00.000000000",
          "2015-08-23T00:00:00.000000000",
          "2015-08-30T00:00:00.000000000",
          "2015-09-06T00:00:00.000000000",
          "2015-09-13T00:00:00.000000000",
          "2015-09-20T00:00:00.000000000",
          "2015-09-27T00:00:00.000000000",
          "2015-10-04T00:00:00.000000000",
          "2015-10-11T00:00:00.000000000",
          "2015-10-18T00:00:00.000000000",
          "2015-10-25T00:00:00.000000000",
          "2015-11-01T00:00:00.000000000",
          "2015-11-08T00:00:00.000000000",
          "2015-11-15T00:00:00.000000000",
          "2015-11-22T00:00:00.000000000",
          "2015-11-29T00:00:00.000000000",
          "2015-12-06T00:00:00.000000000",
          "2015-12-13T00:00:00.000000000",
          "2015-12-20T00:00:00.000000000",
          "2015-12-27T00:00:00.000000000",
          "2016-01-03T00:00:00.000000000",
          "2016-01-10T00:00:00.000000000",
          "2016-01-17T00:00:00.000000000",
          "2016-01-24T00:00:00.000000000",
          "2016-01-31T00:00:00.000000000",
          "2016-02-07T00:00:00.000000000",
          "2016-02-14T00:00:00.000000000",
          "2016-02-21T00:00:00.000000000",
          "2016-02-28T00:00:00.000000000",
          "2016-03-06T00:00:00.000000000",
          "2016-03-13T00:00:00.000000000",
          "2016-03-20T00:00:00.000000000",
          "2016-03-27T00:00:00.000000000",
          "2016-04-03T00:00:00.000000000",
          "2016-04-10T00:00:00.000000000",
          "2016-04-17T00:00:00.000000000",
          "2016-04-24T00:00:00.000000000",
          "2016-05-01T00:00:00.000000000",
          "2016-05-08T00:00:00.000000000",
          "2016-05-15T00:00:00.000000000",
          "2016-05-22T00:00:00.000000000",
          "2016-05-29T00:00:00.000000000",
          "2016-06-05T00:00:00.000000000",
          "2016-06-12T00:00:00.000000000",
          "2016-06-19T00:00:00.000000000",
          "2016-06-26T00:00:00.000000000",
          "2016-07-03T00:00:00.000000000",
          "2016-07-10T00:00:00.000000000",
          "2016-07-17T00:00:00.000000000",
          "2016-07-24T00:00:00.000000000",
          "2016-07-31T00:00:00.000000000",
          "2016-08-07T00:00:00.000000000",
          "2016-08-14T00:00:00.000000000",
          "2016-08-21T00:00:00.000000000",
          "2016-08-28T00:00:00.000000000",
          "2016-09-04T00:00:00.000000000",
          "2016-09-11T00:00:00.000000000",
          "2016-09-18T00:00:00.000000000",
          "2016-09-25T00:00:00.000000000",
          "2016-10-02T00:00:00.000000000",
          "2016-10-09T00:00:00.000000000",
          "2016-10-16T00:00:00.000000000",
          "2016-10-23T00:00:00.000000000",
          "2016-10-30T00:00:00.000000000",
          "2016-11-06T00:00:00.000000000",
          "2016-11-13T00:00:00.000000000",
          "2016-11-20T00:00:00.000000000",
          "2016-11-27T00:00:00.000000000",
          "2016-12-04T00:00:00.000000000",
          "2016-12-11T00:00:00.000000000",
          "2016-12-18T00:00:00.000000000",
          "2016-12-25T00:00:00.000000000",
          "2017-01-01T00:00:00.000000000",
          "2017-01-08T00:00:00.000000000",
          "2017-01-15T00:00:00.000000000",
          "2017-01-22T00:00:00.000000000",
          "2017-01-29T00:00:00.000000000",
          "2017-02-05T00:00:00.000000000",
          "2017-02-12T00:00:00.000000000",
          "2017-02-19T00:00:00.000000000",
          "2017-02-26T00:00:00.000000000",
          "2017-03-05T00:00:00.000000000",
          "2017-03-12T00:00:00.000000000",
          "2017-03-19T00:00:00.000000000",
          "2017-03-26T00:00:00.000000000",
          "2017-04-02T00:00:00.000000000",
          "2017-04-09T00:00:00.000000000",
          "2017-04-16T00:00:00.000000000",
          "2017-04-23T00:00:00.000000000",
          "2017-04-30T00:00:00.000000000",
          "2017-05-07T00:00:00.000000000",
          "2017-05-14T00:00:00.000000000",
          "2017-05-21T00:00:00.000000000",
          "2017-05-28T00:00:00.000000000",
          "2017-06-04T00:00:00.000000000",
          "2017-06-11T00:00:00.000000000",
          "2017-06-18T00:00:00.000000000",
          "2017-06-25T00:00:00.000000000",
          "2017-07-02T00:00:00.000000000",
          "2017-07-09T00:00:00.000000000",
          "2017-07-16T00:00:00.000000000",
          "2017-07-23T00:00:00.000000000",
          "2017-07-30T00:00:00.000000000",
          "2017-08-06T00:00:00.000000000",
          "2017-08-13T00:00:00.000000000",
          "2017-08-20T00:00:00.000000000",
          "2017-08-27T00:00:00.000000000",
          "2017-09-03T00:00:00.000000000",
          "2017-09-10T00:00:00.000000000",
          "2017-09-17T00:00:00.000000000",
          "2017-09-24T00:00:00.000000000",
          "2017-10-01T00:00:00.000000000",
          "2017-10-08T00:00:00.000000000",
          "2017-10-15T00:00:00.000000000",
          "2017-10-22T00:00:00.000000000",
          "2017-10-29T00:00:00.000000000",
          "2017-11-05T00:00:00.000000000",
          "2017-11-12T00:00:00.000000000",
          "2017-11-19T00:00:00.000000000",
          "2017-11-26T00:00:00.000000000",
          "2017-12-03T00:00:00.000000000",
          "2017-12-10T00:00:00.000000000",
          "2017-12-17T00:00:00.000000000",
          "2017-12-24T00:00:00.000000000",
          "2017-12-31T00:00:00.000000000"
         ],
         "xaxis": "x3",
         "y": {
          "bdata": "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",
          "dtype": "f8"
         },
         "yaxis": "y3"
        },
        {
         "mode": "markers",
         "name": "Residual",
         "type": "scatter",
         "x": [
          "2014-01-05T00:00:00.000000000",
          "2014-01-12T00:00:00.000000000",
          "2014-01-19T00:00:00.000000000",
          "2014-01-26T00:00:00.000000000",
          "2014-02-02T00:00:00.000000000",
          "2014-02-09T00:00:00.000000000",
          "2014-02-16T00:00:00.000000000",
          "2014-02-23T00:00:00.000000000",
          "2014-03-02T00:00:00.000000000",
          "2014-03-09T00:00:00.000000000",
          "2014-03-16T00:00:00.000000000",
          "2014-03-23T00:00:00.000000000",
          "2014-03-30T00:00:00.000000000",
          "2014-04-06T00:00:00.000000000",
          "2014-04-13T00:00:00.000000000",
          "2014-04-20T00:00:00.000000000",
          "2014-04-27T00:00:00.000000000",
          "2014-05-04T00:00:00.000000000",
          "2014-05-11T00:00:00.000000000",
          "2014-05-18T00:00:00.000000000",
          "2014-05-25T00:00:00.000000000",
          "2014-06-01T00:00:00.000000000",
          "2014-06-08T00:00:00.000000000",
          "2014-06-15T00:00:00.000000000",
          "2014-06-22T00:00:00.000000000",
          "2014-06-29T00:00:00.000000000",
          "2014-07-06T00:00:00.000000000",
          "2014-07-13T00:00:00.000000000",
          "2014-07-20T00:00:00.000000000",
          "2014-07-27T00:00:00.000000000",
          "2014-08-03T00:00:00.000000000",
          "2014-08-10T00:00:00.000000000",
          "2014-08-17T00:00:00.000000000",
          "2014-08-24T00:00:00.000000000",
          "2014-08-31T00:00:00.000000000",
          "2014-09-07T00:00:00.000000000",
          "2014-09-14T00:00:00.000000000",
          "2014-09-21T00:00:00.000000000",
          "2014-09-28T00:00:00.000000000",
          "2014-10-05T00:00:00.000000000",
          "2014-10-12T00:00:00.000000000",
          "2014-10-19T00:00:00.000000000",
          "2014-10-26T00:00:00.000000000",
          "2014-11-02T00:00:00.000000000",
          "2014-11-09T00:00:00.000000000",
          "2014-11-16T00:00:00.000000000",
          "2014-11-23T00:00:00.000000000",
          "2014-11-30T00:00:00.000000000",
          "2014-12-07T00:00:00.000000000",
          "2014-12-14T00:00:00.000000000",
          "2014-12-21T00:00:00.000000000",
          "2014-12-28T00:00:00.000000000",
          "2015-01-04T00:00:00.000000000",
          "2015-01-11T00:00:00.000000000",
          "2015-01-18T00:00:00.000000000",
          "2015-01-25T00:00:00.000000000",
          "2015-02-01T00:00:00.000000000",
          "2015-02-08T00:00:00.000000000",
          "2015-02-15T00:00:00.000000000",
          "2015-02-22T00:00:00.000000000",
          "2015-03-01T00:00:00.000000000",
          "2015-03-08T00:00:00.000000000",
          "2015-03-15T00:00:00.000000000",
          "2015-03-22T00:00:00.000000000",
          "2015-03-29T00:00:00.000000000",
          "2015-04-05T00:00:00.000000000",
          "2015-04-12T00:00:00.000000000",
          "2015-04-19T00:00:00.000000000",
          "2015-04-26T00:00:00.000000000",
          "2015-05-03T00:00:00.000000000",
          "2015-05-10T00:00:00.000000000",
          "2015-05-17T00:00:00.000000000",
          "2015-05-24T00:00:00.000000000",
          "2015-05-31T00:00:00.000000000",
          "2015-06-07T00:00:00.000000000",
          "2015-06-14T00:00:00.000000000",
          "2015-06-21T00:00:00.000000000",
          "2015-06-28T00:00:00.000000000",
          "2015-07-05T00:00:00.000000000",
          "2015-07-12T00:00:00.000000000",
          "2015-07-19T00:00:00.000000000",
          "2015-07-26T00:00:00.000000000",
          "2015-08-02T00:00:00.000000000",
          "2015-08-09T00:00:00.000000000",
          "2015-08-16T00:00:00.000000000",
          "2015-08-23T00:00:00.000000000",
          "2015-08-30T00:00:00.000000000",
          "2015-09-06T00:00:00.000000000",
          "2015-09-13T00:00:00.000000000",
          "2015-09-20T00:00:00.000000000",
          "2015-09-27T00:00:00.000000000",
          "2015-10-04T00:00:00.000000000",
          "2015-10-11T00:00:00.000000000",
          "2015-10-18T00:00:00.000000000",
          "2015-10-25T00:00:00.000000000",
          "2015-11-01T00:00:00.000000000",
          "2015-11-08T00:00:00.000000000",
          "2015-11-15T00:00:00.000000000",
          "2015-11-22T00:00:00.000000000",
          "2015-11-29T00:00:00.000000000",
          "2015-12-06T00:00:00.000000000",
          "2015-12-13T00:00:00.000000000",
          "2015-12-20T00:00:00.000000000",
          "2015-12-27T00:00:00.000000000",
          "2016-01-03T00:00:00.000000000",
          "2016-01-10T00:00:00.000000000",
          "2016-01-17T00:00:00.000000000",
          "2016-01-24T00:00:00.000000000",
          "2016-01-31T00:00:00.000000000",
          "2016-02-07T00:00:00.000000000",
          "2016-02-14T00:00:00.000000000",
          "2016-02-21T00:00:00.000000000",
          "2016-02-28T00:00:00.000000000",
          "2016-03-06T00:00:00.000000000",
          "2016-03-13T00:00:00.000000000",
          "2016-03-20T00:00:00.000000000",
          "2016-03-27T00:00:00.000000000",
          "2016-04-03T00:00:00.000000000",
          "2016-04-10T00:00:00.000000000",
          "2016-04-17T00:00:00.000000000",
          "2016-04-24T00:00:00.000000000",
          "2016-05-01T00:00:00.000000000",
          "2016-05-08T00:00:00.000000000",
          "2016-05-15T00:00:00.000000000",
          "2016-05-22T00:00:00.000000000",
          "2016-05-29T00:00:00.000000000",
          "2016-06-05T00:00:00.000000000",
          "2016-06-12T00:00:00.000000000",
          "2016-06-19T00:00:00.000000000",
          "2016-06-26T00:00:00.000000000",
          "2016-07-03T00:00:00.000000000",
          "2016-07-10T00:00:00.000000000",
          "2016-07-17T00:00:00.000000000",
          "2016-07-24T00:00:00.000000000",
          "2016-07-31T00:00:00.000000000",
          "2016-08-07T00:00:00.000000000",
          "2016-08-14T00:00:00.000000000",
          "2016-08-21T00:00:00.000000000",
          "2016-08-28T00:00:00.000000000",
          "2016-09-04T00:00:00.000000000",
          "2016-09-11T00:00:00.000000000",
          "2016-09-18T00:00:00.000000000",
          "2016-09-25T00:00:00.000000000",
          "2016-10-02T00:00:00.000000000",
          "2016-10-09T00:00:00.000000000",
          "2016-10-16T00:00:00.000000000",
          "2016-10-23T00:00:00.000000000",
          "2016-10-30T00:00:00.000000000",
          "2016-11-06T00:00:00.000000000",
          "2016-11-13T00:00:00.000000000",
          "2016-11-20T00:00:00.000000000",
          "2016-11-27T00:00:00.000000000",
          "2016-12-04T00:00:00.000000000",
          "2016-12-11T00:00:00.000000000",
          "2016-12-18T00:00:00.000000000",
          "2016-12-25T00:00:00.000000000",
          "2017-01-01T00:00:00.000000000",
          "2017-01-08T00:00:00.000000000",
          "2017-01-15T00:00:00.000000000",
          "2017-01-22T00:00:00.000000000",
          "2017-01-29T00:00:00.000000000",
          "2017-02-05T00:00:00.000000000",
          "2017-02-12T00:00:00.000000000",
          "2017-02-19T00:00:00.000000000",
          "2017-02-26T00:00:00.000000000",
          "2017-03-05T00:00:00.000000000",
          "2017-03-12T00:00:00.000000000",
          "2017-03-19T00:00:00.000000000",
          "2017-03-26T00:00:00.000000000",
          "2017-04-02T00:00:00.000000000",
          "2017-04-09T00:00:00.000000000",
          "2017-04-16T00:00:00.000000000",
          "2017-04-23T00:00:00.000000000",
          "2017-04-30T00:00:00.000000000",
          "2017-05-07T00:00:00.000000000",
          "2017-05-14T00:00:00.000000000",
          "2017-05-21T00:00:00.000000000",
          "2017-05-28T00:00:00.000000000",
          "2017-06-04T00:00:00.000000000",
          "2017-06-11T00:00:00.000000000",
          "2017-06-18T00:00:00.000000000",
          "2017-06-25T00:00:00.000000000",
          "2017-07-02T00:00:00.000000000",
          "2017-07-09T00:00:00.000000000",
          "2017-07-16T00:00:00.000000000",
          "2017-07-23T00:00:00.000000000",
          "2017-07-30T00:00:00.000000000",
          "2017-08-06T00:00:00.000000000",
          "2017-08-13T00:00:00.000000000",
          "2017-08-20T00:00:00.000000000",
          "2017-08-27T00:00:00.000000000",
          "2017-09-03T00:00:00.000000000",
          "2017-09-10T00:00:00.000000000",
          "2017-09-17T00:00:00.000000000",
          "2017-09-24T00:00:00.000000000",
          "2017-10-01T00:00:00.000000000",
          "2017-10-08T00:00:00.000000000",
          "2017-10-15T00:00:00.000000000",
          "2017-10-22T00:00:00.000000000",
          "2017-10-29T00:00:00.000000000",
          "2017-11-05T00:00:00.000000000",
          "2017-11-12T00:00:00.000000000",
          "2017-11-19T00:00:00.000000000",
          "2017-11-26T00:00:00.000000000",
          "2017-12-03T00:00:00.000000000",
          "2017-12-10T00:00:00.000000000",
          "2017-12-17T00:00:00.000000000",
          "2017-12-24T00:00:00.000000000",
          "2017-12-31T00:00:00.000000000"
         ],
         "xaxis": "x4",
         "y": {
          "bdata": "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",
          "dtype": "f8"
         },
         "yaxis": "y4"
        }
       ],
       "layout": {
        "annotations": [
         {
          "font": {
           "size": 16
          },
          "showarrow": false,
          "text": "Data Asli (Sales)",
          "x": 0.5,
          "xanchor": "center",
          "xref": "paper",
          "y": 1,
          "yanchor": "bottom",
          "yref": "paper"
         },
         {
          "font": {
           "size": 16
          },
          "showarrow": false,
          "text": "Tren (Trend)",
          "x": 0.5,
          "xanchor": "center",
          "xref": "paper",
          "y": 0.71875,
          "yanchor": "bottom",
          "yref": "paper"
         },
         {
          "font": {
           "size": 16
          },
          "showarrow": false,
          "text": "Musiman (Seasonal)",
          "x": 0.5,
          "xanchor": "center",
          "xref": "paper",
          "y": 0.4375,
          "yanchor": "bottom",
          "yref": "paper"
         },
         {
          "font": {
           "size": 16
          },
          "showarrow": false,
          "text": "Residual (Resid)",
          "x": 0.5,
          "xanchor": "center",
          "xref": "paper",
          "y": 0.15625,
          "yanchor": "bottom",
          "yref": "paper"
         }
        ],
        "height": 800,
        "template": {
         "data": {
          "bar": [
           {
            "error_x": {
             "color": "#2a3f5f"
            },
            "error_y": {
             "color": "#2a3f5f"
            },
            "marker": {
             "line": {
              "color": "#E5ECF6",
              "width": 0.5
             },
             "pattern": {
              "fillmode": "overlay",
              "size": 10,
              "solidity": 0.2
             }
            },
            "type": "bar"
           }
          ],
          "barpolar": [
           {
            "marker": {
             "line": {
              "color": "#E5ECF6",
              "width": 0.5
             },
             "pattern": {
              "fillmode": "overlay",
              "size": 10,
              "solidity": 0.2
             }
            },
            "type": "barpolar"
           }
          ],
          "carpet": [
           {
            "aaxis": {
             "endlinecolor": "#2a3f5f",
             "gridcolor": "white",
             "linecolor": "white",
             "minorgridcolor": "white",
             "startlinecolor": "#2a3f5f"
            },
            "baxis": {
             "endlinecolor": "#2a3f5f",
             "gridcolor": "white",
             "linecolor": "white",
             "minorgridcolor": "white",
             "startlinecolor": "#2a3f5f"
            },
            "type": "carpet"
           }
          ],
          "choropleth": [
           {
            "colorbar": {
             "outlinewidth": 0,
             "ticks": ""
            },
            "type": "choropleth"
           }
          ],
          "contour": [
           {
            "colorbar": {
             "outlinewidth": 0,
             "ticks": ""
            },
            "colorscale": [
             [
              0,
              "#0d0887"
             ],
             [
              0.1111111111111111,
              "#46039f"
             ],
             [
              0.2222222222222222,
              "#7201a8"
             ],
             [
              0.3333333333333333,
              "#9c179e"
             ],
             [
              0.4444444444444444,
              "#bd3786"
             ],
             [
              0.5555555555555556,
              "#d8576b"
             ],
             [
              0.6666666666666666,
              "#ed7953"
             ],
             [
              0.7777777777777778,
              "#fb9f3a"
             ],
             [
              0.8888888888888888,
              "#fdca26"
             ],
             [
              1,
              "#f0f921"
             ]
            ],
            "type": "contour"
           }
          ],
          "contourcarpet": [
           {
            "colorbar": {
             "outlinewidth": 0,
             "ticks": ""
            },
            "type": "contourcarpet"
           }
          ],
          "heatmap": [
           {
            "colorbar": {
             "outlinewidth": 0,
             "ticks": ""
            },
            "colorscale": [
             [
              0,
              "#0d0887"
             ],
             [
              0.1111111111111111,
              "#46039f"
             ],
             [
              0.2222222222222222,
              "#7201a8"
             ],
             [
              0.3333333333333333,
              "#9c179e"
             ],
             [
              0.4444444444444444,
              "#bd3786"
             ],
             [
              0.5555555555555556,
              "#d8576b"
             ],
             [
              0.6666666666666666,
              "#ed7953"
             ],
             [
              0.7777777777777778,
              "#fb9f3a"
             ],
             [
              0.8888888888888888,
              "#fdca26"
             ],
             [
              1,
              "#f0f921"
             ]
            ],
            "type": "heatmap"
           }
          ],
          "histogram": [
           {
            "marker": {
             "pattern": {
              "fillmode": "overlay",
              "size": 10,
              "solidity": 0.2
             }
            },
            "type": "histogram"
           }
          ],
          "histogram2d": [
           {
            "colorbar": {
             "outlinewidth": 0,
             "ticks": ""
            },
            "colorscale": [
             [
              0,
              "#0d0887"
             ],
             [
              0.1111111111111111,
              "#46039f"
             ],
             [
              0.2222222222222222,
              "#7201a8"
             ],
             [
              0.3333333333333333,
              "#9c179e"
             ],
             [
              0.4444444444444444,
              "#bd3786"
             ],
             [
              0.5555555555555556,
              "#d8576b"
             ],
             [
              0.6666666666666666,
              "#ed7953"
             ],
             [
              0.7777777777777778,
              "#fb9f3a"
             ],
             [
              0.8888888888888888,
              "#fdca26"
             ],
             [
              1,
              "#f0f921"
             ]
            ],
            "type": "histogram2d"
           }
          ],
          "histogram2dcontour": [
           {
            "colorbar": {
             "outlinewidth": 0,
             "ticks": ""
            },
            "colorscale": [
             [
              0,
              "#0d0887"
             ],
             [
              0.1111111111111111,
              "#46039f"
             ],
             [
              0.2222222222222222,
              "#7201a8"
             ],
             [
              0.3333333333333333,
              "#9c179e"
             ],
             [
              0.4444444444444444,
              "#bd3786"
             ],
             [
              0.5555555555555556,
              "#d8576b"
             ],
             [
              0.6666666666666666,
              "#ed7953"
             ],
             [
              0.7777777777777778,
              "#fb9f3a"
             ],
             [
              0.8888888888888888,
              "#fdca26"
             ],
             [
              1,
              "#f0f921"
             ]
            ],
            "type": "histogram2dcontour"
           }
          ],
          "mesh3d": [
           {
            "colorbar": {
             "outlinewidth": 0,
             "ticks": ""
            },
            "type": "mesh3d"
           }
          ],
          "parcoords": [
           {
            "line": {
             "colorbar": {
              "outlinewidth": 0,
              "ticks": ""
             }
            },
            "type": "parcoords"
           }
          ],
          "pie": [
           {
            "automargin": true,
            "type": "pie"
           }
          ],
          "scatter": [
           {
            "fillpattern": {
             "fillmode": "overlay",
             "size": 10,
             "solidity": 0.2
            },
            "type": "scatter"
           }
          ],
          "scatter3d": [
           {
            "line": {
             "colorbar": {
              "outlinewidth": 0,
              "ticks": ""
             }
            },
            "marker": {
             "colorbar": {
              "outlinewidth": 0,
              "ticks": ""
             }
            },
            "type": "scatter3d"
           }
          ],
          "scattercarpet": [
           {
            "marker": {
             "colorbar": {
              "outlinewidth": 0,
              "ticks": ""
             }
            },
            "type": "scattercarpet"
           }
          ],
          "scattergeo": [
           {
            "marker": {
             "colorbar": {
              "outlinewidth": 0,
              "ticks": ""
             }
            },
            "type": "scattergeo"
           }
          ],
          "scattergl": [
           {
            "marker": {
             "colorbar": {
              "outlinewidth": 0,
              "ticks": ""
             }
            },
            "type": "scattergl"
           }
          ],
          "scattermap": [
           {
            "marker": {
             "colorbar": {
              "outlinewidth": 0,
              "ticks": ""
             }
            },
            "type": "scattermap"
           }
          ],
          "scattermapbox": [
           {
            "marker": {
             "colorbar": {
              "outlinewidth": 0,
              "ticks": ""
             }
            },
            "type": "scattermapbox"
           }
          ],
          "scatterpolar": [
           {
            "marker": {
             "colorbar": {
              "outlinewidth": 0,
              "ticks": ""
             }
            },
            "type": "scatterpolar"
           }
          ],
          "scatterpolargl": [
           {
            "marker": {
             "colorbar": {
              "outlinewidth": 0,
              "ticks": ""
             }
            },
            "type": "scatterpolargl"
           }
          ],
          "scatterternary": [
           {
            "marker": {
             "colorbar": {
              "outlinewidth": 0,
              "ticks": ""
             }
            },
            "type": "scatterternary"
           }
          ],
          "surface": [
           {
            "colorbar": {
             "outlinewidth": 0,
             "ticks": ""
            },
            "colorscale": [
             [
              0,
              "#0d0887"
             ],
             [
              0.1111111111111111,
              "#46039f"
             ],
             [
              0.2222222222222222,
              "#7201a8"
             ],
             [
              0.3333333333333333,
              "#9c179e"
             ],
             [
              0.4444444444444444,
              "#bd3786"
             ],
             [
              0.5555555555555556,
              "#d8576b"
             ],
             [
              0.6666666666666666,
              "#ed7953"
             ],
             [
              0.7777777777777778,
              "#fb9f3a"
             ],
             [
              0.8888888888888888,
              "#fdca26"
             ],
             [
              1,
              "#f0f921"
             ]
            ],
            "type": "surface"
           }
          ],
          "table": [
           {
            "cells": {
             "fill": {
              "color": "#EBF0F8"
             },
             "line": {
              "color": "white"
             }
            },
            "header": {
             "fill": {
              "color": "#C8D4E3"
             },
             "line": {
              "color": "white"
             }
            },
            "type": "table"
           }
          ]
         },
         "layout": {
          "annotationdefaults": {
           "arrowcolor": "#2a3f5f",
           "arrowhead": 0,
           "arrowwidth": 1
          },
          "autotypenumbers": "strict",
          "coloraxis": {
           "colorbar": {
            "outlinewidth": 0,
            "ticks": ""
           }
          },
          "colorscale": {
           "diverging": [
            [
             0,
             "#8e0152"
            ],
            [
             0.1,
             "#c51b7d"
            ],
            [
             0.2,
             "#de77ae"
            ],
            [
             0.3,
             "#f1b6da"
            ],
            [
             0.4,
             "#fde0ef"
            ],
            [
             0.5,
             "#f7f7f7"
            ],
            [
             0.6,
             "#e6f5d0"
            ],
            [
             0.7,
             "#b8e186"
            ],
            [
             0.8,
             "#7fbc41"
            ],
            [
             0.9,
             "#4d9221"
            ],
            [
             1,
             "#276419"
            ]
           ],
           "sequential": [
            [
             0,
             "#0d0887"
            ],
            [
             0.1111111111111111,
             "#46039f"
            ],
            [
             0.2222222222222222,
             "#7201a8"
            ],
            [
             0.3333333333333333,
             "#9c179e"
            ],
            [
             0.4444444444444444,
             "#bd3786"
            ],
            [
             0.5555555555555556,
             "#d8576b"
            ],
            [
             0.6666666666666666,
             "#ed7953"
            ],
            [
             0.7777777777777778,
             "#fb9f3a"
            ],
            [
             0.8888888888888888,
             "#fdca26"
            ],
            [
             1,
             "#f0f921"
            ]
           ],
           "sequentialminus": [
            [
             0,
             "#0d0887"
            ],
            [
             0.1111111111111111,
             "#46039f"
            ],
            [
             0.2222222222222222,
             "#7201a8"
            ],
            [
             0.3333333333333333,
             "#9c179e"
            ],
            [
             0.4444444444444444,
             "#bd3786"
            ],
            [
             0.5555555555555556,
             "#d8576b"
            ],
            [
             0.6666666666666666,
             "#ed7953"
            ],
            [
             0.7777777777777778,
             "#fb9f3a"
            ],
            [
             0.8888888888888888,
             "#fdca26"
            ],
            [
             1,
             "#f0f921"
            ]
           ]
          },
          "colorway": [
           "#636efa",
           "#EF553B",
           "#00cc96",
           "#ab63fa",
           "#FFA15A",
           "#19d3f3",
           "#FF6692",
           "#B6E880",
           "#FF97FF",
           "#FECB52"
          ],
          "font": {
           "color": "#2a3f5f"
          },
          "geo": {
           "bgcolor": "white",
           "lakecolor": "white",
           "landcolor": "#E5ECF6",
           "showlakes": true,
           "showland": true,
           "subunitcolor": "white"
          },
          "hoverlabel": {
           "align": "left"
          },
          "hovermode": "closest",
          "mapbox": {
           "style": "light"
          },
          "paper_bgcolor": "white",
          "plot_bgcolor": "#E5ECF6",
          "polar": {
           "angularaxis": {
            "gridcolor": "white",
            "linecolor": "white",
            "ticks": ""
           },
           "bgcolor": "#E5ECF6",
           "radialaxis": {
            "gridcolor": "white",
            "linecolor": "white",
            "ticks": ""
           }
          },
          "scene": {
           "xaxis": {
            "backgroundcolor": "#E5ECF6",
            "gridcolor": "white",
            "gridwidth": 2,
            "linecolor": "white",
            "showbackground": true,
            "ticks": "",
            "zerolinecolor": "white"
           },
           "yaxis": {
            "backgroundcolor": "#E5ECF6",
            "gridcolor": "white",
            "gridwidth": 2,
            "linecolor": "white",
            "showbackground": true,
            "ticks": "",
            "zerolinecolor": "white"
           },
           "zaxis": {
            "backgroundcolor": "#E5ECF6",
            "gridcolor": "white",
            "gridwidth": 2,
            "linecolor": "white",
            "showbackground": true,
            "ticks": "",
            "zerolinecolor": "white"
           }
          },
          "shapedefaults": {
           "line": {
            "color": "#2a3f5f"
           }
          },
          "ternary": {
           "aaxis": {
            "gridcolor": "white",
            "linecolor": "white",
            "ticks": ""
           },
           "baxis": {
            "gridcolor": "white",
            "linecolor": "white",
            "ticks": ""
           },
           "bgcolor": "#E5ECF6",
           "caxis": {
            "gridcolor": "white",
            "linecolor": "white",
            "ticks": ""
           }
          },
          "title": {
           "x": 0.05
          },
          "xaxis": {
           "automargin": true,
           "gridcolor": "white",
           "linecolor": "white",
           "ticks": "",
           "title": {
            "standoff": 15
           },
           "zerolinecolor": "white",
           "zerolinewidth": 2
          },
          "yaxis": {
           "automargin": true,
           "gridcolor": "white",
           "linecolor": "white",
           "ticks": "",
           "title": {
            "standoff": 15
           },
           "zerolinecolor": "white",
           "zerolinewidth": 2
          }
         }
        },
        "title": {
         "text": "<b>Dekomposisi STL pada Penjualan Mingguan</b>"
        },
        "xaxis": {
         "anchor": "y",
         "domain": [
          0,
          1
         ],
         "matches": "x4",
         "showticklabels": false
        },
        "xaxis2": {
         "anchor": "y2",
         "domain": [
          0,
          1
         ],
         "matches": "x4",
         "showticklabels": false
        },
        "xaxis3": {
         "anchor": "y3",
         "domain": [
          0,
          1
         ],
         "matches": "x4",
         "showticklabels": false
        },
        "xaxis4": {
         "anchor": "y4",
         "domain": [
          0,
          1
         ]
        },
        "yaxis": {
         "anchor": "x",
         "domain": [
          0.84375,
          1
         ]
        },
        "yaxis2": {
         "anchor": "x2",
         "domain": [
          0.5625,
          0.71875
         ]
        },
        "yaxis3": {
         "anchor": "x3",
         "domain": [
          0.28125,
          0.4375
         ]
        },
        "yaxis4": {
         "anchor": "x4",
         "domain": [
          0,
          0.15625
         ]
        }
       }
      }
     },
     "metadata": {},
     "output_type": "display_data"
    }
   ],
   "source": [
    "from statsmodels.tsa.seasonal import STL\n",
    "import plotly.graph_objects as go\n",
    "from plotly.subplots import make_subplots\n",
    "\n",
    "# Melakukan dekomposisi STL pada data penjualan mingguan\n",
    "# Periode musiman (seasonal) diatur ke 52 untuk pola tahunan dalam data mingguan\n",
    "stl = STL(weekly_df['Sales'], seasonal=53)\n",
    "result = stl.fit()\n",
    "\n",
    "# Membuat visualisasi interaktif dengan Plotly\n",
    "fig = make_subplots(rows=4, cols=1, shared_xaxes=True, subplot_titles=(\"Data Asli (Sales)\", \"Tren (Trend)\", \"Musiman (Seasonal)\", \"Residual (Resid)\"))\n",
    "\n",
    "fig.add_trace(go.Scatter(x=result.observed.index, y=result.observed, name='Observed'), row=1, col=1)\n",
    "fig.add_trace(go.Scatter(x=result.trend.index, y=result.trend, name='Trend'), row=2, col=1)\n",
    "fig.add_trace(go.Scatter(x=result.seasonal.index, y=result.seasonal, name='Seasonal'), row=3, col=1)\n",
    "fig.add_trace(go.Scatter(x=result.resid.index, y=result.resid, name='Residual', mode='markers'), row=4, col=1)\n",
    "\n",
    "fig.update_layout(height=800, title_text=\"<b>Dekomposisi STL pada Penjualan Mingguan</b>\")\n",
    "fig.show()"
   ]
  },
  {
   "cell_type": "markdown",
   "id": "6dae2866",
   "metadata": {},
   "source": [
    "**Dokumentasi Time Series Decomposition dengan STL**\n",
    "STL (Seasonal and Trend decomposition using Loess)\n",
    "\n",
    "STL adalah metode dekomposisi yang efektif untuk memisahkan data time series menjadi tiga komponen utama:\n",
    "1. **Trend**: Arah pergerakan data dalam jangka panjang.\n",
    "2. **Seasonal**: Pola berulang yang terjadi pada frekuensi tetap.\n",
    "3. **Residual**: Sisa atau \"noise\" dari data setelah komponen tren dan musiman dihilangkan.\n",
    "\n",
    "Metode ini digunakan karena lebih unggul daripada \"seasonal_decompose\" yang lebih klasik. Karena lebih tahan terhadap outlier dan memungkinkan komponen musiman untuk berubah seiring waktu."
   ]
  },
  {
   "cell_type": "markdown",
   "id": "dbb9178b",
   "metadata": {},
   "source": [
    "**Interpretasi Hasil Dekomposisi**\n",
    "Visualisasi hasil memberikan beberapa insight penting:\n",
    "- **Tren**: Terlihat jelas adanya tren pertumbuhan penjualan jangka panjang yang positif dan konsisten dari tahun ke tahun.\n",
    "- **Seasonal**: Terdapat pola musiman tahunan yang kuat, di mana penjulana cenderung memuncak pada akhir tahun dan melandari di periode lain.\n",
    "- **Residual**: Komponene residual tampak acak dan terpusat di sekitar nol, mengindikasikan bahwa model dekomposisi berhasil menangkap sebagian besar pola tren dan musiman."
   ]
  },
  {
   "cell_type": "markdown",
   "id": "2fa9377a",
   "metadata": {},
   "source": [
    "## 5. Feature Engineering with Time"
   ]
  },
  {
   "cell_type": "markdown",
   "id": "31e43fca",
   "metadata": {},
   "source": [
    "**Dokumentasi Metode**\n",
    "Feature Engineering.\n",
    "\n",
    "Membuat fitur berbasis waktu dan fitur penanda hari libur (holiday) untuk memberikan konteks bisnis yang lebih \"rich\" kepada model."
   ]
  },
  {
   "cell_type": "code",
   "execution_count": 18,
   "id": "8005e8d0",
   "metadata": {},
   "outputs": [
    {
     "name": "stdout",
     "output_type": "stream",
     "text": [
      "DataFrame dengan Fitur Baru:\n"
     ]
    },
    {
     "data": {
      "text/html": [
       "<div>\n",
       "<style scoped>\n",
       "    .dataframe tbody tr th:only-of-type {\n",
       "        vertical-align: middle;\n",
       "    }\n",
       "\n",
       "    .dataframe tbody tr th {\n",
       "        vertical-align: top;\n",
       "    }\n",
       "\n",
       "    .dataframe thead th {\n",
       "        text-align: right;\n",
       "    }\n",
       "</style>\n",
       "<table border=\"1\" class=\"dataframe\">\n",
       "  <thead>\n",
       "    <tr style=\"text-align: right;\">\n",
       "      <th></th>\n",
       "      <th>Sales</th>\n",
       "      <th>Quantity</th>\n",
       "      <th>Discount</th>\n",
       "      <th>day</th>\n",
       "      <th>weekday</th>\n",
       "      <th>month</th>\n",
       "      <th>is_weekend</th>\n",
       "      <th>is_black_friday_week</th>\n",
       "      <th>is_christmas_week</th>\n",
       "      <th>is_easter_week</th>\n",
       "    </tr>\n",
       "    <tr>\n",
       "      <th>Order Date</th>\n",
       "      <th></th>\n",
       "      <th></th>\n",
       "      <th></th>\n",
       "      <th></th>\n",
       "      <th></th>\n",
       "      <th></th>\n",
       "      <th></th>\n",
       "      <th></th>\n",
       "      <th></th>\n",
       "      <th></th>\n",
       "    </tr>\n",
       "  </thead>\n",
       "  <tbody>\n",
       "    <tr>\n",
       "      <th>2017-12-03</th>\n",
       "      <td>32354.5700</td>\n",
       "      <td>564</td>\n",
       "      <td>0.169231</td>\n",
       "      <td>3</td>\n",
       "      <td>6</td>\n",
       "      <td>12</td>\n",
       "      <td>True</td>\n",
       "      <td>0</td>\n",
       "      <td>0</td>\n",
       "      <td>0</td>\n",
       "    </tr>\n",
       "    <tr>\n",
       "      <th>2017-12-10</th>\n",
       "      <td>24006.9580</td>\n",
       "      <td>480</td>\n",
       "      <td>0.115267</td>\n",
       "      <td>10</td>\n",
       "      <td>6</td>\n",
       "      <td>12</td>\n",
       "      <td>True</td>\n",
       "      <td>0</td>\n",
       "      <td>0</td>\n",
       "      <td>0</td>\n",
       "    </tr>\n",
       "    <tr>\n",
       "      <th>2017-12-17</th>\n",
       "      <td>10495.9630</td>\n",
       "      <td>267</td>\n",
       "      <td>0.133117</td>\n",
       "      <td>17</td>\n",
       "      <td>6</td>\n",
       "      <td>12</td>\n",
       "      <td>True</td>\n",
       "      <td>0</td>\n",
       "      <td>0</td>\n",
       "      <td>0</td>\n",
       "    </tr>\n",
       "    <tr>\n",
       "      <th>2017-12-24</th>\n",
       "      <td>23662.3640</td>\n",
       "      <td>372</td>\n",
       "      <td>0.126768</td>\n",
       "      <td>24</td>\n",
       "      <td>6</td>\n",
       "      <td>12</td>\n",
       "      <td>True</td>\n",
       "      <td>0</td>\n",
       "      <td>0</td>\n",
       "      <td>0</td>\n",
       "    </tr>\n",
       "    <tr>\n",
       "      <th>2017-12-31</th>\n",
       "      <td>8977.8318</td>\n",
       "      <td>233</td>\n",
       "      <td>0.188358</td>\n",
       "      <td>31</td>\n",
       "      <td>6</td>\n",
       "      <td>12</td>\n",
       "      <td>True</td>\n",
       "      <td>0</td>\n",
       "      <td>1</td>\n",
       "      <td>0</td>\n",
       "    </tr>\n",
       "  </tbody>\n",
       "</table>\n",
       "</div>"
      ],
      "text/plain": [
       "                 Sales  Quantity  Discount  day  weekday  month  is_weekend  \\\n",
       "Order Date                                                                    \n",
       "2017-12-03  32354.5700       564  0.169231    3        6     12        True   \n",
       "2017-12-10  24006.9580       480  0.115267   10        6     12        True   \n",
       "2017-12-17  10495.9630       267  0.133117   17        6     12        True   \n",
       "2017-12-24  23662.3640       372  0.126768   24        6     12        True   \n",
       "2017-12-31   8977.8318       233  0.188358   31        6     12        True   \n",
       "\n",
       "            is_black_friday_week  is_christmas_week  is_easter_week  \n",
       "Order Date                                                           \n",
       "2017-12-03                     0                  0               0  \n",
       "2017-12-10                     0                  0               0  \n",
       "2017-12-17                     0                  0               0  \n",
       "2017-12-24                     0                  0               0  \n",
       "2017-12-31                     0                  1               0  "
      ]
     },
     "metadata": {},
     "output_type": "display_data"
    }
   ],
   "source": [
    "# Membuat fitur berbasis waktu dari index\n",
    "weekly_df['day'] = weekly_df.index.day\n",
    "weekly_df['weekday'] = weekly_df.index.weekday\n",
    "weekly_df['month'] = weekly_df.index.month\n",
    "weekly_df['is_weekend'] = weekly_df['weekday'].isin([5, 6])\n",
    "\n",
    "# --- Membuat Fitur Penanda Hari Libur (Holiday Features) ---\n",
    "\n",
    "# Mendefinisikan tanggal-tanggal hari libur utama\n",
    "black_friday_dates = pd.to_datetime(['2014-11-28', '2015-11-27', '2016-11-25', '2017-11-24'])\n",
    "christmas_dates = pd.to_datetime(['2014-12-25', '2015-12-25', '2016-12-25', '2017-12-25'])\n",
    "easter_dates = pd.to_datetime(['2014-04-20', '2015-04-05', '2016-03-27', '2017-04-16'])\n",
    "\n",
    "# Mengidentifikasi holiday berdasarkan (tahun, nomor_minggu)\n",
    "bf_weeks = set(zip(black_friday_dates.isocalendar().year, black_friday_dates.isocalendar().week))\n",
    "xmas_weeks = set(zip(christmas_dates.isocalendar().year, christmas_dates.isocalendar().week))\n",
    "easter_weeks = set(zip(easter_dates.isocalendar().year, easter_dates.isocalendar().week))\n",
    "\n",
    "# Membuat tuple (tahun, nomor_minggu) untuk setiap baris di weekly_df\n",
    "df_weeks = list(zip(weekly_df.index.isocalendar().year, weekly_df.index.isocalendar().week))\n",
    "\n",
    "# Membuat kolom biner (0 atau 1) sebagai penanda\n",
    "weekly_df['is_black_friday_week'] = [w in bf_weeks for w in df_weeks]\n",
    "weekly_df['is_christmas_week'] = [w in xmas_weeks for w in df_weeks]\n",
    "weekly_df['is_easter_week'] = [w in easter_weeks for w in df_weeks]\n",
    "weekly_df[['is_black_friday_week', 'is_christmas_week', 'is_easter_week']] = weekly_df[['is_black_friday_week', 'is_christmas_week', 'is_easter_week']].astype(int)\n",
    "\n",
    "print(\"DataFrame dengan Fitur Baru:\")\n",
    "display(weekly_df.tail())"
   ]
  },
  {
   "cell_type": "markdown",
   "id": "504fa754",
   "metadata": {},
   "source": [
    "## 6. Forecast with ARIMA"
   ]
  },
  {
   "cell_type": "markdown",
   "id": "5878aa91",
   "metadata": {},
   "source": [
    "**Dokumentasi Metode: SARIMAX**\n",
    "SARIMAX (Seasonal AutoRegressive Integrated Moving Average with eXogenous regressors) adalah metode statistik untuk peramalan time series data. Model ini merupakan pengembangan dari ARIMA dengan kemampuan menangani pola musiman (S) dan memasukkan variabel external (X) sebagai prediktor.\n",
    "\n",
    "**Fungsi `auto_arima`**\n",
    "\n",
    "Fungsi `auto_arima` dari pustaka pmdarima adalah sebuah alat bantu yang mengotomatiskan proses pencarian parameter terbaik untuk model SARIMAX. Daripada menentukan parameter (p,d,q)(P,D,Q) secara manual, fungsi ini melakukannya secara sistematis.\n",
    "\n",
    "Proses yang dilakukan oleh `auto_arima` meliputi:\n",
    "\n",
    "- Uji Stasioneritas Otomatis: Melakukan uji stasioneritas untuk menentukan orde diferensiasi non-musiman (d) dan musiman (D) yang diperlukan.\n",
    "- Pencarian Parameter: Mencari berbagai kombinasi parameter p, q (orde non-musiman) dan P, Q (orde musiman) secara efisien.\n",
    "- Seleksi Model: Mengevaluasi setiap model yang diuji menggunakan Akaike Information Criterion (AIC) dan memilih model dengan nilai AIC terendah sebagai kandidat terbaik.\n",
    "\n",
    "Dengan menggunakan `auto_arima`, proses pemilihan model menjadi lebih cepat dan objektif, mengurangi subjektivitas yang muncul dari interpretasi plot ACF/PACF secara manual."
   ]
  },
  {
   "cell_type": "code",
   "execution_count": 21,
   "id": "e4725308",
   "metadata": {},
   "outputs": [
    {
     "name": "stdout",
     "output_type": "stream",
     "text": [
      "Performing stepwise search to minimize aic\n",
      " ARIMA(0,0,0)(0,0,0)[52] intercept   : AIC=3250.002, Time=0.01 sec\n",
      " ARIMA(1,0,0)(1,0,0)[52] intercept   : AIC=3253.037, Time=0.80 sec\n",
      " ARIMA(0,0,1)(0,0,1)[52] intercept   : AIC=3252.673, Time=0.85 sec\n",
      " ARIMA(0,0,0)(0,0,0)[52]             : AIC=3248.116, Time=0.03 sec\n",
      " ARIMA(0,0,0)(1,0,0)[52] intercept   : AIC=3251.984, Time=0.46 sec\n",
      " ARIMA(0,0,0)(0,0,1)[52] intercept   : AIC=3251.979, Time=1.06 sec\n",
      " ARIMA(0,0,0)(1,0,1)[52] intercept   : AIC=inf, Time=2.43 sec\n",
      " ARIMA(1,0,0)(0,0,0)[52] intercept   : AIC=3251.072, Time=0.04 sec\n",
      " ARIMA(0,0,1)(0,0,0)[52] intercept   : AIC=3250.719, Time=0.04 sec\n",
      " ARIMA(1,0,1)(0,0,0)[52] intercept   : AIC=3249.640, Time=0.05 sec\n",
      "\n",
      "Best model:  ARIMA(0,0,0)(0,0,0)[52]          \n",
      "Total fit time: 5.787 seconds\n",
      "Model SARIMAX terbaik ditemukan:\n",
      "                               SARIMAX Results                                \n",
      "==============================================================================\n",
      "Dep. Variable:                      y   No. Observations:                  167\n",
      "Model:                        SARIMAX   Log Likelihood               -1617.058\n",
      "Date:                Sun, 27 Jul 2025   AIC                           3248.116\n",
      "Time:                        19:49:14   BIC                           3269.942\n",
      "Sample:                    01-05-2014   HQIC                          3256.975\n",
      "                         - 03-12-2017                                         \n",
      "Covariance Type:                  opg                                         \n",
      "========================================================================================\n",
      "                           coef    std err          z      P>|z|      [0.025      0.975]\n",
      "----------------------------------------------------------------------------------------\n",
      "Quantity                68.9081      4.486     15.361      0.000      60.116      77.701\n",
      "Discount              -657.4744   5253.117     -0.125      0.900    -1.1e+04    9638.446\n",
      "month                 -160.3265    104.757     -1.530      0.126    -365.647      44.993\n",
      "is_black_friday_week -1574.4489   4025.767     -0.391      0.696   -9464.808    6315.910\n",
      "is_christmas_week     1719.3482   2883.904      0.596      0.551   -3932.999    7371.695\n",
      "is_easter_week       -1263.3557    1.1e+04     -0.115      0.908   -2.28e+04    2.03e+04\n",
      "sigma2                1.548e+07   1.11e+06     13.923      0.000    1.33e+07    1.77e+07\n",
      "===================================================================================\n",
      "Ljung-Box (L1) (Q):                   0.95   Jarque-Bera (JB):               621.16\n",
      "Prob(Q):                              0.33   Prob(JB):                         0.00\n",
      "Heteroskedasticity (H):               1.06   Skew:                             2.09\n",
      "Prob(H) (two-sided):                  0.83   Kurtosis:                        11.47\n",
      "===================================================================================\n",
      "\n",
      "Warnings:\n",
      "[1] Covariance matrix calculated using the outer product of gradients (complex-step).\n"
     ]
    },
    {
     "data": {
      "application/vnd.plotly.v1+json": {
       "config": {
        "plotlyServerURL": "https://plot.ly"
       },
       "data": [
        {
         "line": {
          "color": "orange"
         },
         "mode": "lines",
         "name": "Data Aktual (Test)",
         "type": "scatter",
         "x": [
          "2017-03-19T00:00:00.000000000",
          "2017-03-26T00:00:00.000000000",
          "2017-04-02T00:00:00.000000000",
          "2017-04-09T00:00:00.000000000",
          "2017-04-16T00:00:00.000000000",
          "2017-04-23T00:00:00.000000000",
          "2017-04-30T00:00:00.000000000",
          "2017-05-07T00:00:00.000000000",
          "2017-05-14T00:00:00.000000000",
          "2017-05-21T00:00:00.000000000",
          "2017-05-28T00:00:00.000000000",
          "2017-06-04T00:00:00.000000000",
          "2017-06-11T00:00:00.000000000",
          "2017-06-18T00:00:00.000000000",
          "2017-06-25T00:00:00.000000000",
          "2017-07-02T00:00:00.000000000",
          "2017-07-09T00:00:00.000000000",
          "2017-07-16T00:00:00.000000000",
          "2017-07-23T00:00:00.000000000",
          "2017-07-30T00:00:00.000000000",
          "2017-08-06T00:00:00.000000000",
          "2017-08-13T00:00:00.000000000",
          "2017-08-20T00:00:00.000000000",
          "2017-08-27T00:00:00.000000000",
          "2017-09-03T00:00:00.000000000",
          "2017-09-10T00:00:00.000000000",
          "2017-09-17T00:00:00.000000000",
          "2017-09-24T00:00:00.000000000",
          "2017-10-01T00:00:00.000000000",
          "2017-10-08T00:00:00.000000000",
          "2017-10-15T00:00:00.000000000",
          "2017-10-22T00:00:00.000000000",
          "2017-10-29T00:00:00.000000000",
          "2017-11-05T00:00:00.000000000",
          "2017-11-12T00:00:00.000000000",
          "2017-11-19T00:00:00.000000000",
          "2017-11-26T00:00:00.000000000",
          "2017-12-03T00:00:00.000000000",
          "2017-12-10T00:00:00.000000000",
          "2017-12-17T00:00:00.000000000",
          "2017-12-24T00:00:00.000000000",
          "2017-12-31T00:00:00.000000000"
         ],
         "y": {
          "bdata": "JzEIrAywxEA5tMh2Xn3aQLFQa5o/jtBAVOOlm6xlxUC8dJMYhESxQLOd76cWUcFACBueXolrtUCwA+eMmMjJQLfz/dSILspAQDVeuslXxUBmZmZmRrO0QNQrZRnCPsNAhutRuN5mvkDXo3A9wmjMQML1KFzPyrtAdy0hHwQZz0DfT42X7pHJQG3n+6kh4sBAAiuHFinlxkDdJAaBdW/CQDVeuknM6rdA3SQGgdUdyEApXI/CFczTQFK4HoWLmdRACKwcWpyn0EBI4XoUtiXSQGdmZmYuANdAQmDl0Ort2kArhxbZrmzBQGIQWDkUB9NAAAAAAFiI0EB9YTJV8MTaQH0/NV5aF7lAgZVDi2SX3kCHFtnO9xbUQMdLN4kNQuFALbKd78+d00CuR+F6pJjfQGQ730+9cddABoGVQ/t/xEDwp8ZLlxvXQGgibHjqiMFA",
          "dtype": "f8"
         }
        },
        {
         "line": {
          "color": "green"
         },
         "mode": "lines",
         "name": "Peramalan SARIMAX",
         "type": "scatter",
         "x": [
          "2017-03-19T00:00:00.000000000",
          "2017-03-26T00:00:00.000000000",
          "2017-04-02T00:00:00.000000000",
          "2017-04-09T00:00:00.000000000",
          "2017-04-16T00:00:00.000000000",
          "2017-04-23T00:00:00.000000000",
          "2017-04-30T00:00:00.000000000",
          "2017-05-07T00:00:00.000000000",
          "2017-05-14T00:00:00.000000000",
          "2017-05-21T00:00:00.000000000",
          "2017-05-28T00:00:00.000000000",
          "2017-06-04T00:00:00.000000000",
          "2017-06-11T00:00:00.000000000",
          "2017-06-18T00:00:00.000000000",
          "2017-06-25T00:00:00.000000000",
          "2017-07-02T00:00:00.000000000",
          "2017-07-09T00:00:00.000000000",
          "2017-07-16T00:00:00.000000000",
          "2017-07-23T00:00:00.000000000",
          "2017-07-30T00:00:00.000000000",
          "2017-08-06T00:00:00.000000000",
          "2017-08-13T00:00:00.000000000",
          "2017-08-20T00:00:00.000000000",
          "2017-08-27T00:00:00.000000000",
          "2017-09-03T00:00:00.000000000",
          "2017-09-10T00:00:00.000000000",
          "2017-09-17T00:00:00.000000000",
          "2017-09-24T00:00:00.000000000",
          "2017-10-01T00:00:00.000000000",
          "2017-10-08T00:00:00.000000000",
          "2017-10-15T00:00:00.000000000",
          "2017-10-22T00:00:00.000000000",
          "2017-10-29T00:00:00.000000000",
          "2017-11-05T00:00:00.000000000",
          "2017-11-12T00:00:00.000000000",
          "2017-11-19T00:00:00.000000000",
          "2017-11-26T00:00:00.000000000",
          "2017-12-03T00:00:00.000000000",
          "2017-12-10T00:00:00.000000000",
          "2017-12-17T00:00:00.000000000",
          "2017-12-24T00:00:00.000000000",
          "2017-12-31T00:00:00.000000000"
         ],
         "y": {
          "bdata": "MaYdF8NU0UA1+bC8a//JQBt1edWI981AkvVgLNYNvEAiwnqe7NXBQFuFe81pN8lAtZsEM2DVxkBAjPzHW3bMQI5Cw/6rKs5AqnFrbLIkzEBDeaXj8HnDQCNQGLCSk8pALOw8tiV/xEAWw0VgPMbJQAZdNf7T9sdAc/HIj1AsykC5W/B2AxnQQBQRQ9xkIcJAI5RjwdB/zUCDqdtguDnAQJNMXWXeiMFAiqtyBzRqykBkfecG/yDJQAvMtab2as5APcjLv0SQ0kAi3OtrUd3aQIi5MNZPn9lALngkQLqX3ECBeNfEvkPPQFrsmN/6P9JAE+JJ3ZrTzEDhu0t27crOQJVsbiDtssRAHA7hHdaU20D6YeK5SyraQKQbsPG0zd5AJ9Jts+I62EBoSegvn/vhQOgiOjoLWd5AXrZXLMEA0EBZBj6lohLXQPGsugSWt85A",
          "dtype": "f8"
         }
        },
        {
         "line": {
          "color": "lightgreen"
         },
         "mode": "lines",
         "showlegend": false,
         "type": "scatter",
         "x": [
          "2017-03-19T00:00:00.000000000",
          "2017-03-26T00:00:00.000000000",
          "2017-04-02T00:00:00.000000000",
          "2017-04-09T00:00:00.000000000",
          "2017-04-16T00:00:00.000000000",
          "2017-04-23T00:00:00.000000000",
          "2017-04-30T00:00:00.000000000",
          "2017-05-07T00:00:00.000000000",
          "2017-05-14T00:00:00.000000000",
          "2017-05-21T00:00:00.000000000",
          "2017-05-28T00:00:00.000000000",
          "2017-06-04T00:00:00.000000000",
          "2017-06-11T00:00:00.000000000",
          "2017-06-18T00:00:00.000000000",
          "2017-06-25T00:00:00.000000000",
          "2017-07-02T00:00:00.000000000",
          "2017-07-09T00:00:00.000000000",
          "2017-07-16T00:00:00.000000000",
          "2017-07-23T00:00:00.000000000",
          "2017-07-30T00:00:00.000000000",
          "2017-08-06T00:00:00.000000000",
          "2017-08-13T00:00:00.000000000",
          "2017-08-20T00:00:00.000000000",
          "2017-08-27T00:00:00.000000000",
          "2017-09-03T00:00:00.000000000",
          "2017-09-10T00:00:00.000000000",
          "2017-09-17T00:00:00.000000000",
          "2017-09-24T00:00:00.000000000",
          "2017-10-01T00:00:00.000000000",
          "2017-10-08T00:00:00.000000000",
          "2017-10-15T00:00:00.000000000",
          "2017-10-22T00:00:00.000000000",
          "2017-10-29T00:00:00.000000000",
          "2017-11-05T00:00:00.000000000",
          "2017-11-12T00:00:00.000000000",
          "2017-11-19T00:00:00.000000000",
          "2017-11-26T00:00:00.000000000",
          "2017-12-03T00:00:00.000000000",
          "2017-12-10T00:00:00.000000000",
          "2017-12-17T00:00:00.000000000",
          "2017-12-24T00:00:00.000000000",
          "2017-12-31T00:00:00.000000000"
         ],
         "y": {
          "bdata": "51Z7xzeZw0B0B+KrOt61QED/ct10zr1AIKv3CDWWgMA4Zda98SyWQMAfd802TrRA6JgSMUcUr0CKLXnCGsy6QCaaBjC7NL5AXvhWC8goukAgD5bziaahQFC1sJKIBrdAxNrzPV27pUA2mwvz22u1QBbP6i4LzbFA8PcRUgQ4tkD3wSCHuCHBQMjcGKyziJhAUD1HtQTfvECAQLuhn5aCQMC46vR/xJNAHmxlQcuztkDSD09AYSG0QCCt639Qtb5A/5rXGDsQxkBk4Ys4KlXTQMq+0KIoF9JAcH3EDJMP1UAGgxdecDPAQDnjcVinb8VAMNkT7ZiGu0DMjBcfPnW/QGjcueZ6iqZAXhOB6q4M1EA8Z4KGJKLSQOYgUL6NRddAatcNgLuy0EASmHAsF2/cQCoo2gbk0NZAQXfv8TPxwEA3F7zj9hTPQOxu9TuPTr9A",
          "dtype": "f8"
         }
        },
        {
         "fill": "tonexty",
         "line": {
          "color": "lightgreen"
         },
         "mode": "lines",
         "name": "Interval Kepercayaan 95%",
         "type": "scatter",
         "x": [
          "2017-03-19T00:00:00.000000000",
          "2017-03-26T00:00:00.000000000",
          "2017-04-02T00:00:00.000000000",
          "2017-04-09T00:00:00.000000000",
          "2017-04-16T00:00:00.000000000",
          "2017-04-23T00:00:00.000000000",
          "2017-04-30T00:00:00.000000000",
          "2017-05-07T00:00:00.000000000",
          "2017-05-14T00:00:00.000000000",
          "2017-05-21T00:00:00.000000000",
          "2017-05-28T00:00:00.000000000",
          "2017-06-04T00:00:00.000000000",
          "2017-06-11T00:00:00.000000000",
          "2017-06-18T00:00:00.000000000",
          "2017-06-25T00:00:00.000000000",
          "2017-07-02T00:00:00.000000000",
          "2017-07-09T00:00:00.000000000",
          "2017-07-16T00:00:00.000000000",
          "2017-07-23T00:00:00.000000000",
          "2017-07-30T00:00:00.000000000",
          "2017-08-06T00:00:00.000000000",
          "2017-08-13T00:00:00.000000000",
          "2017-08-20T00:00:00.000000000",
          "2017-08-27T00:00:00.000000000",
          "2017-09-03T00:00:00.000000000",
          "2017-09-10T00:00:00.000000000",
          "2017-09-17T00:00:00.000000000",
          "2017-09-24T00:00:00.000000000",
          "2017-10-01T00:00:00.000000000",
          "2017-10-08T00:00:00.000000000",
          "2017-10-15T00:00:00.000000000",
          "2017-10-22T00:00:00.000000000",
          "2017-10-29T00:00:00.000000000",
          "2017-11-05T00:00:00.000000000",
          "2017-11-12T00:00:00.000000000",
          "2017-11-19T00:00:00.000000000",
          "2017-11-26T00:00:00.000000000",
          "2017-12-03T00:00:00.000000000",
          "2017-12-10T00:00:00.000000000",
          "2017-12-17T00:00:00.000000000",
          "2017-12-24T00:00:00.000000000",
          "2017-12-31T00:00:00.000000000"
         ],
         "y": {
          "bdata": "7qB9Surc2EBYd7gR3YfUQEu1HJ7rg9ZARHDwfDkXzUDOW52CHXPQQGu9HRrcI9RAmEjiTNfy0kDeQF4XVcPVQAScwTJ9ndZAkrOVaYCa1UBftzKlH0XRQM8ibIvw0dRA1HB+DrrH0UBI3IJjRWvUQECpejKRg9NAd3NEe0+e1EB2VlCqKqHXQEiDgaHZmNBAz8QRlA9I1kD+npvHBkrPQAehDmaWTNBAglAZN0G91EBwudO2phjUQMPguoaivdZA+sIr82sY2kBw66VPvDLhQCNayIS7k+BAdjnCufAP4kD+tsuVBirXQBjn+BIiyNlAx+sEovTx1UCu2IXune3WQAgxl8Od4dFAbYSgqH6O4UBcLqF2OdngQDELiBLuKuNA5MzN5gnD30DHRpjJsr/lQNMOzTaZ8OJAHLG3X+iI10AWAZ7YyZreQDZRvTXy49ZA",
          "dtype": "f8"
         }
        }
       ],
       "layout": {
        "template": {
         "data": {
          "bar": [
           {
            "error_x": {
             "color": "#2a3f5f"
            },
            "error_y": {
             "color": "#2a3f5f"
            },
            "marker": {
             "line": {
              "color": "#E5ECF6",
              "width": 0.5
             },
             "pattern": {
              "fillmode": "overlay",
              "size": 10,
              "solidity": 0.2
             }
            },
            "type": "bar"
           }
          ],
          "barpolar": [
           {
            "marker": {
             "line": {
              "color": "#E5ECF6",
              "width": 0.5
             },
             "pattern": {
              "fillmode": "overlay",
              "size": 10,
              "solidity": 0.2
             }
            },
            "type": "barpolar"
           }
          ],
          "carpet": [
           {
            "aaxis": {
             "endlinecolor": "#2a3f5f",
             "gridcolor": "white",
             "linecolor": "white",
             "minorgridcolor": "white",
             "startlinecolor": "#2a3f5f"
            },
            "baxis": {
             "endlinecolor": "#2a3f5f",
             "gridcolor": "white",
             "linecolor": "white",
             "minorgridcolor": "white",
             "startlinecolor": "#2a3f5f"
            },
            "type": "carpet"
           }
          ],
          "choropleth": [
           {
            "colorbar": {
             "outlinewidth": 0,
             "ticks": ""
            },
            "type": "choropleth"
           }
          ],
          "contour": [
           {
            "colorbar": {
             "outlinewidth": 0,
             "ticks": ""
            },
            "colorscale": [
             [
              0,
              "#0d0887"
             ],
             [
              0.1111111111111111,
              "#46039f"
             ],
             [
              0.2222222222222222,
              "#7201a8"
             ],
             [
              0.3333333333333333,
              "#9c179e"
             ],
             [
              0.4444444444444444,
              "#bd3786"
             ],
             [
              0.5555555555555556,
              "#d8576b"
             ],
             [
              0.6666666666666666,
              "#ed7953"
             ],
             [
              0.7777777777777778,
              "#fb9f3a"
             ],
             [
              0.8888888888888888,
              "#fdca26"
             ],
             [
              1,
              "#f0f921"
             ]
            ],
            "type": "contour"
           }
          ],
          "contourcarpet": [
           {
            "colorbar": {
             "outlinewidth": 0,
             "ticks": ""
            },
            "type": "contourcarpet"
           }
          ],
          "heatmap": [
           {
            "colorbar": {
             "outlinewidth": 0,
             "ticks": ""
            },
            "colorscale": [
             [
              0,
              "#0d0887"
             ],
             [
              0.1111111111111111,
              "#46039f"
             ],
             [
              0.2222222222222222,
              "#7201a8"
             ],
             [
              0.3333333333333333,
              "#9c179e"
             ],
             [
              0.4444444444444444,
              "#bd3786"
             ],
             [
              0.5555555555555556,
              "#d8576b"
             ],
             [
              0.6666666666666666,
              "#ed7953"
             ],
             [
              0.7777777777777778,
              "#fb9f3a"
             ],
             [
              0.8888888888888888,
              "#fdca26"
             ],
             [
              1,
              "#f0f921"
             ]
            ],
            "type": "heatmap"
           }
          ],
          "histogram": [
           {
            "marker": {
             "pattern": {
              "fillmode": "overlay",
              "size": 10,
              "solidity": 0.2
             }
            },
            "type": "histogram"
           }
          ],
          "histogram2d": [
           {
            "colorbar": {
             "outlinewidth": 0,
             "ticks": ""
            },
            "colorscale": [
             [
              0,
              "#0d0887"
             ],
             [
              0.1111111111111111,
              "#46039f"
             ],
             [
              0.2222222222222222,
              "#7201a8"
             ],
             [
              0.3333333333333333,
              "#9c179e"
             ],
             [
              0.4444444444444444,
              "#bd3786"
             ],
             [
              0.5555555555555556,
              "#d8576b"
             ],
             [
              0.6666666666666666,
              "#ed7953"
             ],
             [
              0.7777777777777778,
              "#fb9f3a"
             ],
             [
              0.8888888888888888,
              "#fdca26"
             ],
             [
              1,
              "#f0f921"
             ]
            ],
            "type": "histogram2d"
           }
          ],
          "histogram2dcontour": [
           {
            "colorbar": {
             "outlinewidth": 0,
             "ticks": ""
            },
            "colorscale": [
             [
              0,
              "#0d0887"
             ],
             [
              0.1111111111111111,
              "#46039f"
             ],
             [
              0.2222222222222222,
              "#7201a8"
             ],
             [
              0.3333333333333333,
              "#9c179e"
             ],
             [
              0.4444444444444444,
              "#bd3786"
             ],
             [
              0.5555555555555556,
              "#d8576b"
             ],
             [
              0.6666666666666666,
              "#ed7953"
             ],
             [
              0.7777777777777778,
              "#fb9f3a"
             ],
             [
              0.8888888888888888,
              "#fdca26"
             ],
             [
              1,
              "#f0f921"
             ]
            ],
            "type": "histogram2dcontour"
           }
          ],
          "mesh3d": [
           {
            "colorbar": {
             "outlinewidth": 0,
             "ticks": ""
            },
            "type": "mesh3d"
           }
          ],
          "parcoords": [
           {
            "line": {
             "colorbar": {
              "outlinewidth": 0,
              "ticks": ""
             }
            },
            "type": "parcoords"
           }
          ],
          "pie": [
           {
            "automargin": true,
            "type": "pie"
           }
          ],
          "scatter": [
           {
            "fillpattern": {
             "fillmode": "overlay",
             "size": 10,
             "solidity": 0.2
            },
            "type": "scatter"
           }
          ],
          "scatter3d": [
           {
            "line": {
             "colorbar": {
              "outlinewidth": 0,
              "ticks": ""
             }
            },
            "marker": {
             "colorbar": {
              "outlinewidth": 0,
              "ticks": ""
             }
            },
            "type": "scatter3d"
           }
          ],
          "scattercarpet": [
           {
            "marker": {
             "colorbar": {
              "outlinewidth": 0,
              "ticks": ""
             }
            },
            "type": "scattercarpet"
           }
          ],
          "scattergeo": [
           {
            "marker": {
             "colorbar": {
              "outlinewidth": 0,
              "ticks": ""
             }
            },
            "type": "scattergeo"
           }
          ],
          "scattergl": [
           {
            "marker": {
             "colorbar": {
              "outlinewidth": 0,
              "ticks": ""
             }
            },
            "type": "scattergl"
           }
          ],
          "scattermap": [
           {
            "marker": {
             "colorbar": {
              "outlinewidth": 0,
              "ticks": ""
             }
            },
            "type": "scattermap"
           }
          ],
          "scattermapbox": [
           {
            "marker": {
             "colorbar": {
              "outlinewidth": 0,
              "ticks": ""
             }
            },
            "type": "scattermapbox"
           }
          ],
          "scatterpolar": [
           {
            "marker": {
             "colorbar": {
              "outlinewidth": 0,
              "ticks": ""
             }
            },
            "type": "scatterpolar"
           }
          ],
          "scatterpolargl": [
           {
            "marker": {
             "colorbar": {
              "outlinewidth": 0,
              "ticks": ""
             }
            },
            "type": "scatterpolargl"
           }
          ],
          "scatterternary": [
           {
            "marker": {
             "colorbar": {
              "outlinewidth": 0,
              "ticks": ""
             }
            },
            "type": "scatterternary"
           }
          ],
          "surface": [
           {
            "colorbar": {
             "outlinewidth": 0,
             "ticks": ""
            },
            "colorscale": [
             [
              0,
              "#0d0887"
             ],
             [
              0.1111111111111111,
              "#46039f"
             ],
             [
              0.2222222222222222,
              "#7201a8"
             ],
             [
              0.3333333333333333,
              "#9c179e"
             ],
             [
              0.4444444444444444,
              "#bd3786"
             ],
             [
              0.5555555555555556,
              "#d8576b"
             ],
             [
              0.6666666666666666,
              "#ed7953"
             ],
             [
              0.7777777777777778,
              "#fb9f3a"
             ],
             [
              0.8888888888888888,
              "#fdca26"
             ],
             [
              1,
              "#f0f921"
             ]
            ],
            "type": "surface"
           }
          ],
          "table": [
           {
            "cells": {
             "fill": {
              "color": "#EBF0F8"
             },
             "line": {
              "color": "white"
             }
            },
            "header": {
             "fill": {
              "color": "#C8D4E3"
             },
             "line": {
              "color": "white"
             }
            },
            "type": "table"
           }
          ]
         },
         "layout": {
          "annotationdefaults": {
           "arrowcolor": "#2a3f5f",
           "arrowhead": 0,
           "arrowwidth": 1
          },
          "autotypenumbers": "strict",
          "coloraxis": {
           "colorbar": {
            "outlinewidth": 0,
            "ticks": ""
           }
          },
          "colorscale": {
           "diverging": [
            [
             0,
             "#8e0152"
            ],
            [
             0.1,
             "#c51b7d"
            ],
            [
             0.2,
             "#de77ae"
            ],
            [
             0.3,
             "#f1b6da"
            ],
            [
             0.4,
             "#fde0ef"
            ],
            [
             0.5,
             "#f7f7f7"
            ],
            [
             0.6,
             "#e6f5d0"
            ],
            [
             0.7,
             "#b8e186"
            ],
            [
             0.8,
             "#7fbc41"
            ],
            [
             0.9,
             "#4d9221"
            ],
            [
             1,
             "#276419"
            ]
           ],
           "sequential": [
            [
             0,
             "#0d0887"
            ],
            [
             0.1111111111111111,
             "#46039f"
            ],
            [
             0.2222222222222222,
             "#7201a8"
            ],
            [
             0.3333333333333333,
             "#9c179e"
            ],
            [
             0.4444444444444444,
             "#bd3786"
            ],
            [
             0.5555555555555556,
             "#d8576b"
            ],
            [
             0.6666666666666666,
             "#ed7953"
            ],
            [
             0.7777777777777778,
             "#fb9f3a"
            ],
            [
             0.8888888888888888,
             "#fdca26"
            ],
            [
             1,
             "#f0f921"
            ]
           ],
           "sequentialminus": [
            [
             0,
             "#0d0887"
            ],
            [
             0.1111111111111111,
             "#46039f"
            ],
            [
             0.2222222222222222,
             "#7201a8"
            ],
            [
             0.3333333333333333,
             "#9c179e"
            ],
            [
             0.4444444444444444,
             "#bd3786"
            ],
            [
             0.5555555555555556,
             "#d8576b"
            ],
            [
             0.6666666666666666,
             "#ed7953"
            ],
            [
             0.7777777777777778,
             "#fb9f3a"
            ],
            [
             0.8888888888888888,
             "#fdca26"
            ],
            [
             1,
             "#f0f921"
            ]
           ]
          },
          "colorway": [
           "#636efa",
           "#EF553B",
           "#00cc96",
           "#ab63fa",
           "#FFA15A",
           "#19d3f3",
           "#FF6692",
           "#B6E880",
           "#FF97FF",
           "#FECB52"
          ],
          "font": {
           "color": "#2a3f5f"
          },
          "geo": {
           "bgcolor": "white",
           "lakecolor": "white",
           "landcolor": "#E5ECF6",
           "showlakes": true,
           "showland": true,
           "subunitcolor": "white"
          },
          "hoverlabel": {
           "align": "left"
          },
          "hovermode": "closest",
          "mapbox": {
           "style": "light"
          },
          "paper_bgcolor": "white",
          "plot_bgcolor": "#E5ECF6",
          "polar": {
           "angularaxis": {
            "gridcolor": "white",
            "linecolor": "white",
            "ticks": ""
           },
           "bgcolor": "#E5ECF6",
           "radialaxis": {
            "gridcolor": "white",
            "linecolor": "white",
            "ticks": ""
           }
          },
          "scene": {
           "xaxis": {
            "backgroundcolor": "#E5ECF6",
            "gridcolor": "white",
            "gridwidth": 2,
            "linecolor": "white",
            "showbackground": true,
            "ticks": "",
            "zerolinecolor": "white"
           },
           "yaxis": {
            "backgroundcolor": "#E5ECF6",
            "gridcolor": "white",
            "gridwidth": 2,
            "linecolor": "white",
            "showbackground": true,
            "ticks": "",
            "zerolinecolor": "white"
           },
           "zaxis": {
            "backgroundcolor": "#E5ECF6",
            "gridcolor": "white",
            "gridwidth": 2,
            "linecolor": "white",
            "showbackground": true,
            "ticks": "",
            "zerolinecolor": "white"
           }
          },
          "shapedefaults": {
           "line": {
            "color": "#2a3f5f"
           }
          },
          "ternary": {
           "aaxis": {
            "gridcolor": "white",
            "linecolor": "white",
            "ticks": ""
           },
           "baxis": {
            "gridcolor": "white",
            "linecolor": "white",
            "ticks": ""
           },
           "bgcolor": "#E5ECF6",
           "caxis": {
            "gridcolor": "white",
            "linecolor": "white",
            "ticks": ""
           }
          },
          "title": {
           "x": 0.05
          },
          "xaxis": {
           "automargin": true,
           "gridcolor": "white",
           "linecolor": "white",
           "ticks": "",
           "title": {
            "standoff": 15
           },
           "zerolinecolor": "white",
           "zerolinewidth": 2
          },
          "yaxis": {
           "automargin": true,
           "gridcolor": "white",
           "linecolor": "white",
           "ticks": "",
           "title": {
            "standoff": 15
           },
           "zerolinecolor": "white",
           "zerolinewidth": 2
          }
         }
        },
        "title": {
         "text": "<b>Peramalan SARIMAX vs. Data Aktual (Interaktif)</b>"
        },
        "xaxis": {
         "title": {
          "text": "Tanggal"
         }
        },
        "yaxis": {
         "title": {
          "text": "Penjualan Mingguan"
         }
        }
       }
      }
     },
     "metadata": {},
     "output_type": "display_data"
    },
    {
     "name": "stdout",
     "output_type": "stream",
     "text": [
      "MAE SARIMAX: $4,215.85\n",
      "MAPE SARIMAX: 34.93%\n"
     ]
    }
   ],
   "source": [
    "import pmdarima as pm\n",
    "from sklearn.metrics import mean_absolute_error, mean_absolute_percentage_error\n",
    "\n",
    "y = weekly_df['Sales']\n",
    "features = ['Quantity', 'Discount', 'month', 'is_black_friday_week', 'is_christmas_week', 'is_easter_week']\n",
    "x = weekly_df[features]\n",
    "\n",
    "\n",
    "# Train-test split\n",
    "train_size = int(len(weekly_df) * 0.8)\n",
    "y_train, y_test = y[:train_size], y[train_size:]\n",
    "x_train, x_test = x[:train_size], x[train_size:]\n",
    "\n",
    "# Mencari model SARIMAX terbaik dengan auto_arima\n",
    "# auto_arima akan mencoba berbagai kombinasi parameter untuk menemukan model terbaik\n",
    "model = pm.auto_arima(\n",
    "    y=y_train,\n",
    "    X=x_train,\n",
    "    seasonal=True,\n",
    "    m=52, # Periode musiman untuk data mingguan\n",
    "    start_p=0, start_q=0,\n",
    "    max_p=5, max_q=5,\n",
    "    start_P=0, start_Q=0,\n",
    "    max_P=5, max_Q=5,\n",
    "    stepwise=True,\n",
    "    trace=True,\n",
    "    error_action='ignore',\n",
    "    suppress_warnings=True,\n",
    ")\n",
    "\n",
    "print(\"Model SARIMAX terbaik ditemukan:\")\n",
    "print(model.summary())\n",
    "\n",
    "# Forecasting\n",
    "forecasts, conf_int = model.predict(\n",
    "    n_periods=len(y_test),\n",
    "    X=x_test,\n",
    "    return_conf_int=True\n",
    ")\n",
    "\n",
    "# --- Visualisasi Interaktif ---\n",
    "fig_sarimax = go.Figure()\n",
    "fig_sarimax.add_trace(go.Scatter(x=y_test.index, y=y_test, name='Data Aktual (Test)', mode='lines', line=dict(color='orange')))\n",
    "fig_sarimax.add_trace(go.Scatter(x=y_test.index, y=forecasts, name='Peramalan SARIMAX', mode='lines', line=dict(color='green')))\n",
    "fig_sarimax.add_trace(go.Scatter(x=y_test.index, y=conf_int[:, 0], fill=None, mode='lines', line=dict(color='lightgreen'), showlegend=False))\n",
    "fig_sarimax.add_trace(go.Scatter(x=y_test.index, y=conf_int[:, 1], fill='tonexty', mode='lines', line=dict(color='lightgreen'), name='Interval Kepercayaan 95%'))\n",
    "\n",
    "fig_sarimax.update_layout(title_text=\"<b>Peramalan SARIMAX vs. Data Aktual (Interaktif)</b>\", xaxis_title=\"Tanggal\", yaxis_title=\"Penjualan Mingguan\")\n",
    "fig_sarimax.show()\n",
    "\n",
    "# --- Metrik Evaluasi ---\n",
    "mae_sarimax = mean_absolute_error(y_test, forecasts)\n",
    "mape_sarimax = mean_absolute_percentage_error(y_test, forecasts)\n",
    "print(f\"MAE SARIMAX: ${mae_sarimax:,.2f}\")\n",
    "print(f\"MAPE SARIMAX: {mape_sarimax:.2%}\")"
   ]
  },
  {
   "cell_type": "markdown",
   "id": "ab804854",
   "metadata": {},
   "source": [
    "**Interpretasi Hasil Model SARIMAX**\n",
    "1. Model Terbaik yang Dipilih\n",
    "Model optimal yang ditemukan adalah SARIMAX(0, 0, 0)x(0, 0, 0)[52].\n",
    "\n",
    "- (p,d,q) = (0,0,0): Ini adalah bagian non-musiman. Hasil ini menunjukkan bahwa setelah memperhitungkan pola musiman, tidak ada komponen AutoRegressive (AR), Integreated (differencing), atau Moving Average (MA) yang diperlukan. Angka tersebut berarti fluktuasi data dari minggu ke minggu (di luar musim) bersifat acak.\n",
    "- (P, D, Q, m) = (0, 0, 0, 52): Ini adalah bagian musiman dan merupakan inti dari model ini. Model ini juga tidak memerlukan komponen ARIMA musiman (P, D, Q). Namum, parameter m=52 menunjukkan bahwa model tetap menyadari adanya siklus tahunan (52 minggu) dalam data.\n",
    "\n",
    "**Key Insight: Peran Variabel Eksternal (X)**\n",
    "Alasan utama mengapa semua parameter ARIMA bernilai nol adalah karena variabel eksogen (X) sudah sangat efektif dalam menjelaskan variasi dan pola dalam data penjualan.\n",
    "\n",
    "Fitur-fituer seperti `Quantity`, `Discount`, `month`, `is_black_friday`, `is_christmas_week`, `is_easter_week` telah berhasil menangkap pola tren dan musiman, sehingga model tidak perlu lagi menggunakan komponen ARIMA yang kompleks."
   ]
  },
  {
   "cell_type": "markdown",
   "id": "35dd8947",
   "metadata": {},
   "source": [
    "## 7. Build Forecasting Model with Prophet "
   ]
  },
  {
   "cell_type": "markdown",
   "id": "311189ea",
   "metadata": {},
   "source": [
    "**Dokumentasi Metode: Prophet**\n",
    " adalah library forecasting dari Meta (Facebook) yang dirancang untuk menjadi intuitif dan robust, terutama untuk data bisnis yang memiliki pola musiman kuat disertai dengan efek hari libur. Prophet secara otomatis mendeteksi tren, perubahan tren (changepoints), serta pola musiman mingguan dan tahunan."
   ]
  },
  {
   "cell_type": "code",
   "execution_count": 26,
   "id": "0fee4f0d",
   "metadata": {},
   "outputs": [
    {
     "name": "stderr",
     "output_type": "stream",
     "text": [
      "20:07:12 - cmdstanpy - INFO - Chain [1] start processing\n",
      "20:07:12 - cmdstanpy - INFO - Chain [1] done processing\n"
     ]
    },
    {
     "name": "stdout",
     "output_type": "stream",
     "text": [
      "Prophet Forecast, Plot Interaktif:\n"
     ]
    },
    {
     "data": {
      "application/vnd.plotly.v1+json": {
       "config": {
        "plotlyServerURL": "https://plot.ly"
       },
       "data": [
        {
         "marker": {
          "color": "black",
          "size": 4
         },
         "mode": "markers",
         "name": "Actual",
         "type": "scatter",
         "x": [
          "2014-01-05T00:00:00.000000000",
          "2014-01-12T00:00:00.000000000",
          "2014-01-19T00:00:00.000000000",
          "2014-01-26T00:00:00.000000000",
          "2014-02-02T00:00:00.000000000",
          "2014-02-09T00:00:00.000000000",
          "2014-02-16T00:00:00.000000000",
          "2014-02-23T00:00:00.000000000",
          "2014-03-02T00:00:00.000000000",
          "2014-03-09T00:00:00.000000000",
          "2014-03-16T00:00:00.000000000",
          "2014-03-23T00:00:00.000000000",
          "2014-03-30T00:00:00.000000000",
          "2014-04-06T00:00:00.000000000",
          "2014-04-13T00:00:00.000000000",
          "2014-04-20T00:00:00.000000000",
          "2014-04-27T00:00:00.000000000",
          "2014-05-04T00:00:00.000000000",
          "2014-05-11T00:00:00.000000000",
          "2014-05-18T00:00:00.000000000",
          "2014-05-25T00:00:00.000000000",
          "2014-06-01T00:00:00.000000000",
          "2014-06-08T00:00:00.000000000",
          "2014-06-15T00:00:00.000000000",
          "2014-06-22T00:00:00.000000000",
          "2014-06-29T00:00:00.000000000",
          "2014-07-06T00:00:00.000000000",
          "2014-07-13T00:00:00.000000000",
          "2014-07-20T00:00:00.000000000",
          "2014-07-27T00:00:00.000000000",
          "2014-08-03T00:00:00.000000000",
          "2014-08-10T00:00:00.000000000",
          "2014-08-17T00:00:00.000000000",
          "2014-08-24T00:00:00.000000000",
          "2014-08-31T00:00:00.000000000",
          "2014-09-07T00:00:00.000000000",
          "2014-09-14T00:00:00.000000000",
          "2014-09-21T00:00:00.000000000",
          "2014-09-28T00:00:00.000000000",
          "2014-10-05T00:00:00.000000000",
          "2014-10-12T00:00:00.000000000",
          "2014-10-19T00:00:00.000000000",
          "2014-10-26T00:00:00.000000000",
          "2014-11-02T00:00:00.000000000",
          "2014-11-09T00:00:00.000000000",
          "2014-11-16T00:00:00.000000000",
          "2014-11-23T00:00:00.000000000",
          "2014-11-30T00:00:00.000000000",
          "2014-12-07T00:00:00.000000000",
          "2014-12-14T00:00:00.000000000",
          "2014-12-21T00:00:00.000000000",
          "2014-12-28T00:00:00.000000000",
          "2015-01-04T00:00:00.000000000",
          "2015-01-11T00:00:00.000000000",
          "2015-01-18T00:00:00.000000000",
          "2015-01-25T00:00:00.000000000",
          "2015-02-01T00:00:00.000000000",
          "2015-02-08T00:00:00.000000000",
          "2015-02-15T00:00:00.000000000",
          "2015-02-22T00:00:00.000000000",
          "2015-03-01T00:00:00.000000000",
          "2015-03-08T00:00:00.000000000",
          "2015-03-15T00:00:00.000000000",
          "2015-03-22T00:00:00.000000000",
          "2015-03-29T00:00:00.000000000",
          "2015-04-05T00:00:00.000000000",
          "2015-04-12T00:00:00.000000000",
          "2015-04-19T00:00:00.000000000",
          "2015-04-26T00:00:00.000000000",
          "2015-05-03T00:00:00.000000000",
          "2015-05-10T00:00:00.000000000",
          "2015-05-17T00:00:00.000000000",
          "2015-05-24T00:00:00.000000000",
          "2015-05-31T00:00:00.000000000",
          "2015-06-07T00:00:00.000000000",
          "2015-06-14T00:00:00.000000000",
          "2015-06-21T00:00:00.000000000",
          "2015-06-28T00:00:00.000000000",
          "2015-07-05T00:00:00.000000000",
          "2015-07-12T00:00:00.000000000",
          "2015-07-19T00:00:00.000000000",
          "2015-07-26T00:00:00.000000000",
          "2015-08-02T00:00:00.000000000",
          "2015-08-09T00:00:00.000000000",
          "2015-08-16T00:00:00.000000000",
          "2015-08-23T00:00:00.000000000",
          "2015-08-30T00:00:00.000000000",
          "2015-09-06T00:00:00.000000000",
          "2015-09-13T00:00:00.000000000",
          "2015-09-20T00:00:00.000000000",
          "2015-09-27T00:00:00.000000000",
          "2015-10-04T00:00:00.000000000",
          "2015-10-11T00:00:00.000000000",
          "2015-10-18T00:00:00.000000000",
          "2015-10-25T00:00:00.000000000",
          "2015-11-01T00:00:00.000000000",
          "2015-11-08T00:00:00.000000000",
          "2015-11-15T00:00:00.000000000",
          "2015-11-22T00:00:00.000000000",
          "2015-11-29T00:00:00.000000000",
          "2015-12-06T00:00:00.000000000",
          "2015-12-13T00:00:00.000000000",
          "2015-12-20T00:00:00.000000000",
          "2015-12-27T00:00:00.000000000",
          "2016-01-03T00:00:00.000000000",
          "2016-01-10T00:00:00.000000000",
          "2016-01-17T00:00:00.000000000",
          "2016-01-24T00:00:00.000000000",
          "2016-01-31T00:00:00.000000000",
          "2016-02-07T00:00:00.000000000",
          "2016-02-14T00:00:00.000000000",
          "2016-02-21T00:00:00.000000000",
          "2016-02-28T00:00:00.000000000",
          "2016-03-06T00:00:00.000000000",
          "2016-03-13T00:00:00.000000000",
          "2016-03-20T00:00:00.000000000",
          "2016-03-27T00:00:00.000000000",
          "2016-04-03T00:00:00.000000000",
          "2016-04-10T00:00:00.000000000",
          "2016-04-17T00:00:00.000000000",
          "2016-04-24T00:00:00.000000000",
          "2016-05-01T00:00:00.000000000",
          "2016-05-08T00:00:00.000000000",
          "2016-05-15T00:00:00.000000000",
          "2016-05-22T00:00:00.000000000",
          "2016-05-29T00:00:00.000000000",
          "2016-06-05T00:00:00.000000000",
          "2016-06-12T00:00:00.000000000",
          "2016-06-19T00:00:00.000000000",
          "2016-06-26T00:00:00.000000000",
          "2016-07-03T00:00:00.000000000",
          "2016-07-10T00:00:00.000000000",
          "2016-07-17T00:00:00.000000000",
          "2016-07-24T00:00:00.000000000",
          "2016-07-31T00:00:00.000000000",
          "2016-08-07T00:00:00.000000000",
          "2016-08-14T00:00:00.000000000",
          "2016-08-21T00:00:00.000000000",
          "2016-08-28T00:00:00.000000000",
          "2016-09-04T00:00:00.000000000",
          "2016-09-11T00:00:00.000000000",
          "2016-09-18T00:00:00.000000000",
          "2016-09-25T00:00:00.000000000",
          "2016-10-02T00:00:00.000000000",
          "2016-10-09T00:00:00.000000000",
          "2016-10-16T00:00:00.000000000",
          "2016-10-23T00:00:00.000000000",
          "2016-10-30T00:00:00.000000000",
          "2016-11-06T00:00:00.000000000",
          "2016-11-13T00:00:00.000000000",
          "2016-11-20T00:00:00.000000000",
          "2016-11-27T00:00:00.000000000",
          "2016-12-04T00:00:00.000000000",
          "2016-12-11T00:00:00.000000000",
          "2016-12-18T00:00:00.000000000",
          "2016-12-25T00:00:00.000000000",
          "2017-01-01T00:00:00.000000000",
          "2017-01-08T00:00:00.000000000",
          "2017-01-15T00:00:00.000000000",
          "2017-01-22T00:00:00.000000000",
          "2017-01-29T00:00:00.000000000",
          "2017-02-05T00:00:00.000000000",
          "2017-02-12T00:00:00.000000000",
          "2017-02-19T00:00:00.000000000",
          "2017-02-26T00:00:00.000000000",
          "2017-03-05T00:00:00.000000000",
          "2017-03-12T00:00:00.000000000"
         ],
         "y": {
          "bdata": "YhBYObRAdEBQjZdukvexQJhuEoMgnbFAsp3vp8YErkAK16NwPamZQMl2vp8ap4dAppvEIDC4pUBkO99PjWdsQH9qvHRTYaNADy2yne8dr0CDwMqhhQOyQM/3U+MZpOJAaJHtfJ/KsUDWo3A9itzFQESLbOfbFb1Ac2iR7Xz0pUCVQ4tspzmxQDq0yHY+KrRA3SQGgdVrvkB56SYxCJSpQMP1KFyPKLVABoGVQxukxkDufD813sy3QKJFtvP91LtA0m9fB/7kx0BKDAIrRx6pQNV46SYxNrBAAiuHFjmItkCNl24Sg/SpQLKd76cWa9NAppvEIDCjqEAj2/l+CljJQO+nxks3gLFAbxKDwMqrrkCPwvUorEazQK5H4Xo08r1A30+Nl7643kDVeOkmcenRQGB2Tx7mts1A+n5qvGRtxkD+1Hjp5gmyQGZmZmZmlcVAeekmMYjTrECPwvUozC3QQJ7vp8Z7dsxAHcnlP6z3zUBnZmZmPizaQGQ73099Zs1Ai2zn+4llykB7FK5HKWDPQHNoke00ndFAppvEILBHyEC06nO1ZUvKQA4tsp3vs5pAyXa+nxqNnEAxCKwcWmh2QF66SQxCJcRAi2zn+yllqkBU46WbRLKrQEoMAisHa6lA/yH99rWwqkBvEoPA6nK+QOXQItv5UqVAj1N0JP/N0UDRItv5voO9QIlBYOXQmbVAhetRuB4gqkDVeOkm8VvIQHWTGATGnbRAdZMYBEbMxUBiEFg5NOy1QCuHFtk+5LNAt/P91BiOt0DJdr6fGqrEQJzEILDyRqxAc2iR7TzQuUBMN4lBABW9QEoMAiunI7pAOrTIdr40sEDm0CLb2XG7QJLtfD8VhrtAJQaBlaOHukD4U+OlG1i5QEm/fR04VrxAL90kBgGHtUC4HoXrEX6xQBFYObSIz8xAZmZmZqY/w0DVeOkm4ZfEQPT91HjJD9dAqMZLN0mb1UA730+N16qwQBsv3STWQrlAiUFg5VBfvEB56SYxKN28QNEi2/me48NAVOOlm3Tf10CEDU+vVD7QQNGzWfUpbM9AMzMzM0smy0DHSzeJkYHWQOJ6FK5H2sVAhetRuP4N0EABTYQNN9PUQDq0yHb+M7xAlkOLbKdZsECS7Xw/9b6iQNV46SaxEK5AjZduEkPntUDgT42X7o/LQBFYObQIkK5ARIts5/snq0AxCKwcWl+VQP7UeOk2M81A46WbxDCq1UArhxbZLlu9QH0/NV66N61AbOf7qVFGvUB1kxgEBgfEQFtkO9+fPs1A6SYxCJwywEBpke18P2eaQKJFtvPNF8ZAWDm0yHbYr0Atsp3vd2DDQCGwcmjpGdZAYOXQIlvrxkA2XrpJXOLKQEoMAitHWL5AEVg5tMg6yED8qfHSjZG5QM3MzMycycJAH4XrUfhYtkD6fmq89LK+QJqZmZn51shACtejcL3Wp0BzaJHtjG+9QNEi2/l+6r1ANe84RXeexEBrvHSTQELVQMBbIEGxQNNAIbByaJEOzUB1kxgEFuHIQPKwUGuWQNlAz/dT4wWFxEDiehSup5i7QKJFtvNdB8lAzczMzGytuEClTkAT6YnQQJ7vp8YLR9ZAVOOlm3TvyECIFtnOJ1fZQOXQItvRbNZACawcWvSt2EBH4XoUfuLZQHNoke084tRAke18P/WNu0AhsHJoEYzAQAisHFpUdcFAR+F6FG7NzkCUGARWjra1QJzEILCyyL5ATmIQWHmVqED/kH77mjK7QCuHFtnOmrdA1XjpJrFIs0BSuB6Fq763QA==",
          "dtype": "f8"
         }
        },
        {
         "hoverinfo": "skip",
         "line": {
          "width": 0
         },
         "mode": "lines",
         "type": "scatter",
         "x": [
          "2014-01-05T00:00:00.000000000",
          "2014-01-12T00:00:00.000000000",
          "2014-01-19T00:00:00.000000000",
          "2014-01-26T00:00:00.000000000",
          "2014-02-02T00:00:00.000000000",
          "2014-02-09T00:00:00.000000000",
          "2014-02-16T00:00:00.000000000",
          "2014-02-23T00:00:00.000000000",
          "2014-03-02T00:00:00.000000000",
          "2014-03-09T00:00:00.000000000",
          "2014-03-16T00:00:00.000000000",
          "2014-03-23T00:00:00.000000000",
          "2014-03-30T00:00:00.000000000",
          "2014-04-06T00:00:00.000000000",
          "2014-04-13T00:00:00.000000000",
          "2014-04-20T00:00:00.000000000",
          "2014-04-27T00:00:00.000000000",
          "2014-05-04T00:00:00.000000000",
          "2014-05-11T00:00:00.000000000",
          "2014-05-18T00:00:00.000000000",
          "2014-05-25T00:00:00.000000000",
          "2014-06-01T00:00:00.000000000",
          "2014-06-08T00:00:00.000000000",
          "2014-06-15T00:00:00.000000000",
          "2014-06-22T00:00:00.000000000",
          "2014-06-29T00:00:00.000000000",
          "2014-07-06T00:00:00.000000000",
          "2014-07-13T00:00:00.000000000",
          "2014-07-20T00:00:00.000000000",
          "2014-07-27T00:00:00.000000000",
          "2014-08-03T00:00:00.000000000",
          "2014-08-10T00:00:00.000000000",
          "2014-08-17T00:00:00.000000000",
          "2014-08-24T00:00:00.000000000",
          "2014-08-31T00:00:00.000000000",
          "2014-09-07T00:00:00.000000000",
          "2014-09-14T00:00:00.000000000",
          "2014-09-21T00:00:00.000000000",
          "2014-09-28T00:00:00.000000000",
          "2014-10-05T00:00:00.000000000",
          "2014-10-12T00:00:00.000000000",
          "2014-10-19T00:00:00.000000000",
          "2014-10-26T00:00:00.000000000",
          "2014-11-02T00:00:00.000000000",
          "2014-11-09T00:00:00.000000000",
          "2014-11-16T00:00:00.000000000",
          "2014-11-23T00:00:00.000000000",
          "2014-11-30T00:00:00.000000000",
          "2014-12-07T00:00:00.000000000",
          "2014-12-14T00:00:00.000000000",
          "2014-12-21T00:00:00.000000000",
          "2014-12-28T00:00:00.000000000",
          "2015-01-04T00:00:00.000000000",
          "2015-01-11T00:00:00.000000000",
          "2015-01-18T00:00:00.000000000",
          "2015-01-25T00:00:00.000000000",
          "2015-02-01T00:00:00.000000000",
          "2015-02-08T00:00:00.000000000",
          "2015-02-15T00:00:00.000000000",
          "2015-02-22T00:00:00.000000000",
          "2015-03-01T00:00:00.000000000",
          "2015-03-08T00:00:00.000000000",
          "2015-03-15T00:00:00.000000000",
          "2015-03-22T00:00:00.000000000",
          "2015-03-29T00:00:00.000000000",
          "2015-04-05T00:00:00.000000000",
          "2015-04-12T00:00:00.000000000",
          "2015-04-19T00:00:00.000000000",
          "2015-04-26T00:00:00.000000000",
          "2015-05-03T00:00:00.000000000",
          "2015-05-10T00:00:00.000000000",
          "2015-05-17T00:00:00.000000000",
          "2015-05-24T00:00:00.000000000",
          "2015-05-31T00:00:00.000000000",
          "2015-06-07T00:00:00.000000000",
          "2015-06-14T00:00:00.000000000",
          "2015-06-21T00:00:00.000000000",
          "2015-06-28T00:00:00.000000000",
          "2015-07-05T00:00:00.000000000",
          "2015-07-12T00:00:00.000000000",
          "2015-07-19T00:00:00.000000000",
          "2015-07-26T00:00:00.000000000",
          "2015-08-02T00:00:00.000000000",
          "2015-08-09T00:00:00.000000000",
          "2015-08-16T00:00:00.000000000",
          "2015-08-23T00:00:00.000000000",
          "2015-08-30T00:00:00.000000000",
          "2015-09-06T00:00:00.000000000",
          "2015-09-13T00:00:00.000000000",
          "2015-09-20T00:00:00.000000000",
          "2015-09-27T00:00:00.000000000",
          "2015-10-04T00:00:00.000000000",
          "2015-10-11T00:00:00.000000000",
          "2015-10-18T00:00:00.000000000",
          "2015-10-25T00:00:00.000000000",
          "2015-11-01T00:00:00.000000000",
          "2015-11-08T00:00:00.000000000",
          "2015-11-15T00:00:00.000000000",
          "2015-11-22T00:00:00.000000000",
          "2015-11-29T00:00:00.000000000",
          "2015-12-06T00:00:00.000000000",
          "2015-12-13T00:00:00.000000000",
          "2015-12-20T00:00:00.000000000",
          "2015-12-27T00:00:00.000000000",
          "2016-01-03T00:00:00.000000000",
          "2016-01-10T00:00:00.000000000",
          "2016-01-17T00:00:00.000000000",
          "2016-01-24T00:00:00.000000000",
          "2016-01-31T00:00:00.000000000",
          "2016-02-07T00:00:00.000000000",
          "2016-02-14T00:00:00.000000000",
          "2016-02-21T00:00:00.000000000",
          "2016-02-28T00:00:00.000000000",
          "2016-03-06T00:00:00.000000000",
          "2016-03-13T00:00:00.000000000",
          "2016-03-20T00:00:00.000000000",
          "2016-03-27T00:00:00.000000000",
          "2016-04-03T00:00:00.000000000",
          "2016-04-10T00:00:00.000000000",
          "2016-04-17T00:00:00.000000000",
          "2016-04-24T00:00:00.000000000",
          "2016-05-01T00:00:00.000000000",
          "2016-05-08T00:00:00.000000000",
          "2016-05-15T00:00:00.000000000",
          "2016-05-22T00:00:00.000000000",
          "2016-05-29T00:00:00.000000000",
          "2016-06-05T00:00:00.000000000",
          "2016-06-12T00:00:00.000000000",
          "2016-06-19T00:00:00.000000000",
          "2016-06-26T00:00:00.000000000",
          "2016-07-03T00:00:00.000000000",
          "2016-07-10T00:00:00.000000000",
          "2016-07-17T00:00:00.000000000",
          "2016-07-24T00:00:00.000000000",
          "2016-07-31T00:00:00.000000000",
          "2016-08-07T00:00:00.000000000",
          "2016-08-14T00:00:00.000000000",
          "2016-08-21T00:00:00.000000000",
          "2016-08-28T00:00:00.000000000",
          "2016-09-04T00:00:00.000000000",
          "2016-09-11T00:00:00.000000000",
          "2016-09-18T00:00:00.000000000",
          "2016-09-25T00:00:00.000000000",
          "2016-10-02T00:00:00.000000000",
          "2016-10-09T00:00:00.000000000",
          "2016-10-16T00:00:00.000000000",
          "2016-10-23T00:00:00.000000000",
          "2016-10-30T00:00:00.000000000",
          "2016-11-06T00:00:00.000000000",
          "2016-11-13T00:00:00.000000000",
          "2016-11-20T00:00:00.000000000",
          "2016-11-27T00:00:00.000000000",
          "2016-12-04T00:00:00.000000000",
          "2016-12-11T00:00:00.000000000",
          "2016-12-18T00:00:00.000000000",
          "2016-12-25T00:00:00.000000000",
          "2017-01-01T00:00:00.000000000",
          "2017-01-08T00:00:00.000000000",
          "2017-01-15T00:00:00.000000000",
          "2017-01-22T00:00:00.000000000",
          "2017-01-29T00:00:00.000000000",
          "2017-02-05T00:00:00.000000000",
          "2017-02-12T00:00:00.000000000",
          "2017-02-19T00:00:00.000000000",
          "2017-02-26T00:00:00.000000000",
          "2017-03-05T00:00:00.000000000",
          "2017-03-12T00:00:00.000000000",
          "2017-03-19T00:00:00.000000000",
          "2017-03-26T00:00:00.000000000",
          "2017-04-02T00:00:00.000000000",
          "2017-04-09T00:00:00.000000000",
          "2017-04-16T00:00:00.000000000",
          "2017-04-23T00:00:00.000000000",
          "2017-04-30T00:00:00.000000000",
          "2017-05-07T00:00:00.000000000",
          "2017-05-14T00:00:00.000000000",
          "2017-05-21T00:00:00.000000000",
          "2017-05-28T00:00:00.000000000",
          "2017-06-04T00:00:00.000000000",
          "2017-06-11T00:00:00.000000000",
          "2017-06-18T00:00:00.000000000",
          "2017-06-25T00:00:00.000000000",
          "2017-07-02T00:00:00.000000000",
          "2017-07-09T00:00:00.000000000",
          "2017-07-16T00:00:00.000000000",
          "2017-07-23T00:00:00.000000000",
          "2017-07-30T00:00:00.000000000",
          "2017-08-06T00:00:00.000000000",
          "2017-08-13T00:00:00.000000000",
          "2017-08-20T00:00:00.000000000",
          "2017-08-27T00:00:00.000000000",
          "2017-09-03T00:00:00.000000000",
          "2017-09-10T00:00:00.000000000",
          "2017-09-17T00:00:00.000000000",
          "2017-09-24T00:00:00.000000000",
          "2017-10-01T00:00:00.000000000",
          "2017-10-08T00:00:00.000000000",
          "2017-10-15T00:00:00.000000000",
          "2017-10-22T00:00:00.000000000",
          "2017-10-29T00:00:00.000000000",
          "2017-11-05T00:00:00.000000000",
          "2017-11-12T00:00:00.000000000",
          "2017-11-19T00:00:00.000000000",
          "2017-11-26T00:00:00.000000000",
          "2017-12-03T00:00:00.000000000",
          "2017-12-10T00:00:00.000000000",
          "2017-12-17T00:00:00.000000000",
          "2017-12-24T00:00:00.000000000",
          "2017-12-31T00:00:00.000000000"
         ],
         "y": {
          "bdata": "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",
          "dtype": "f8"
         }
        },
        {
         "fill": "tonexty",
         "fillcolor": "rgba(0, 114, 178, 0.2)",
         "line": {
          "color": "#0072B2",
          "width": 2
         },
         "mode": "lines",
         "name": "Predicted",
         "type": "scatter",
         "x": [
          "2014-01-05T00:00:00.000000000",
          "2014-01-12T00:00:00.000000000",
          "2014-01-19T00:00:00.000000000",
          "2014-01-26T00:00:00.000000000",
          "2014-02-02T00:00:00.000000000",
          "2014-02-09T00:00:00.000000000",
          "2014-02-16T00:00:00.000000000",
          "2014-02-23T00:00:00.000000000",
          "2014-03-02T00:00:00.000000000",
          "2014-03-09T00:00:00.000000000",
          "2014-03-16T00:00:00.000000000",
          "2014-03-23T00:00:00.000000000",
          "2014-03-30T00:00:00.000000000",
          "2014-04-06T00:00:00.000000000",
          "2014-04-13T00:00:00.000000000",
          "2014-04-20T00:00:00.000000000",
          "2014-04-27T00:00:00.000000000",
          "2014-05-04T00:00:00.000000000",
          "2014-05-11T00:00:00.000000000",
          "2014-05-18T00:00:00.000000000",
          "2014-05-25T00:00:00.000000000",
          "2014-06-01T00:00:00.000000000",
          "2014-06-08T00:00:00.000000000",
          "2014-06-15T00:00:00.000000000",
          "2014-06-22T00:00:00.000000000",
          "2014-06-29T00:00:00.000000000",
          "2014-07-06T00:00:00.000000000",
          "2014-07-13T00:00:00.000000000",
          "2014-07-20T00:00:00.000000000",
          "2014-07-27T00:00:00.000000000",
          "2014-08-03T00:00:00.000000000",
          "2014-08-10T00:00:00.000000000",
          "2014-08-17T00:00:00.000000000",
          "2014-08-24T00:00:00.000000000",
          "2014-08-31T00:00:00.000000000",
          "2014-09-07T00:00:00.000000000",
          "2014-09-14T00:00:00.000000000",
          "2014-09-21T00:00:00.000000000",
          "2014-09-28T00:00:00.000000000",
          "2014-10-05T00:00:00.000000000",
          "2014-10-12T00:00:00.000000000",
          "2014-10-19T00:00:00.000000000",
          "2014-10-26T00:00:00.000000000",
          "2014-11-02T00:00:00.000000000",
          "2014-11-09T00:00:00.000000000",
          "2014-11-16T00:00:00.000000000",
          "2014-11-23T00:00:00.000000000",
          "2014-11-30T00:00:00.000000000",
          "2014-12-07T00:00:00.000000000",
          "2014-12-14T00:00:00.000000000",
          "2014-12-21T00:00:00.000000000",
          "2014-12-28T00:00:00.000000000",
          "2015-01-04T00:00:00.000000000",
          "2015-01-11T00:00:00.000000000",
          "2015-01-18T00:00:00.000000000",
          "2015-01-25T00:00:00.000000000",
          "2015-02-01T00:00:00.000000000",
          "2015-02-08T00:00:00.000000000",
          "2015-02-15T00:00:00.000000000",
          "2015-02-22T00:00:00.000000000",
          "2015-03-01T00:00:00.000000000",
          "2015-03-08T00:00:00.000000000",
          "2015-03-15T00:00:00.000000000",
          "2015-03-22T00:00:00.000000000",
          "2015-03-29T00:00:00.000000000",
          "2015-04-05T00:00:00.000000000",
          "2015-04-12T00:00:00.000000000",
          "2015-04-19T00:00:00.000000000",
          "2015-04-26T00:00:00.000000000",
          "2015-05-03T00:00:00.000000000",
          "2015-05-10T00:00:00.000000000",
          "2015-05-17T00:00:00.000000000",
          "2015-05-24T00:00:00.000000000",
          "2015-05-31T00:00:00.000000000",
          "2015-06-07T00:00:00.000000000",
          "2015-06-14T00:00:00.000000000",
          "2015-06-21T00:00:00.000000000",
          "2015-06-28T00:00:00.000000000",
          "2015-07-05T00:00:00.000000000",
          "2015-07-12T00:00:00.000000000",
          "2015-07-19T00:00:00.000000000",
          "2015-07-26T00:00:00.000000000",
          "2015-08-02T00:00:00.000000000",
          "2015-08-09T00:00:00.000000000",
          "2015-08-16T00:00:00.000000000",
          "2015-08-23T00:00:00.000000000",
          "2015-08-30T00:00:00.000000000",
          "2015-09-06T00:00:00.000000000",
          "2015-09-13T00:00:00.000000000",
          "2015-09-20T00:00:00.000000000",
          "2015-09-27T00:00:00.000000000",
          "2015-10-04T00:00:00.000000000",
          "2015-10-11T00:00:00.000000000",
          "2015-10-18T00:00:00.000000000",
          "2015-10-25T00:00:00.000000000",
          "2015-11-01T00:00:00.000000000",
          "2015-11-08T00:00:00.000000000",
          "2015-11-15T00:00:00.000000000",
          "2015-11-22T00:00:00.000000000",
          "2015-11-29T00:00:00.000000000",
          "2015-12-06T00:00:00.000000000",
          "2015-12-13T00:00:00.000000000",
          "2015-12-20T00:00:00.000000000",
          "2015-12-27T00:00:00.000000000",
          "2016-01-03T00:00:00.000000000",
          "2016-01-10T00:00:00.000000000",
          "2016-01-17T00:00:00.000000000",
          "2016-01-24T00:00:00.000000000",
          "2016-01-31T00:00:00.000000000",
          "2016-02-07T00:00:00.000000000",
          "2016-02-14T00:00:00.000000000",
          "2016-02-21T00:00:00.000000000",
          "2016-02-28T00:00:00.000000000",
          "2016-03-06T00:00:00.000000000",
          "2016-03-13T00:00:00.000000000",
          "2016-03-20T00:00:00.000000000",
          "2016-03-27T00:00:00.000000000",
          "2016-04-03T00:00:00.000000000",
          "2016-04-10T00:00:00.000000000",
          "2016-04-17T00:00:00.000000000",
          "2016-04-24T00:00:00.000000000",
          "2016-05-01T00:00:00.000000000",
          "2016-05-08T00:00:00.000000000",
          "2016-05-15T00:00:00.000000000",
          "2016-05-22T00:00:00.000000000",
          "2016-05-29T00:00:00.000000000",
          "2016-06-05T00:00:00.000000000",
          "2016-06-12T00:00:00.000000000",
          "2016-06-19T00:00:00.000000000",
          "2016-06-26T00:00:00.000000000",
          "2016-07-03T00:00:00.000000000",
          "2016-07-10T00:00:00.000000000",
          "2016-07-17T00:00:00.000000000",
          "2016-07-24T00:00:00.000000000",
          "2016-07-31T00:00:00.000000000",
          "2016-08-07T00:00:00.000000000",
          "2016-08-14T00:00:00.000000000",
          "2016-08-21T00:00:00.000000000",
          "2016-08-28T00:00:00.000000000",
          "2016-09-04T00:00:00.000000000",
          "2016-09-11T00:00:00.000000000",
          "2016-09-18T00:00:00.000000000",
          "2016-09-25T00:00:00.000000000",
          "2016-10-02T00:00:00.000000000",
          "2016-10-09T00:00:00.000000000",
          "2016-10-16T00:00:00.000000000",
          "2016-10-23T00:00:00.000000000",
          "2016-10-30T00:00:00.000000000",
          "2016-11-06T00:00:00.000000000",
          "2016-11-13T00:00:00.000000000",
          "2016-11-20T00:00:00.000000000",
          "2016-11-27T00:00:00.000000000",
          "2016-12-04T00:00:00.000000000",
          "2016-12-11T00:00:00.000000000",
          "2016-12-18T00:00:00.000000000",
          "2016-12-25T00:00:00.000000000",
          "2017-01-01T00:00:00.000000000",
          "2017-01-08T00:00:00.000000000",
          "2017-01-15T00:00:00.000000000",
          "2017-01-22T00:00:00.000000000",
          "2017-01-29T00:00:00.000000000",
          "2017-02-05T00:00:00.000000000",
          "2017-02-12T00:00:00.000000000",
          "2017-02-19T00:00:00.000000000",
          "2017-02-26T00:00:00.000000000",
          "2017-03-05T00:00:00.000000000",
          "2017-03-12T00:00:00.000000000",
          "2017-03-19T00:00:00.000000000",
          "2017-03-26T00:00:00.000000000",
          "2017-04-02T00:00:00.000000000",
          "2017-04-09T00:00:00.000000000",
          "2017-04-16T00:00:00.000000000",
          "2017-04-23T00:00:00.000000000",
          "2017-04-30T00:00:00.000000000",
          "2017-05-07T00:00:00.000000000",
          "2017-05-14T00:00:00.000000000",
          "2017-05-21T00:00:00.000000000",
          "2017-05-28T00:00:00.000000000",
          "2017-06-04T00:00:00.000000000",
          "2017-06-11T00:00:00.000000000",
          "2017-06-18T00:00:00.000000000",
          "2017-06-25T00:00:00.000000000",
          "2017-07-02T00:00:00.000000000",
          "2017-07-09T00:00:00.000000000",
          "2017-07-16T00:00:00.000000000",
          "2017-07-23T00:00:00.000000000",
          "2017-07-30T00:00:00.000000000",
          "2017-08-06T00:00:00.000000000",
          "2017-08-13T00:00:00.000000000",
          "2017-08-20T00:00:00.000000000",
          "2017-08-27T00:00:00.000000000",
          "2017-09-03T00:00:00.000000000",
          "2017-09-10T00:00:00.000000000",
          "2017-09-17T00:00:00.000000000",
          "2017-09-24T00:00:00.000000000",
          "2017-10-01T00:00:00.000000000",
          "2017-10-08T00:00:00.000000000",
          "2017-10-15T00:00:00.000000000",
          "2017-10-22T00:00:00.000000000",
          "2017-10-29T00:00:00.000000000",
          "2017-11-05T00:00:00.000000000",
          "2017-11-12T00:00:00.000000000",
          "2017-11-19T00:00:00.000000000",
          "2017-11-26T00:00:00.000000000",
          "2017-12-03T00:00:00.000000000",
          "2017-12-10T00:00:00.000000000",
          "2017-12-17T00:00:00.000000000",
          "2017-12-24T00:00:00.000000000",
          "2017-12-31T00:00:00.000000000"
         ],
         "y": {
          "bdata": "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",
          "dtype": "f8"
         }
        },
        {
         "fill": "tonexty",
         "fillcolor": "rgba(0, 114, 178, 0.2)",
         "hoverinfo": "skip",
         "line": {
          "width": 0
         },
         "mode": "lines",
         "type": "scatter",
         "x": [
          "2014-01-05T00:00:00.000000000",
          "2014-01-12T00:00:00.000000000",
          "2014-01-19T00:00:00.000000000",
          "2014-01-26T00:00:00.000000000",
          "2014-02-02T00:00:00.000000000",
          "2014-02-09T00:00:00.000000000",
          "2014-02-16T00:00:00.000000000",
          "2014-02-23T00:00:00.000000000",
          "2014-03-02T00:00:00.000000000",
          "2014-03-09T00:00:00.000000000",
          "2014-03-16T00:00:00.000000000",
          "2014-03-23T00:00:00.000000000",
          "2014-03-30T00:00:00.000000000",
          "2014-04-06T00:00:00.000000000",
          "2014-04-13T00:00:00.000000000",
          "2014-04-20T00:00:00.000000000",
          "2014-04-27T00:00:00.000000000",
          "2014-05-04T00:00:00.000000000",
          "2014-05-11T00:00:00.000000000",
          "2014-05-18T00:00:00.000000000",
          "2014-05-25T00:00:00.000000000",
          "2014-06-01T00:00:00.000000000",
          "2014-06-08T00:00:00.000000000",
          "2014-06-15T00:00:00.000000000",
          "2014-06-22T00:00:00.000000000",
          "2014-06-29T00:00:00.000000000",
          "2014-07-06T00:00:00.000000000",
          "2014-07-13T00:00:00.000000000",
          "2014-07-20T00:00:00.000000000",
          "2014-07-27T00:00:00.000000000",
          "2014-08-03T00:00:00.000000000",
          "2014-08-10T00:00:00.000000000",
          "2014-08-17T00:00:00.000000000",
          "2014-08-24T00:00:00.000000000",
          "2014-08-31T00:00:00.000000000",
          "2014-09-07T00:00:00.000000000",
          "2014-09-14T00:00:00.000000000",
          "2014-09-21T00:00:00.000000000",
          "2014-09-28T00:00:00.000000000",
          "2014-10-05T00:00:00.000000000",
          "2014-10-12T00:00:00.000000000",
          "2014-10-19T00:00:00.000000000",
          "2014-10-26T00:00:00.000000000",
          "2014-11-02T00:00:00.000000000",
          "2014-11-09T00:00:00.000000000",
          "2014-11-16T00:00:00.000000000",
          "2014-11-23T00:00:00.000000000",
          "2014-11-30T00:00:00.000000000",
          "2014-12-07T00:00:00.000000000",
          "2014-12-14T00:00:00.000000000",
          "2014-12-21T00:00:00.000000000",
          "2014-12-28T00:00:00.000000000",
          "2015-01-04T00:00:00.000000000",
          "2015-01-11T00:00:00.000000000",
          "2015-01-18T00:00:00.000000000",
          "2015-01-25T00:00:00.000000000",
          "2015-02-01T00:00:00.000000000",
          "2015-02-08T00:00:00.000000000",
          "2015-02-15T00:00:00.000000000",
          "2015-02-22T00:00:00.000000000",
          "2015-03-01T00:00:00.000000000",
          "2015-03-08T00:00:00.000000000",
          "2015-03-15T00:00:00.000000000",
          "2015-03-22T00:00:00.000000000",
          "2015-03-29T00:00:00.000000000",
          "2015-04-05T00:00:00.000000000",
          "2015-04-12T00:00:00.000000000",
          "2015-04-19T00:00:00.000000000",
          "2015-04-26T00:00:00.000000000",
          "2015-05-03T00:00:00.000000000",
          "2015-05-10T00:00:00.000000000",
          "2015-05-17T00:00:00.000000000",
          "2015-05-24T00:00:00.000000000",
          "2015-05-31T00:00:00.000000000",
          "2015-06-07T00:00:00.000000000",
          "2015-06-14T00:00:00.000000000",
          "2015-06-21T00:00:00.000000000",
          "2015-06-28T00:00:00.000000000",
          "2015-07-05T00:00:00.000000000",
          "2015-07-12T00:00:00.000000000",
          "2015-07-19T00:00:00.000000000",
          "2015-07-26T00:00:00.000000000",
          "2015-08-02T00:00:00.000000000",
          "2015-08-09T00:00:00.000000000",
          "2015-08-16T00:00:00.000000000",
          "2015-08-23T00:00:00.000000000",
          "2015-08-30T00:00:00.000000000",
          "2015-09-06T00:00:00.000000000",
          "2015-09-13T00:00:00.000000000",
          "2015-09-20T00:00:00.000000000",
          "2015-09-27T00:00:00.000000000",
          "2015-10-04T00:00:00.000000000",
          "2015-10-11T00:00:00.000000000",
          "2015-10-18T00:00:00.000000000",
          "2015-10-25T00:00:00.000000000",
          "2015-11-01T00:00:00.000000000",
          "2015-11-08T00:00:00.000000000",
          "2015-11-15T00:00:00.000000000",
          "2015-11-22T00:00:00.000000000",
          "2015-11-29T00:00:00.000000000",
          "2015-12-06T00:00:00.000000000",
          "2015-12-13T00:00:00.000000000",
          "2015-12-20T00:00:00.000000000",
          "2015-12-27T00:00:00.000000000",
          "2016-01-03T00:00:00.000000000",
          "2016-01-10T00:00:00.000000000",
          "2016-01-17T00:00:00.000000000",
          "2016-01-24T00:00:00.000000000",
          "2016-01-31T00:00:00.000000000",
          "2016-02-07T00:00:00.000000000",
          "2016-02-14T00:00:00.000000000",
          "2016-02-21T00:00:00.000000000",
          "2016-02-28T00:00:00.000000000",
          "2016-03-06T00:00:00.000000000",
          "2016-03-13T00:00:00.000000000",
          "2016-03-20T00:00:00.000000000",
          "2016-03-27T00:00:00.000000000",
          "2016-04-03T00:00:00.000000000",
          "2016-04-10T00:00:00.000000000",
          "2016-04-17T00:00:00.000000000",
          "2016-04-24T00:00:00.000000000",
          "2016-05-01T00:00:00.000000000",
          "2016-05-08T00:00:00.000000000",
          "2016-05-15T00:00:00.000000000",
          "2016-05-22T00:00:00.000000000",
          "2016-05-29T00:00:00.000000000",
          "2016-06-05T00:00:00.000000000",
          "2016-06-12T00:00:00.000000000",
          "2016-06-19T00:00:00.000000000",
          "2016-06-26T00:00:00.000000000",
          "2016-07-03T00:00:00.000000000",
          "2016-07-10T00:00:00.000000000",
          "2016-07-17T00:00:00.000000000",
          "2016-07-24T00:00:00.000000000",
          "2016-07-31T00:00:00.000000000",
          "2016-08-07T00:00:00.000000000",
          "2016-08-14T00:00:00.000000000",
          "2016-08-21T00:00:00.000000000",
          "2016-08-28T00:00:00.000000000",
          "2016-09-04T00:00:00.000000000",
          "2016-09-11T00:00:00.000000000",
          "2016-09-18T00:00:00.000000000",
          "2016-09-25T00:00:00.000000000",
          "2016-10-02T00:00:00.000000000",
          "2016-10-09T00:00:00.000000000",
          "2016-10-16T00:00:00.000000000",
          "2016-10-23T00:00:00.000000000",
          "2016-10-30T00:00:00.000000000",
          "2016-11-06T00:00:00.000000000",
          "2016-11-13T00:00:00.000000000",
          "2016-11-20T00:00:00.000000000",
          "2016-11-27T00:00:00.000000000",
          "2016-12-04T00:00:00.000000000",
          "2016-12-11T00:00:00.000000000",
          "2016-12-18T00:00:00.000000000",
          "2016-12-25T00:00:00.000000000",
          "2017-01-01T00:00:00.000000000",
          "2017-01-08T00:00:00.000000000",
          "2017-01-15T00:00:00.000000000",
          "2017-01-22T00:00:00.000000000",
          "2017-01-29T00:00:00.000000000",
          "2017-02-05T00:00:00.000000000",
          "2017-02-12T00:00:00.000000000",
          "2017-02-19T00:00:00.000000000",
          "2017-02-26T00:00:00.000000000",
          "2017-03-05T00:00:00.000000000",
          "2017-03-12T00:00:00.000000000",
          "2017-03-19T00:00:00.000000000",
          "2017-03-26T00:00:00.000000000",
          "2017-04-02T00:00:00.000000000",
          "2017-04-09T00:00:00.000000000",
          "2017-04-16T00:00:00.000000000",
          "2017-04-23T00:00:00.000000000",
          "2017-04-30T00:00:00.000000000",
          "2017-05-07T00:00:00.000000000",
          "2017-05-14T00:00:00.000000000",
          "2017-05-21T00:00:00.000000000",
          "2017-05-28T00:00:00.000000000",
          "2017-06-04T00:00:00.000000000",
          "2017-06-11T00:00:00.000000000",
          "2017-06-18T00:00:00.000000000",
          "2017-06-25T00:00:00.000000000",
          "2017-07-02T00:00:00.000000000",
          "2017-07-09T00:00:00.000000000",
          "2017-07-16T00:00:00.000000000",
          "2017-07-23T00:00:00.000000000",
          "2017-07-30T00:00:00.000000000",
          "2017-08-06T00:00:00.000000000",
          "2017-08-13T00:00:00.000000000",
          "2017-08-20T00:00:00.000000000",
          "2017-08-27T00:00:00.000000000",
          "2017-09-03T00:00:00.000000000",
          "2017-09-10T00:00:00.000000000",
          "2017-09-17T00:00:00.000000000",
          "2017-09-24T00:00:00.000000000",
          "2017-10-01T00:00:00.000000000",
          "2017-10-08T00:00:00.000000000",
          "2017-10-15T00:00:00.000000000",
          "2017-10-22T00:00:00.000000000",
          "2017-10-29T00:00:00.000000000",
          "2017-11-05T00:00:00.000000000",
          "2017-11-12T00:00:00.000000000",
          "2017-11-19T00:00:00.000000000",
          "2017-11-26T00:00:00.000000000",
          "2017-12-03T00:00:00.000000000",
          "2017-12-10T00:00:00.000000000",
          "2017-12-17T00:00:00.000000000",
          "2017-12-24T00:00:00.000000000",
          "2017-12-31T00:00:00.000000000"
         ],
         "y": {
          "bdata": "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",
          "dtype": "f8"
         }
        }
       ],
       "layout": {
        "height": 600,
        "showlegend": false,
        "template": {
         "data": {
          "bar": [
           {
            "error_x": {
             "color": "#2a3f5f"
            },
            "error_y": {
             "color": "#2a3f5f"
            },
            "marker": {
             "line": {
              "color": "#E5ECF6",
              "width": 0.5
             },
             "pattern": {
              "fillmode": "overlay",
              "size": 10,
              "solidity": 0.2
             }
            },
            "type": "bar"
           }
          ],
          "barpolar": [
           {
            "marker": {
             "line": {
              "color": "#E5ECF6",
              "width": 0.5
             },
             "pattern": {
              "fillmode": "overlay",
              "size": 10,
              "solidity": 0.2
             }
            },
            "type": "barpolar"
           }
          ],
          "carpet": [
           {
            "aaxis": {
             "endlinecolor": "#2a3f5f",
             "gridcolor": "white",
             "linecolor": "white",
             "minorgridcolor": "white",
             "startlinecolor": "#2a3f5f"
            },
            "baxis": {
             "endlinecolor": "#2a3f5f",
             "gridcolor": "white",
             "linecolor": "white",
             "minorgridcolor": "white",
             "startlinecolor": "#2a3f5f"
            },
            "type": "carpet"
           }
          ],
          "choropleth": [
           {
            "colorbar": {
             "outlinewidth": 0,
             "ticks": ""
            },
            "type": "choropleth"
           }
          ],
          "contour": [
           {
            "colorbar": {
             "outlinewidth": 0,
             "ticks": ""
            },
            "colorscale": [
             [
              0,
              "#0d0887"
             ],
             [
              0.1111111111111111,
              "#46039f"
             ],
             [
              0.2222222222222222,
              "#7201a8"
             ],
             [
              0.3333333333333333,
              "#9c179e"
             ],
             [
              0.4444444444444444,
              "#bd3786"
             ],
             [
              0.5555555555555556,
              "#d8576b"
             ],
             [
              0.6666666666666666,
              "#ed7953"
             ],
             [
              0.7777777777777778,
              "#fb9f3a"
             ],
             [
              0.8888888888888888,
              "#fdca26"
             ],
             [
              1,
              "#f0f921"
             ]
            ],
            "type": "contour"
           }
          ],
          "contourcarpet": [
           {
            "colorbar": {
             "outlinewidth": 0,
             "ticks": ""
            },
            "type": "contourcarpet"
           }
          ],
          "heatmap": [
           {
            "colorbar": {
             "outlinewidth": 0,
             "ticks": ""
            },
            "colorscale": [
             [
              0,
              "#0d0887"
             ],
             [
              0.1111111111111111,
              "#46039f"
             ],
             [
              0.2222222222222222,
              "#7201a8"
             ],
             [
              0.3333333333333333,
              "#9c179e"
             ],
             [
              0.4444444444444444,
              "#bd3786"
             ],
             [
              0.5555555555555556,
              "#d8576b"
             ],
             [
              0.6666666666666666,
              "#ed7953"
             ],
             [
              0.7777777777777778,
              "#fb9f3a"
             ],
             [
              0.8888888888888888,
              "#fdca26"
             ],
             [
              1,
              "#f0f921"
             ]
            ],
            "type": "heatmap"
           }
          ],
          "histogram": [
           {
            "marker": {
             "pattern": {
              "fillmode": "overlay",
              "size": 10,
              "solidity": 0.2
             }
            },
            "type": "histogram"
           }
          ],
          "histogram2d": [
           {
            "colorbar": {
             "outlinewidth": 0,
             "ticks": ""
            },
            "colorscale": [
             [
              0,
              "#0d0887"
             ],
             [
              0.1111111111111111,
              "#46039f"
             ],
             [
              0.2222222222222222,
              "#7201a8"
             ],
             [
              0.3333333333333333,
              "#9c179e"
             ],
             [
              0.4444444444444444,
              "#bd3786"
             ],
             [
              0.5555555555555556,
              "#d8576b"
             ],
             [
              0.6666666666666666,
              "#ed7953"
             ],
             [
              0.7777777777777778,
              "#fb9f3a"
             ],
             [
              0.8888888888888888,
              "#fdca26"
             ],
             [
              1,
              "#f0f921"
             ]
            ],
            "type": "histogram2d"
           }
          ],
          "histogram2dcontour": [
           {
            "colorbar": {
             "outlinewidth": 0,
             "ticks": ""
            },
            "colorscale": [
             [
              0,
              "#0d0887"
             ],
             [
              0.1111111111111111,
              "#46039f"
             ],
             [
              0.2222222222222222,
              "#7201a8"
             ],
             [
              0.3333333333333333,
              "#9c179e"
             ],
             [
              0.4444444444444444,
              "#bd3786"
             ],
             [
              0.5555555555555556,
              "#d8576b"
             ],
             [
              0.6666666666666666,
              "#ed7953"
             ],
             [
              0.7777777777777778,
              "#fb9f3a"
             ],
             [
              0.8888888888888888,
              "#fdca26"
             ],
             [
              1,
              "#f0f921"
             ]
            ],
            "type": "histogram2dcontour"
           }
          ],
          "mesh3d": [
           {
            "colorbar": {
             "outlinewidth": 0,
             "ticks": ""
            },
            "type": "mesh3d"
           }
          ],
          "parcoords": [
           {
            "line": {
             "colorbar": {
              "outlinewidth": 0,
              "ticks": ""
             }
            },
            "type": "parcoords"
           }
          ],
          "pie": [
           {
            "automargin": true,
            "type": "pie"
           }
          ],
          "scatter": [
           {
            "fillpattern": {
             "fillmode": "overlay",
             "size": 10,
             "solidity": 0.2
            },
            "type": "scatter"
           }
          ],
          "scatter3d": [
           {
            "line": {
             "colorbar": {
              "outlinewidth": 0,
              "ticks": ""
             }
            },
            "marker": {
             "colorbar": {
              "outlinewidth": 0,
              "ticks": ""
             }
            },
            "type": "scatter3d"
           }
          ],
          "scattercarpet": [
           {
            "marker": {
             "colorbar": {
              "outlinewidth": 0,
              "ticks": ""
             }
            },
            "type": "scattercarpet"
           }
          ],
          "scattergeo": [
           {
            "marker": {
             "colorbar": {
              "outlinewidth": 0,
              "ticks": ""
             }
            },
            "type": "scattergeo"
           }
          ],
          "scattergl": [
           {
            "marker": {
             "colorbar": {
              "outlinewidth": 0,
              "ticks": ""
             }
            },
            "type": "scattergl"
           }
          ],
          "scattermap": [
           {
            "marker": {
             "colorbar": {
              "outlinewidth": 0,
              "ticks": ""
             }
            },
            "type": "scattermap"
           }
          ],
          "scattermapbox": [
           {
            "marker": {
             "colorbar": {
              "outlinewidth": 0,
              "ticks": ""
             }
            },
            "type": "scattermapbox"
           }
          ],
          "scatterpolar": [
           {
            "marker": {
             "colorbar": {
              "outlinewidth": 0,
              "ticks": ""
             }
            },
            "type": "scatterpolar"
           }
          ],
          "scatterpolargl": [
           {
            "marker": {
             "colorbar": {
              "outlinewidth": 0,
              "ticks": ""
             }
            },
            "type": "scatterpolargl"
           }
          ],
          "scatterternary": [
           {
            "marker": {
             "colorbar": {
              "outlinewidth": 0,
              "ticks": ""
             }
            },
            "type": "scatterternary"
           }
          ],
          "surface": [
           {
            "colorbar": {
             "outlinewidth": 0,
             "ticks": ""
            },
            "colorscale": [
             [
              0,
              "#0d0887"
             ],
             [
              0.1111111111111111,
              "#46039f"
             ],
             [
              0.2222222222222222,
              "#7201a8"
             ],
             [
              0.3333333333333333,
              "#9c179e"
             ],
             [
              0.4444444444444444,
              "#bd3786"
             ],
             [
              0.5555555555555556,
              "#d8576b"
             ],
             [
              0.6666666666666666,
              "#ed7953"
             ],
             [
              0.7777777777777778,
              "#fb9f3a"
             ],
             [
              0.8888888888888888,
              "#fdca26"
             ],
             [
              1,
              "#f0f921"
             ]
            ],
            "type": "surface"
           }
          ],
          "table": [
           {
            "cells": {
             "fill": {
              "color": "#EBF0F8"
             },
             "line": {
              "color": "white"
             }
            },
            "header": {
             "fill": {
              "color": "#C8D4E3"
             },
             "line": {
              "color": "white"
             }
            },
            "type": "table"
           }
          ]
         },
         "layout": {
          "annotationdefaults": {
           "arrowcolor": "#2a3f5f",
           "arrowhead": 0,
           "arrowwidth": 1
          },
          "autotypenumbers": "strict",
          "coloraxis": {
           "colorbar": {
            "outlinewidth": 0,
            "ticks": ""
           }
          },
          "colorscale": {
           "diverging": [
            [
             0,
             "#8e0152"
            ],
            [
             0.1,
             "#c51b7d"
            ],
            [
             0.2,
             "#de77ae"
            ],
            [
             0.3,
             "#f1b6da"
            ],
            [
             0.4,
             "#fde0ef"
            ],
            [
             0.5,
             "#f7f7f7"
            ],
            [
             0.6,
             "#e6f5d0"
            ],
            [
             0.7,
             "#b8e186"
            ],
            [
             0.8,
             "#7fbc41"
            ],
            [
             0.9,
             "#4d9221"
            ],
            [
             1,
             "#276419"
            ]
           ],
           "sequential": [
            [
             0,
             "#0d0887"
            ],
            [
             0.1111111111111111,
             "#46039f"
            ],
            [
             0.2222222222222222,
             "#7201a8"
            ],
            [
             0.3333333333333333,
             "#9c179e"
            ],
            [
             0.4444444444444444,
             "#bd3786"
            ],
            [
             0.5555555555555556,
             "#d8576b"
            ],
            [
             0.6666666666666666,
             "#ed7953"
            ],
            [
             0.7777777777777778,
             "#fb9f3a"
            ],
            [
             0.8888888888888888,
             "#fdca26"
            ],
            [
             1,
             "#f0f921"
            ]
           ],
           "sequentialminus": [
            [
             0,
             "#0d0887"
            ],
            [
             0.1111111111111111,
             "#46039f"
            ],
            [
             0.2222222222222222,
             "#7201a8"
            ],
            [
             0.3333333333333333,
             "#9c179e"
            ],
            [
             0.4444444444444444,
             "#bd3786"
            ],
            [
             0.5555555555555556,
             "#d8576b"
            ],
            [
             0.6666666666666666,
             "#ed7953"
            ],
            [
             0.7777777777777778,
             "#fb9f3a"
            ],
            [
             0.8888888888888888,
             "#fdca26"
            ],
            [
             1,
             "#f0f921"
            ]
           ]
          },
          "colorway": [
           "#636efa",
           "#EF553B",
           "#00cc96",
           "#ab63fa",
           "#FFA15A",
           "#19d3f3",
           "#FF6692",
           "#B6E880",
           "#FF97FF",
           "#FECB52"
          ],
          "font": {
           "color": "#2a3f5f"
          },
          "geo": {
           "bgcolor": "white",
           "lakecolor": "white",
           "landcolor": "#E5ECF6",
           "showlakes": true,
           "showland": true,
           "subunitcolor": "white"
          },
          "hoverlabel": {
           "align": "left"
          },
          "hovermode": "closest",
          "mapbox": {
           "style": "light"
          },
          "paper_bgcolor": "white",
          "plot_bgcolor": "#E5ECF6",
          "polar": {
           "angularaxis": {
            "gridcolor": "white",
            "linecolor": "white",
            "ticks": ""
           },
           "bgcolor": "#E5ECF6",
           "radialaxis": {
            "gridcolor": "white",
            "linecolor": "white",
            "ticks": ""
           }
          },
          "scene": {
           "xaxis": {
            "backgroundcolor": "#E5ECF6",
            "gridcolor": "white",
            "gridwidth": 2,
            "linecolor": "white",
            "showbackground": true,
            "ticks": "",
            "zerolinecolor": "white"
           },
           "yaxis": {
            "backgroundcolor": "#E5ECF6",
            "gridcolor": "white",
            "gridwidth": 2,
            "linecolor": "white",
            "showbackground": true,
            "ticks": "",
            "zerolinecolor": "white"
           },
           "zaxis": {
            "backgroundcolor": "#E5ECF6",
            "gridcolor": "white",
            "gridwidth": 2,
            "linecolor": "white",
            "showbackground": true,
            "ticks": "",
            "zerolinecolor": "white"
           }
          },
          "shapedefaults": {
           "line": {
            "color": "#2a3f5f"
           }
          },
          "ternary": {
           "aaxis": {
            "gridcolor": "white",
            "linecolor": "white",
            "ticks": ""
           },
           "baxis": {
            "gridcolor": "white",
            "linecolor": "white",
            "ticks": ""
           },
           "bgcolor": "#E5ECF6",
           "caxis": {
            "gridcolor": "white",
            "linecolor": "white",
            "ticks": ""
           }
          },
          "title": {
           "x": 0.05
          },
          "xaxis": {
           "automargin": true,
           "gridcolor": "white",
           "linecolor": "white",
           "ticks": "",
           "title": {
            "standoff": 15
           },
           "zerolinecolor": "white",
           "zerolinewidth": 2
          },
          "yaxis": {
           "automargin": true,
           "gridcolor": "white",
           "linecolor": "white",
           "ticks": "",
           "title": {
            "standoff": 15
           },
           "zerolinecolor": "white",
           "zerolinewidth": 2
          }
         }
        },
        "width": 900,
        "xaxis": {
         "rangeselector": {
          "buttons": [
           {
            "count": 7,
            "label": "1w",
            "step": "day",
            "stepmode": "backward"
           },
           {
            "count": 1,
            "label": "1m",
            "step": "month",
            "stepmode": "backward"
           },
           {
            "count": 6,
            "label": "6m",
            "step": "month",
            "stepmode": "backward"
           },
           {
            "count": 1,
            "label": "1y",
            "step": "year",
            "stepmode": "backward"
           },
           {
            "step": "all"
           }
          ]
         },
         "rangeslider": {
          "visible": true
         },
         "title": {
          "text": "ds"
         },
         "type": "date"
        },
        "yaxis": {
         "title": {
          "text": "y"
         }
        }
       }
      }
     },
     "metadata": {},
     "output_type": "display_data"
    },
    {
     "name": "stdout",
     "output_type": "stream",
     "text": [
      "\n",
      "Prophet Components Plot, Interaktif:\n"
     ]
    },
    {
     "data": {
      "application/vnd.plotly.v1+json": {
       "config": {
        "plotlyServerURL": "https://plot.ly"
       },
       "data": [
        {
         "line": {
          "color": "#0072B2",
          "width": 2
         },
         "mode": "lines",
         "name": "trend",
         "type": "scatter",
         "x": [
          "2014-01-05T00:00:00.000000000",
          "2014-01-12T00:00:00.000000000",
          "2014-01-19T00:00:00.000000000",
          "2014-01-26T00:00:00.000000000",
          "2014-02-02T00:00:00.000000000",
          "2014-02-09T00:00:00.000000000",
          "2014-02-16T00:00:00.000000000",
          "2014-02-23T00:00:00.000000000",
          "2014-03-02T00:00:00.000000000",
          "2014-03-09T00:00:00.000000000",
          "2014-03-16T00:00:00.000000000",
          "2014-03-23T00:00:00.000000000",
          "2014-03-30T00:00:00.000000000",
          "2014-04-06T00:00:00.000000000",
          "2014-04-13T00:00:00.000000000",
          "2014-04-20T00:00:00.000000000",
          "2014-04-27T00:00:00.000000000",
          "2014-05-04T00:00:00.000000000",
          "2014-05-11T00:00:00.000000000",
          "2014-05-18T00:00:00.000000000",
          "2014-05-25T00:00:00.000000000",
          "2014-06-01T00:00:00.000000000",
          "2014-06-08T00:00:00.000000000",
          "2014-06-15T00:00:00.000000000",
          "2014-06-22T00:00:00.000000000",
          "2014-06-29T00:00:00.000000000",
          "2014-07-06T00:00:00.000000000",
          "2014-07-13T00:00:00.000000000",
          "2014-07-20T00:00:00.000000000",
          "2014-07-27T00:00:00.000000000",
          "2014-08-03T00:00:00.000000000",
          "2014-08-10T00:00:00.000000000",
          "2014-08-17T00:00:00.000000000",
          "2014-08-24T00:00:00.000000000",
          "2014-08-31T00:00:00.000000000",
          "2014-09-07T00:00:00.000000000",
          "2014-09-14T00:00:00.000000000",
          "2014-09-21T00:00:00.000000000",
          "2014-09-28T00:00:00.000000000",
          "2014-10-05T00:00:00.000000000",
          "2014-10-12T00:00:00.000000000",
          "2014-10-19T00:00:00.000000000",
          "2014-10-26T00:00:00.000000000",
          "2014-11-02T00:00:00.000000000",
          "2014-11-09T00:00:00.000000000",
          "2014-11-16T00:00:00.000000000",
          "2014-11-23T00:00:00.000000000",
          "2014-11-30T00:00:00.000000000",
          "2014-12-07T00:00:00.000000000",
          "2014-12-14T00:00:00.000000000",
          "2014-12-21T00:00:00.000000000",
          "2014-12-28T00:00:00.000000000",
          "2015-01-04T00:00:00.000000000",
          "2015-01-11T00:00:00.000000000",
          "2015-01-18T00:00:00.000000000",
          "2015-01-25T00:00:00.000000000",
          "2015-02-01T00:00:00.000000000",
          "2015-02-08T00:00:00.000000000",
          "2015-02-15T00:00:00.000000000",
          "2015-02-22T00:00:00.000000000",
          "2015-03-01T00:00:00.000000000",
          "2015-03-08T00:00:00.000000000",
          "2015-03-15T00:00:00.000000000",
          "2015-03-22T00:00:00.000000000",
          "2015-03-29T00:00:00.000000000",
          "2015-04-05T00:00:00.000000000",
          "2015-04-12T00:00:00.000000000",
          "2015-04-19T00:00:00.000000000",
          "2015-04-26T00:00:00.000000000",
          "2015-05-03T00:00:00.000000000",
          "2015-05-10T00:00:00.000000000",
          "2015-05-17T00:00:00.000000000",
          "2015-05-24T00:00:00.000000000",
          "2015-05-31T00:00:00.000000000",
          "2015-06-07T00:00:00.000000000",
          "2015-06-14T00:00:00.000000000",
          "2015-06-21T00:00:00.000000000",
          "2015-06-28T00:00:00.000000000",
          "2015-07-05T00:00:00.000000000",
          "2015-07-12T00:00:00.000000000",
          "2015-07-19T00:00:00.000000000",
          "2015-07-26T00:00:00.000000000",
          "2015-08-02T00:00:00.000000000",
          "2015-08-09T00:00:00.000000000",
          "2015-08-16T00:00:00.000000000",
          "2015-08-23T00:00:00.000000000",
          "2015-08-30T00:00:00.000000000",
          "2015-09-06T00:00:00.000000000",
          "2015-09-13T00:00:00.000000000",
          "2015-09-20T00:00:00.000000000",
          "2015-09-27T00:00:00.000000000",
          "2015-10-04T00:00:00.000000000",
          "2015-10-11T00:00:00.000000000",
          "2015-10-18T00:00:00.000000000",
          "2015-10-25T00:00:00.000000000",
          "2015-11-01T00:00:00.000000000",
          "2015-11-08T00:00:00.000000000",
          "2015-11-15T00:00:00.000000000",
          "2015-11-22T00:00:00.000000000",
          "2015-11-29T00:00:00.000000000",
          "2015-12-06T00:00:00.000000000",
          "2015-12-13T00:00:00.000000000",
          "2015-12-20T00:00:00.000000000",
          "2015-12-27T00:00:00.000000000",
          "2016-01-03T00:00:00.000000000",
          "2016-01-10T00:00:00.000000000",
          "2016-01-17T00:00:00.000000000",
          "2016-01-24T00:00:00.000000000",
          "2016-01-31T00:00:00.000000000",
          "2016-02-07T00:00:00.000000000",
          "2016-02-14T00:00:00.000000000",
          "2016-02-21T00:00:00.000000000",
          "2016-02-28T00:00:00.000000000",
          "2016-03-06T00:00:00.000000000",
          "2016-03-13T00:00:00.000000000",
          "2016-03-20T00:00:00.000000000",
          "2016-03-27T00:00:00.000000000",
          "2016-04-03T00:00:00.000000000",
          "2016-04-10T00:00:00.000000000",
          "2016-04-17T00:00:00.000000000",
          "2016-04-24T00:00:00.000000000",
          "2016-05-01T00:00:00.000000000",
          "2016-05-08T00:00:00.000000000",
          "2016-05-15T00:00:00.000000000",
          "2016-05-22T00:00:00.000000000",
          "2016-05-29T00:00:00.000000000",
          "2016-06-05T00:00:00.000000000",
          "2016-06-12T00:00:00.000000000",
          "2016-06-19T00:00:00.000000000",
          "2016-06-26T00:00:00.000000000",
          "2016-07-03T00:00:00.000000000",
          "2016-07-10T00:00:00.000000000",
          "2016-07-17T00:00:00.000000000",
          "2016-07-24T00:00:00.000000000",
          "2016-07-31T00:00:00.000000000",
          "2016-08-07T00:00:00.000000000",
          "2016-08-14T00:00:00.000000000",
          "2016-08-21T00:00:00.000000000",
          "2016-08-28T00:00:00.000000000",
          "2016-09-04T00:00:00.000000000",
          "2016-09-11T00:00:00.000000000",
          "2016-09-18T00:00:00.000000000",
          "2016-09-25T00:00:00.000000000",
          "2016-10-02T00:00:00.000000000",
          "2016-10-09T00:00:00.000000000",
          "2016-10-16T00:00:00.000000000",
          "2016-10-23T00:00:00.000000000",
          "2016-10-30T00:00:00.000000000",
          "2016-11-06T00:00:00.000000000",
          "2016-11-13T00:00:00.000000000",
          "2016-11-20T00:00:00.000000000",
          "2016-11-27T00:00:00.000000000",
          "2016-12-04T00:00:00.000000000",
          "2016-12-11T00:00:00.000000000",
          "2016-12-18T00:00:00.000000000",
          "2016-12-25T00:00:00.000000000",
          "2017-01-01T00:00:00.000000000",
          "2017-01-08T00:00:00.000000000",
          "2017-01-15T00:00:00.000000000",
          "2017-01-22T00:00:00.000000000",
          "2017-01-29T00:00:00.000000000",
          "2017-02-05T00:00:00.000000000",
          "2017-02-12T00:00:00.000000000",
          "2017-02-19T00:00:00.000000000",
          "2017-02-26T00:00:00.000000000",
          "2017-03-05T00:00:00.000000000",
          "2017-03-12T00:00:00.000000000",
          "2017-03-19T00:00:00.000000000",
          "2017-03-26T00:00:00.000000000",
          "2017-04-02T00:00:00.000000000",
          "2017-04-09T00:00:00.000000000",
          "2017-04-16T00:00:00.000000000",
          "2017-04-23T00:00:00.000000000",
          "2017-04-30T00:00:00.000000000",
          "2017-05-07T00:00:00.000000000",
          "2017-05-14T00:00:00.000000000",
          "2017-05-21T00:00:00.000000000",
          "2017-05-28T00:00:00.000000000",
          "2017-06-04T00:00:00.000000000",
          "2017-06-11T00:00:00.000000000",
          "2017-06-18T00:00:00.000000000",
          "2017-06-25T00:00:00.000000000",
          "2017-07-02T00:00:00.000000000",
          "2017-07-09T00:00:00.000000000",
          "2017-07-16T00:00:00.000000000",
          "2017-07-23T00:00:00.000000000",
          "2017-07-30T00:00:00.000000000",
          "2017-08-06T00:00:00.000000000",
          "2017-08-13T00:00:00.000000000",
          "2017-08-20T00:00:00.000000000",
          "2017-08-27T00:00:00.000000000",
          "2017-09-03T00:00:00.000000000",
          "2017-09-10T00:00:00.000000000",
          "2017-09-17T00:00:00.000000000",
          "2017-09-24T00:00:00.000000000",
          "2017-10-01T00:00:00.000000000",
          "2017-10-08T00:00:00.000000000",
          "2017-10-15T00:00:00.000000000",
          "2017-10-22T00:00:00.000000000",
          "2017-10-29T00:00:00.000000000",
          "2017-11-05T00:00:00.000000000",
          "2017-11-12T00:00:00.000000000",
          "2017-11-19T00:00:00.000000000",
          "2017-11-26T00:00:00.000000000",
          "2017-12-03T00:00:00.000000000",
          "2017-12-10T00:00:00.000000000",
          "2017-12-17T00:00:00.000000000",
          "2017-12-24T00:00:00.000000000",
          "2017-12-31T00:00:00.000000000"
         ],
         "xaxis": "x",
         "y": {
          "bdata": "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",
          "dtype": "f8"
         },
         "yaxis": "y"
        },
        {
         "line": {
          "color": "rgba(0, 114, 178, 0.2)",
          "width": 0
         },
         "mode": "lines",
         "name": "trend_upper",
         "type": "scatter",
         "x": [
          "2014-01-05T00:00:00.000000000",
          "2014-01-12T00:00:00.000000000",
          "2014-01-19T00:00:00.000000000",
          "2014-01-26T00:00:00.000000000",
          "2014-02-02T00:00:00.000000000",
          "2014-02-09T00:00:00.000000000",
          "2014-02-16T00:00:00.000000000",
          "2014-02-23T00:00:00.000000000",
          "2014-03-02T00:00:00.000000000",
          "2014-03-09T00:00:00.000000000",
          "2014-03-16T00:00:00.000000000",
          "2014-03-23T00:00:00.000000000",
          "2014-03-30T00:00:00.000000000",
          "2014-04-06T00:00:00.000000000",
          "2014-04-13T00:00:00.000000000",
          "2014-04-20T00:00:00.000000000",
          "2014-04-27T00:00:00.000000000",
          "2014-05-04T00:00:00.000000000",
          "2014-05-11T00:00:00.000000000",
          "2014-05-18T00:00:00.000000000",
          "2014-05-25T00:00:00.000000000",
          "2014-06-01T00:00:00.000000000",
          "2014-06-08T00:00:00.000000000",
          "2014-06-15T00:00:00.000000000",
          "2014-06-22T00:00:00.000000000",
          "2014-06-29T00:00:00.000000000",
          "2014-07-06T00:00:00.000000000",
          "2014-07-13T00:00:00.000000000",
          "2014-07-20T00:00:00.000000000",
          "2014-07-27T00:00:00.000000000",
          "2014-08-03T00:00:00.000000000",
          "2014-08-10T00:00:00.000000000",
          "2014-08-17T00:00:00.000000000",
          "2014-08-24T00:00:00.000000000",
          "2014-08-31T00:00:00.000000000",
          "2014-09-07T00:00:00.000000000",
          "2014-09-14T00:00:00.000000000",
          "2014-09-21T00:00:00.000000000",
          "2014-09-28T00:00:00.000000000",
          "2014-10-05T00:00:00.000000000",
          "2014-10-12T00:00:00.000000000",
          "2014-10-19T00:00:00.000000000",
          "2014-10-26T00:00:00.000000000",
          "2014-11-02T00:00:00.000000000",
          "2014-11-09T00:00:00.000000000",
          "2014-11-16T00:00:00.000000000",
          "2014-11-23T00:00:00.000000000",
          "2014-11-30T00:00:00.000000000",
          "2014-12-07T00:00:00.000000000",
          "2014-12-14T00:00:00.000000000",
          "2014-12-21T00:00:00.000000000",
          "2014-12-28T00:00:00.000000000",
          "2015-01-04T00:00:00.000000000",
          "2015-01-11T00:00:00.000000000",
          "2015-01-18T00:00:00.000000000",
          "2015-01-25T00:00:00.000000000",
          "2015-02-01T00:00:00.000000000",
          "2015-02-08T00:00:00.000000000",
          "2015-02-15T00:00:00.000000000",
          "2015-02-22T00:00:00.000000000",
          "2015-03-01T00:00:00.000000000",
          "2015-03-08T00:00:00.000000000",
          "2015-03-15T00:00:00.000000000",
          "2015-03-22T00:00:00.000000000",
          "2015-03-29T00:00:00.000000000",
          "2015-04-05T00:00:00.000000000",
          "2015-04-12T00:00:00.000000000",
          "2015-04-19T00:00:00.000000000",
          "2015-04-26T00:00:00.000000000",
          "2015-05-03T00:00:00.000000000",
          "2015-05-10T00:00:00.000000000",
          "2015-05-17T00:00:00.000000000",
          "2015-05-24T00:00:00.000000000",
          "2015-05-31T00:00:00.000000000",
          "2015-06-07T00:00:00.000000000",
          "2015-06-14T00:00:00.000000000",
          "2015-06-21T00:00:00.000000000",
          "2015-06-28T00:00:00.000000000",
          "2015-07-05T00:00:00.000000000",
          "2015-07-12T00:00:00.000000000",
          "2015-07-19T00:00:00.000000000",
          "2015-07-26T00:00:00.000000000",
          "2015-08-02T00:00:00.000000000",
          "2015-08-09T00:00:00.000000000",
          "2015-08-16T00:00:00.000000000",
          "2015-08-23T00:00:00.000000000",
          "2015-08-30T00:00:00.000000000",
          "2015-09-06T00:00:00.000000000",
          "2015-09-13T00:00:00.000000000",
          "2015-09-20T00:00:00.000000000",
          "2015-09-27T00:00:00.000000000",
          "2015-10-04T00:00:00.000000000",
          "2015-10-11T00:00:00.000000000",
          "2015-10-18T00:00:00.000000000",
          "2015-10-25T00:00:00.000000000",
          "2015-11-01T00:00:00.000000000",
          "2015-11-08T00:00:00.000000000",
          "2015-11-15T00:00:00.000000000",
          "2015-11-22T00:00:00.000000000",
          "2015-11-29T00:00:00.000000000",
          "2015-12-06T00:00:00.000000000",
          "2015-12-13T00:00:00.000000000",
          "2015-12-20T00:00:00.000000000",
          "2015-12-27T00:00:00.000000000",
          "2016-01-03T00:00:00.000000000",
          "2016-01-10T00:00:00.000000000",
          "2016-01-17T00:00:00.000000000",
          "2016-01-24T00:00:00.000000000",
          "2016-01-31T00:00:00.000000000",
          "2016-02-07T00:00:00.000000000",
          "2016-02-14T00:00:00.000000000",
          "2016-02-21T00:00:00.000000000",
          "2016-02-28T00:00:00.000000000",
          "2016-03-06T00:00:00.000000000",
          "2016-03-13T00:00:00.000000000",
          "2016-03-20T00:00:00.000000000",
          "2016-03-27T00:00:00.000000000",
          "2016-04-03T00:00:00.000000000",
          "2016-04-10T00:00:00.000000000",
          "2016-04-17T00:00:00.000000000",
          "2016-04-24T00:00:00.000000000",
          "2016-05-01T00:00:00.000000000",
          "2016-05-08T00:00:00.000000000",
          "2016-05-15T00:00:00.000000000",
          "2016-05-22T00:00:00.000000000",
          "2016-05-29T00:00:00.000000000",
          "2016-06-05T00:00:00.000000000",
          "2016-06-12T00:00:00.000000000",
          "2016-06-19T00:00:00.000000000",
          "2016-06-26T00:00:00.000000000",
          "2016-07-03T00:00:00.000000000",
          "2016-07-10T00:00:00.000000000",
          "2016-07-17T00:00:00.000000000",
          "2016-07-24T00:00:00.000000000",
          "2016-07-31T00:00:00.000000000",
          "2016-08-07T00:00:00.000000000",
          "2016-08-14T00:00:00.000000000",
          "2016-08-21T00:00:00.000000000",
          "2016-08-28T00:00:00.000000000",
          "2016-09-04T00:00:00.000000000",
          "2016-09-11T00:00:00.000000000",
          "2016-09-18T00:00:00.000000000",
          "2016-09-25T00:00:00.000000000",
          "2016-10-02T00:00:00.000000000",
          "2016-10-09T00:00:00.000000000",
          "2016-10-16T00:00:00.000000000",
          "2016-10-23T00:00:00.000000000",
          "2016-10-30T00:00:00.000000000",
          "2016-11-06T00:00:00.000000000",
          "2016-11-13T00:00:00.000000000",
          "2016-11-20T00:00:00.000000000",
          "2016-11-27T00:00:00.000000000",
          "2016-12-04T00:00:00.000000000",
          "2016-12-11T00:00:00.000000000",
          "2016-12-18T00:00:00.000000000",
          "2016-12-25T00:00:00.000000000",
          "2017-01-01T00:00:00.000000000",
          "2017-01-08T00:00:00.000000000",
          "2017-01-15T00:00:00.000000000",
          "2017-01-22T00:00:00.000000000",
          "2017-01-29T00:00:00.000000000",
          "2017-02-05T00:00:00.000000000",
          "2017-02-12T00:00:00.000000000",
          "2017-02-19T00:00:00.000000000",
          "2017-02-26T00:00:00.000000000",
          "2017-03-05T00:00:00.000000000",
          "2017-03-12T00:00:00.000000000",
          "2017-03-19T00:00:00.000000000",
          "2017-03-26T00:00:00.000000000",
          "2017-04-02T00:00:00.000000000",
          "2017-04-09T00:00:00.000000000",
          "2017-04-16T00:00:00.000000000",
          "2017-04-23T00:00:00.000000000",
          "2017-04-30T00:00:00.000000000",
          "2017-05-07T00:00:00.000000000",
          "2017-05-14T00:00:00.000000000",
          "2017-05-21T00:00:00.000000000",
          "2017-05-28T00:00:00.000000000",
          "2017-06-04T00:00:00.000000000",
          "2017-06-11T00:00:00.000000000",
          "2017-06-18T00:00:00.000000000",
          "2017-06-25T00:00:00.000000000",
          "2017-07-02T00:00:00.000000000",
          "2017-07-09T00:00:00.000000000",
          "2017-07-16T00:00:00.000000000",
          "2017-07-23T00:00:00.000000000",
          "2017-07-30T00:00:00.000000000",
          "2017-08-06T00:00:00.000000000",
          "2017-08-13T00:00:00.000000000",
          "2017-08-20T00:00:00.000000000",
          "2017-08-27T00:00:00.000000000",
          "2017-09-03T00:00:00.000000000",
          "2017-09-10T00:00:00.000000000",
          "2017-09-17T00:00:00.000000000",
          "2017-09-24T00:00:00.000000000",
          "2017-10-01T00:00:00.000000000",
          "2017-10-08T00:00:00.000000000",
          "2017-10-15T00:00:00.000000000",
          "2017-10-22T00:00:00.000000000",
          "2017-10-29T00:00:00.000000000",
          "2017-11-05T00:00:00.000000000",
          "2017-11-12T00:00:00.000000000",
          "2017-11-19T00:00:00.000000000",
          "2017-11-26T00:00:00.000000000",
          "2017-12-03T00:00:00.000000000",
          "2017-12-10T00:00:00.000000000",
          "2017-12-17T00:00:00.000000000",
          "2017-12-24T00:00:00.000000000",
          "2017-12-31T00:00:00.000000000"
         ],
         "xaxis": "x",
         "y": {
          "bdata": "SbzUefnIw0DmBlWLZMbDQINR1ZzPw8NAIJxVrjrBw0C85tW/pb7DQFoxVtEQvMNAIeDU4nu5w0DpjlP05rbDQLA90gVStMNAd+xQF72xw0A/m88oKK/DQAZKTjqTrMNAgD7NS/6pw0D8MkxdaafDQHcny27UpMNA8xtKgD+iw0BuEMmRqp/DQM+nRqMVncNALz/EtICaw0CQ1kHG65fDQPBtv9dWlcNATwU96cGSw0Buurv6LJDDQI5vOgyYjcNArSS5HQOLw0DM2TcvbojDQOqOtkDZhcNAjjkuUkSDw0Aw5KVjr4DDQNSOHXUafsNAdjmVhoV7w0Aa5AyY8HjDQLyOhKlbdsNAJ7/5usZzw0CS727MMXHDQPwf5N2cbsNAZ1BZ7wdsw0DSgM4Ac2nDQLA+UczdZsNAj/zTl0hkw0BtulZjs2HDQEx42S4eX8NAKjZc+ohcw0CFz9vF81nDQN9oW5FeV8NAOQLbXMlUw0CUm1ooNFLDQO802vOeT8NASc5ZvwlNw0CcutiKdErDQPCmV1bfR8NARZPWIUpFw0CYf1XttELDQOxr1LgfQMNA+z1ThIo9w0AKENJP9TrDQBniUBtgOMNAJ7TP5so1w0A2hk6yNTPDQKaBzX2gMMNAFX1MSQsuw0CFeMsUdivDQPVzSuDgKMNAZG/Jq0smw0ARYkd3tiPDQL1UxUIhIcNAakdDDowew0AVOsHZ9hvDQMIsP6VhGcNAbh+9cMwWw0Bocjw8NxTDQGHFuweiEcNAWxg70wwPw0BUa7qedwzDQE6+OWriCcNAjAi1NU0Hw0DKUjABuATDQAidq8wiAsNARecmmI3/wkCEMaJj+PzCQL5SGC9j+sJA+HOO+s33wkAylQTGOPXCQGy2epGj8sJAp9fwXA7wwkBTHmkoee3CQABl4fPj6sJArKtZv07owkBY8tGKueXCQAU5SlYk48JAsH/CIY/gwkBB2z7t+d3CQNE2u7hk28JAY5I3hM/YwkD07bNPOtbCQIRJMBul08JAsg+s5g/RwkDg1Seyes7CQA6co33ly8JAPGIfSVDJwkBqKJsUu8bCQG6+EuAlxMJAclSKq5DBwkB36gF3+77CQHuAeUJmvMJAfxbxDdG5wkCCrGjZO7fCQMrK4aSmtMJAE+lacBGywkBbB9Q7fK/CQKQlTQfnrMJA7EPG0lGqwkBajj+evKfCQMjYuGknpcJANSMyNZKiwkCibasA/Z/CQBC4JMxnncJAyD+Tl9KawkCAxwFjPZjCQDhPcC6olcJA8Nbe+RKTwkCoXk3FfZDCQDqEvZDojcJAy6ktXFOLwkBcz50nvojCQO30DfMohsJAfxp+vpODwkAPQO6J/oDCQBIkWVVpfsJAFQjEINR7wkAY7C7sPnnCQBvQmbepdsJAHrQEgxR0wkBI7mhOf3HCQHIozRnqbsJAnWIx5VRswkDHnJWwv2nCQPHW+XsqZ8JAGxFeR5VkwkBGS8ISAGLCQHCFJt5qX8JAmr+KqdVcwkDE+e50QFrCQO4zU0CrV8JAGW63CxZVwkBDqBvXgFLCQG3if6LrT8JAlxzkbVZNwkDBVkg5wUrCQOyQrAQsSMJAFssQ0JZFwkBABXWbAUPCQGo/2WZsQMJAlHk9Mtc9wkC+s6H9QTvCQOntBcmsOMJAEyhqlBc2wkA9Ys5fgjPCQGecMivtMMJAktaW9lcuwkC8EPvBwivCQOZKX40tKcJAEIXDWJgmwkA7vyckAyTCQGX5i+9tIcJAjzPwutgewkC5bVSGQxzCQOSnuFGuGcJAcKzwHRkXwkCbFhnrgxTCQN568rjuEcJAlWFhh1kPwkDhrEZXxAzCQOg/SiYvCsJAjj3i9ZkHwkBbPavHBAXCQAVyzphvAsJA60Npa9r/wUDZrE88Rf3BQCM7aQ6w+sFA2GYT4Br4wUCqW42yhfXBQF7WZoXw8sFAuPSNV1vwwUBy5lYpxu3BQEMgD/0w68FAUsZv0ZvowUA3bhKlBubBQL/x2Xdx48FASiKkS9zgwUA2JhkfR97BQDU6mvKx28FACjTLxhzZwUAeuNCah9bBQOCxUW7y08FAfz31Ql3RwUBYL8AYyM7BQBUkjOwyzMFAMaCVwp3JwUDyyPKXCMfBQMV9GW5zxMFAwYOwRN7BwUDDJd8ZSb/BQFKBN/OzvMFAFShHyB66wUAWMuGdibfBQF6A0nP0tMFAMZ2aR1+ywUCs+18gyq/BQA==",
          "dtype": "f8"
         },
         "yaxis": "y"
        },
        {
         "fill": "tonexty",
         "fillcolor": "rgba(0, 114, 178, 0.2)",
         "line": {
          "color": "rgba(0, 114, 178, 0.2)",
          "width": 0
         },
         "mode": "lines",
         "name": "trend_lower",
         "type": "scatter",
         "x": [
          "2014-01-05T00:00:00.000000000",
          "2014-01-12T00:00:00.000000000",
          "2014-01-19T00:00:00.000000000",
          "2014-01-26T00:00:00.000000000",
          "2014-02-02T00:00:00.000000000",
          "2014-02-09T00:00:00.000000000",
          "2014-02-16T00:00:00.000000000",
          "2014-02-23T00:00:00.000000000",
          "2014-03-02T00:00:00.000000000",
          "2014-03-09T00:00:00.000000000",
          "2014-03-16T00:00:00.000000000",
          "2014-03-23T00:00:00.000000000",
          "2014-03-30T00:00:00.000000000",
          "2014-04-06T00:00:00.000000000",
          "2014-04-13T00:00:00.000000000",
          "2014-04-20T00:00:00.000000000",
          "2014-04-27T00:00:00.000000000",
          "2014-05-04T00:00:00.000000000",
          "2014-05-11T00:00:00.000000000",
          "2014-05-18T00:00:00.000000000",
          "2014-05-25T00:00:00.000000000",
          "2014-06-01T00:00:00.000000000",
          "2014-06-08T00:00:00.000000000",
          "2014-06-15T00:00:00.000000000",
          "2014-06-22T00:00:00.000000000",
          "2014-06-29T00:00:00.000000000",
          "2014-07-06T00:00:00.000000000",
          "2014-07-13T00:00:00.000000000",
          "2014-07-20T00:00:00.000000000",
          "2014-07-27T00:00:00.000000000",
          "2014-08-03T00:00:00.000000000",
          "2014-08-10T00:00:00.000000000",
          "2014-08-17T00:00:00.000000000",
          "2014-08-24T00:00:00.000000000",
          "2014-08-31T00:00:00.000000000",
          "2014-09-07T00:00:00.000000000",
          "2014-09-14T00:00:00.000000000",
          "2014-09-21T00:00:00.000000000",
          "2014-09-28T00:00:00.000000000",
          "2014-10-05T00:00:00.000000000",
          "2014-10-12T00:00:00.000000000",
          "2014-10-19T00:00:00.000000000",
          "2014-10-26T00:00:00.000000000",
          "2014-11-02T00:00:00.000000000",
          "2014-11-09T00:00:00.000000000",
          "2014-11-16T00:00:00.000000000",
          "2014-11-23T00:00:00.000000000",
          "2014-11-30T00:00:00.000000000",
          "2014-12-07T00:00:00.000000000",
          "2014-12-14T00:00:00.000000000",
          "2014-12-21T00:00:00.000000000",
          "2014-12-28T00:00:00.000000000",
          "2015-01-04T00:00:00.000000000",
          "2015-01-11T00:00:00.000000000",
          "2015-01-18T00:00:00.000000000",
          "2015-01-25T00:00:00.000000000",
          "2015-02-01T00:00:00.000000000",
          "2015-02-08T00:00:00.000000000",
          "2015-02-15T00:00:00.000000000",
          "2015-02-22T00:00:00.000000000",
          "2015-03-01T00:00:00.000000000",
          "2015-03-08T00:00:00.000000000",
          "2015-03-15T00:00:00.000000000",
          "2015-03-22T00:00:00.000000000",
          "2015-03-29T00:00:00.000000000",
          "2015-04-05T00:00:00.000000000",
          "2015-04-12T00:00:00.000000000",
          "2015-04-19T00:00:00.000000000",
          "2015-04-26T00:00:00.000000000",
          "2015-05-03T00:00:00.000000000",
          "2015-05-10T00:00:00.000000000",
          "2015-05-17T00:00:00.000000000",
          "2015-05-24T00:00:00.000000000",
          "2015-05-31T00:00:00.000000000",
          "2015-06-07T00:00:00.000000000",
          "2015-06-14T00:00:00.000000000",
          "2015-06-21T00:00:00.000000000",
          "2015-06-28T00:00:00.000000000",
          "2015-07-05T00:00:00.000000000",
          "2015-07-12T00:00:00.000000000",
          "2015-07-19T00:00:00.000000000",
          "2015-07-26T00:00:00.000000000",
          "2015-08-02T00:00:00.000000000",
          "2015-08-09T00:00:00.000000000",
          "2015-08-16T00:00:00.000000000",
          "2015-08-23T00:00:00.000000000",
          "2015-08-30T00:00:00.000000000",
          "2015-09-06T00:00:00.000000000",
          "2015-09-13T00:00:00.000000000",
          "2015-09-20T00:00:00.000000000",
          "2015-09-27T00:00:00.000000000",
          "2015-10-04T00:00:00.000000000",
          "2015-10-11T00:00:00.000000000",
          "2015-10-18T00:00:00.000000000",
          "2015-10-25T00:00:00.000000000",
          "2015-11-01T00:00:00.000000000",
          "2015-11-08T00:00:00.000000000",
          "2015-11-15T00:00:00.000000000",
          "2015-11-22T00:00:00.000000000",
          "2015-11-29T00:00:00.000000000",
          "2015-12-06T00:00:00.000000000",
          "2015-12-13T00:00:00.000000000",
          "2015-12-20T00:00:00.000000000",
          "2015-12-27T00:00:00.000000000",
          "2016-01-03T00:00:00.000000000",
          "2016-01-10T00:00:00.000000000",
          "2016-01-17T00:00:00.000000000",
          "2016-01-24T00:00:00.000000000",
          "2016-01-31T00:00:00.000000000",
          "2016-02-07T00:00:00.000000000",
          "2016-02-14T00:00:00.000000000",
          "2016-02-21T00:00:00.000000000",
          "2016-02-28T00:00:00.000000000",
          "2016-03-06T00:00:00.000000000",
          "2016-03-13T00:00:00.000000000",
          "2016-03-20T00:00:00.000000000",
          "2016-03-27T00:00:00.000000000",
          "2016-04-03T00:00:00.000000000",
          "2016-04-10T00:00:00.000000000",
          "2016-04-17T00:00:00.000000000",
          "2016-04-24T00:00:00.000000000",
          "2016-05-01T00:00:00.000000000",
          "2016-05-08T00:00:00.000000000",
          "2016-05-15T00:00:00.000000000",
          "2016-05-22T00:00:00.000000000",
          "2016-05-29T00:00:00.000000000",
          "2016-06-05T00:00:00.000000000",
          "2016-06-12T00:00:00.000000000",
          "2016-06-19T00:00:00.000000000",
          "2016-06-26T00:00:00.000000000",
          "2016-07-03T00:00:00.000000000",
          "2016-07-10T00:00:00.000000000",
          "2016-07-17T00:00:00.000000000",
          "2016-07-24T00:00:00.000000000",
          "2016-07-31T00:00:00.000000000",
          "2016-08-07T00:00:00.000000000",
          "2016-08-14T00:00:00.000000000",
          "2016-08-21T00:00:00.000000000",
          "2016-08-28T00:00:00.000000000",
          "2016-09-04T00:00:00.000000000",
          "2016-09-11T00:00:00.000000000",
          "2016-09-18T00:00:00.000000000",
          "2016-09-25T00:00:00.000000000",
          "2016-10-02T00:00:00.000000000",
          "2016-10-09T00:00:00.000000000",
          "2016-10-16T00:00:00.000000000",
          "2016-10-23T00:00:00.000000000",
          "2016-10-30T00:00:00.000000000",
          "2016-11-06T00:00:00.000000000",
          "2016-11-13T00:00:00.000000000",
          "2016-11-20T00:00:00.000000000",
          "2016-11-27T00:00:00.000000000",
          "2016-12-04T00:00:00.000000000",
          "2016-12-11T00:00:00.000000000",
          "2016-12-18T00:00:00.000000000",
          "2016-12-25T00:00:00.000000000",
          "2017-01-01T00:00:00.000000000",
          "2017-01-08T00:00:00.000000000",
          "2017-01-15T00:00:00.000000000",
          "2017-01-22T00:00:00.000000000",
          "2017-01-29T00:00:00.000000000",
          "2017-02-05T00:00:00.000000000",
          "2017-02-12T00:00:00.000000000",
          "2017-02-19T00:00:00.000000000",
          "2017-02-26T00:00:00.000000000",
          "2017-03-05T00:00:00.000000000",
          "2017-03-12T00:00:00.000000000",
          "2017-03-19T00:00:00.000000000",
          "2017-03-26T00:00:00.000000000",
          "2017-04-02T00:00:00.000000000",
          "2017-04-09T00:00:00.000000000",
          "2017-04-16T00:00:00.000000000",
          "2017-04-23T00:00:00.000000000",
          "2017-04-30T00:00:00.000000000",
          "2017-05-07T00:00:00.000000000",
          "2017-05-14T00:00:00.000000000",
          "2017-05-21T00:00:00.000000000",
          "2017-05-28T00:00:00.000000000",
          "2017-06-04T00:00:00.000000000",
          "2017-06-11T00:00:00.000000000",
          "2017-06-18T00:00:00.000000000",
          "2017-06-25T00:00:00.000000000",
          "2017-07-02T00:00:00.000000000",
          "2017-07-09T00:00:00.000000000",
          "2017-07-16T00:00:00.000000000",
          "2017-07-23T00:00:00.000000000",
          "2017-07-30T00:00:00.000000000",
          "2017-08-06T00:00:00.000000000",
          "2017-08-13T00:00:00.000000000",
          "2017-08-20T00:00:00.000000000",
          "2017-08-27T00:00:00.000000000",
          "2017-09-03T00:00:00.000000000",
          "2017-09-10T00:00:00.000000000",
          "2017-09-17T00:00:00.000000000",
          "2017-09-24T00:00:00.000000000",
          "2017-10-01T00:00:00.000000000",
          "2017-10-08T00:00:00.000000000",
          "2017-10-15T00:00:00.000000000",
          "2017-10-22T00:00:00.000000000",
          "2017-10-29T00:00:00.000000000",
          "2017-11-05T00:00:00.000000000",
          "2017-11-12T00:00:00.000000000",
          "2017-11-19T00:00:00.000000000",
          "2017-11-26T00:00:00.000000000",
          "2017-12-03T00:00:00.000000000",
          "2017-12-10T00:00:00.000000000",
          "2017-12-17T00:00:00.000000000",
          "2017-12-24T00:00:00.000000000",
          "2017-12-31T00:00:00.000000000"
         ],
         "xaxis": "x",
         "y": {
          "bdata": "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",
          "dtype": "f8"
         },
         "yaxis": "y"
        },
        {
         "line": {
          "color": "#0072B2",
          "width": 2
         },
         "mode": "lines",
         "name": "holidays",
         "text": [
          "",
          "",
          "",
          "",
          "",
          "",
          "",
          "",
          "",
          "",
          "",
          "",
          "",
          "",
          "",
          "",
          "",
          "",
          "",
          "",
          "",
          "",
          "",
          "",
          "",
          "",
          "",
          "",
          "",
          "",
          "",
          "",
          "",
          "",
          "",
          "",
          "",
          "",
          "",
          "",
          "",
          "",
          "",
          "",
          "",
          "",
          "",
          "black_friday+2",
          "",
          "",
          "",
          "",
          "",
          "",
          "",
          "",
          "",
          "",
          "",
          "",
          "",
          "",
          "",
          "",
          "",
          "",
          "",
          "",
          "",
          "",
          "",
          "",
          "",
          "",
          "",
          "",
          "",
          "",
          "",
          "",
          "",
          "",
          "",
          "",
          "",
          "",
          "",
          "",
          "",
          "",
          "",
          "",
          "",
          "",
          "",
          "",
          "",
          "",
          "",
          "black_friday+2",
          "",
          "",
          "",
          "",
          "",
          "",
          "",
          "",
          "",
          "",
          "",
          "",
          "",
          "",
          "",
          "",
          "",
          "",
          "",
          "",
          "",
          "",
          "",
          "",
          "",
          "",
          "",
          "",
          "",
          "",
          "",
          "",
          "",
          "",
          "",
          "",
          "",
          "",
          "",
          "",
          "",
          "",
          "",
          "",
          "",
          "",
          "",
          "",
          "",
          "",
          "",
          "black_friday+2",
          "",
          "",
          "",
          "Christmas Day",
          "New Year's Day",
          "",
          "",
          "",
          "",
          "",
          "",
          "",
          "",
          "",
          "",
          "",
          "",
          "",
          "",
          "",
          "",
          "",
          "",
          "",
          "",
          "",
          "",
          "",
          "",
          "",
          "",
          "",
          "",
          "",
          "",
          "",
          "",
          "",
          "",
          "",
          "",
          "",
          "",
          "",
          "",
          "",
          "",
          "",
          "",
          "",
          "",
          "black_friday+2",
          "",
          "",
          "",
          "",
          ""
         ],
         "type": "scatter",
         "x": [
          "2014-01-05T00:00:00.000000000",
          "2014-01-12T00:00:00.000000000",
          "2014-01-19T00:00:00.000000000",
          "2014-01-26T00:00:00.000000000",
          "2014-02-02T00:00:00.000000000",
          "2014-02-09T00:00:00.000000000",
          "2014-02-16T00:00:00.000000000",
          "2014-02-23T00:00:00.000000000",
          "2014-03-02T00:00:00.000000000",
          "2014-03-09T00:00:00.000000000",
          "2014-03-16T00:00:00.000000000",
          "2014-03-23T00:00:00.000000000",
          "2014-03-30T00:00:00.000000000",
          "2014-04-06T00:00:00.000000000",
          "2014-04-13T00:00:00.000000000",
          "2014-04-20T00:00:00.000000000",
          "2014-04-27T00:00:00.000000000",
          "2014-05-04T00:00:00.000000000",
          "2014-05-11T00:00:00.000000000",
          "2014-05-18T00:00:00.000000000",
          "2014-05-25T00:00:00.000000000",
          "2014-06-01T00:00:00.000000000",
          "2014-06-08T00:00:00.000000000",
          "2014-06-15T00:00:00.000000000",
          "2014-06-22T00:00:00.000000000",
          "2014-06-29T00:00:00.000000000",
          "2014-07-06T00:00:00.000000000",
          "2014-07-13T00:00:00.000000000",
          "2014-07-20T00:00:00.000000000",
          "2014-07-27T00:00:00.000000000",
          "2014-08-03T00:00:00.000000000",
          "2014-08-10T00:00:00.000000000",
          "2014-08-17T00:00:00.000000000",
          "2014-08-24T00:00:00.000000000",
          "2014-08-31T00:00:00.000000000",
          "2014-09-07T00:00:00.000000000",
          "2014-09-14T00:00:00.000000000",
          "2014-09-21T00:00:00.000000000",
          "2014-09-28T00:00:00.000000000",
          "2014-10-05T00:00:00.000000000",
          "2014-10-12T00:00:00.000000000",
          "2014-10-19T00:00:00.000000000",
          "2014-10-26T00:00:00.000000000",
          "2014-11-02T00:00:00.000000000",
          "2014-11-09T00:00:00.000000000",
          "2014-11-16T00:00:00.000000000",
          "2014-11-23T00:00:00.000000000",
          "2014-11-30T00:00:00.000000000",
          "2014-12-07T00:00:00.000000000",
          "2014-12-14T00:00:00.000000000",
          "2014-12-21T00:00:00.000000000",
          "2014-12-28T00:00:00.000000000",
          "2015-01-04T00:00:00.000000000",
          "2015-01-11T00:00:00.000000000",
          "2015-01-18T00:00:00.000000000",
          "2015-01-25T00:00:00.000000000",
          "2015-02-01T00:00:00.000000000",
          "2015-02-08T00:00:00.000000000",
          "2015-02-15T00:00:00.000000000",
          "2015-02-22T00:00:00.000000000",
          "2015-03-01T00:00:00.000000000",
          "2015-03-08T00:00:00.000000000",
          "2015-03-15T00:00:00.000000000",
          "2015-03-22T00:00:00.000000000",
          "2015-03-29T00:00:00.000000000",
          "2015-04-05T00:00:00.000000000",
          "2015-04-12T00:00:00.000000000",
          "2015-04-19T00:00:00.000000000",
          "2015-04-26T00:00:00.000000000",
          "2015-05-03T00:00:00.000000000",
          "2015-05-10T00:00:00.000000000",
          "2015-05-17T00:00:00.000000000",
          "2015-05-24T00:00:00.000000000",
          "2015-05-31T00:00:00.000000000",
          "2015-06-07T00:00:00.000000000",
          "2015-06-14T00:00:00.000000000",
          "2015-06-21T00:00:00.000000000",
          "2015-06-28T00:00:00.000000000",
          "2015-07-05T00:00:00.000000000",
          "2015-07-12T00:00:00.000000000",
          "2015-07-19T00:00:00.000000000",
          "2015-07-26T00:00:00.000000000",
          "2015-08-02T00:00:00.000000000",
          "2015-08-09T00:00:00.000000000",
          "2015-08-16T00:00:00.000000000",
          "2015-08-23T00:00:00.000000000",
          "2015-08-30T00:00:00.000000000",
          "2015-09-06T00:00:00.000000000",
          "2015-09-13T00:00:00.000000000",
          "2015-09-20T00:00:00.000000000",
          "2015-09-27T00:00:00.000000000",
          "2015-10-04T00:00:00.000000000",
          "2015-10-11T00:00:00.000000000",
          "2015-10-18T00:00:00.000000000",
          "2015-10-25T00:00:00.000000000",
          "2015-11-01T00:00:00.000000000",
          "2015-11-08T00:00:00.000000000",
          "2015-11-15T00:00:00.000000000",
          "2015-11-22T00:00:00.000000000",
          "2015-11-29T00:00:00.000000000",
          "2015-12-06T00:00:00.000000000",
          "2015-12-13T00:00:00.000000000",
          "2015-12-20T00:00:00.000000000",
          "2015-12-27T00:00:00.000000000",
          "2016-01-03T00:00:00.000000000",
          "2016-01-10T00:00:00.000000000",
          "2016-01-17T00:00:00.000000000",
          "2016-01-24T00:00:00.000000000",
          "2016-01-31T00:00:00.000000000",
          "2016-02-07T00:00:00.000000000",
          "2016-02-14T00:00:00.000000000",
          "2016-02-21T00:00:00.000000000",
          "2016-02-28T00:00:00.000000000",
          "2016-03-06T00:00:00.000000000",
          "2016-03-13T00:00:00.000000000",
          "2016-03-20T00:00:00.000000000",
          "2016-03-27T00:00:00.000000000",
          "2016-04-03T00:00:00.000000000",
          "2016-04-10T00:00:00.000000000",
          "2016-04-17T00:00:00.000000000",
          "2016-04-24T00:00:00.000000000",
          "2016-05-01T00:00:00.000000000",
          "2016-05-08T00:00:00.000000000",
          "2016-05-15T00:00:00.000000000",
          "2016-05-22T00:00:00.000000000",
          "2016-05-29T00:00:00.000000000",
          "2016-06-05T00:00:00.000000000",
          "2016-06-12T00:00:00.000000000",
          "2016-06-19T00:00:00.000000000",
          "2016-06-26T00:00:00.000000000",
          "2016-07-03T00:00:00.000000000",
          "2016-07-10T00:00:00.000000000",
          "2016-07-17T00:00:00.000000000",
          "2016-07-24T00:00:00.000000000",
          "2016-07-31T00:00:00.000000000",
          "2016-08-07T00:00:00.000000000",
          "2016-08-14T00:00:00.000000000",
          "2016-08-21T00:00:00.000000000",
          "2016-08-28T00:00:00.000000000",
          "2016-09-04T00:00:00.000000000",
          "2016-09-11T00:00:00.000000000",
          "2016-09-18T00:00:00.000000000",
          "2016-09-25T00:00:00.000000000",
          "2016-10-02T00:00:00.000000000",
          "2016-10-09T00:00:00.000000000",
          "2016-10-16T00:00:00.000000000",
          "2016-10-23T00:00:00.000000000",
          "2016-10-30T00:00:00.000000000",
          "2016-11-06T00:00:00.000000000",
          "2016-11-13T00:00:00.000000000",
          "2016-11-20T00:00:00.000000000",
          "2016-11-27T00:00:00.000000000",
          "2016-12-04T00:00:00.000000000",
          "2016-12-11T00:00:00.000000000",
          "2016-12-18T00:00:00.000000000",
          "2016-12-25T00:00:00.000000000",
          "2017-01-01T00:00:00.000000000",
          "2017-01-08T00:00:00.000000000",
          "2017-01-15T00:00:00.000000000",
          "2017-01-22T00:00:00.000000000",
          "2017-01-29T00:00:00.000000000",
          "2017-02-05T00:00:00.000000000",
          "2017-02-12T00:00:00.000000000",
          "2017-02-19T00:00:00.000000000",
          "2017-02-26T00:00:00.000000000",
          "2017-03-05T00:00:00.000000000",
          "2017-03-12T00:00:00.000000000",
          "2017-03-19T00:00:00.000000000",
          "2017-03-26T00:00:00.000000000",
          "2017-04-02T00:00:00.000000000",
          "2017-04-09T00:00:00.000000000",
          "2017-04-16T00:00:00.000000000",
          "2017-04-23T00:00:00.000000000",
          "2017-04-30T00:00:00.000000000",
          "2017-05-07T00:00:00.000000000",
          "2017-05-14T00:00:00.000000000",
          "2017-05-21T00:00:00.000000000",
          "2017-05-28T00:00:00.000000000",
          "2017-06-04T00:00:00.000000000",
          "2017-06-11T00:00:00.000000000",
          "2017-06-18T00:00:00.000000000",
          "2017-06-25T00:00:00.000000000",
          "2017-07-02T00:00:00.000000000",
          "2017-07-09T00:00:00.000000000",
          "2017-07-16T00:00:00.000000000",
          "2017-07-23T00:00:00.000000000",
          "2017-07-30T00:00:00.000000000",
          "2017-08-06T00:00:00.000000000",
          "2017-08-13T00:00:00.000000000",
          "2017-08-20T00:00:00.000000000",
          "2017-08-27T00:00:00.000000000",
          "2017-09-03T00:00:00.000000000",
          "2017-09-10T00:00:00.000000000",
          "2017-09-17T00:00:00.000000000",
          "2017-09-24T00:00:00.000000000",
          "2017-10-01T00:00:00.000000000",
          "2017-10-08T00:00:00.000000000",
          "2017-10-15T00:00:00.000000000",
          "2017-10-22T00:00:00.000000000",
          "2017-10-29T00:00:00.000000000",
          "2017-11-05T00:00:00.000000000",
          "2017-11-12T00:00:00.000000000",
          "2017-11-19T00:00:00.000000000",
          "2017-11-26T00:00:00.000000000",
          "2017-12-03T00:00:00.000000000",
          "2017-12-10T00:00:00.000000000",
          "2017-12-17T00:00:00.000000000",
          "2017-12-24T00:00:00.000000000",
          "2017-12-31T00:00:00.000000000"
         ],
         "xaxis": "x2",
         "y": {
          "bdata": "AAAAAAAAAAAAAAAAAAAAAAAAAAAAAAAAAAAAAAAAAAAAAAAAAAAAAAAAAAAAAAAAAAAAAAAAAAAAAAAAAAAAAAAAAAAAAAAAAAAAAAAAAAAAAAAAAAAAAAAAAAAAAAAAAAAAAAAAAAAAAAAAAAAAAAAAAAAAAAAAAAAAAAAAAAAAAAAAAAAAAAAAAAAAAAAAAAAAAAAAAAAAAAAAAAAAAAAAAAAAAAAAAAAAAAAAAAAAAAAAAAAAAAAAAAAAAAAAAAAAAAAAAAAAAAAAAAAAAAAAAAAAAAAAAAAAAAAAAAAAAAAAAAAAAAAAAAAAAAAAAAAAAAAAAAAAAAAAAAAAAAAAAAAAAAAAAAAAAAAAAAAAAAAAAAAAAAAAAAAAAAAAAAAAAAAAAAAAAAAAAAAAAAAAAAAAAAAAAAAAAAAAAAAAAAAAAAAAAAAAAAAAAAAAAAAAAAAAAAAAAAAAAAAAAAAAAAAAAAAAAAAAAAAAAAAAAAAAAAAAAOu0XKC6noDAAAAAAAAAAAAAAAAAAAAAAAAAAAAAAAAAAAAAAAAAAAAAAAAAAAAAAAAAAAAAAAAAAAAAAAAAAAAAAAAAAAAAAAAAAAAAAAAAAAAAAAAAAAAAAAAAAAAAAAAAAAAAAAAAAAAAAAAAAAAAAAAAAAAAAAAAAAAAAAAAAAAAAAAAAAAAAAAAAAAAAAAAAAAAAAAAAAAAAAAAAAAAAAAAAAAAAAAAAAAAAAAAAAAAAAAAAAAAAAAAAAAAAAAAAAAAAAAAAAAAAAAAAAAAAAAAAAAAAAAAAAAAAAAAAAAAAAAAAAAAAAAAAAAAAAAAAAAAAAAAAAAAAAAAAAAAAAAAAAAAAAAAAAAAAAAAAAAAAAAAAAAAAAAAAAAAAAAAAAAAAAAAAAAAAAAAAAAAAAAAAAAAAAAAAAAAAAAAAAAAAAAAAAAAAAAAAAAAAAAAAAAAAAAAAAAAAAAAAAAAAAAAAAAAAAAAAAAAAAAAAAAAAAAAAAAAAAAAAAAAAAAAAAAAAAAAAAAAAAAAAAAAAAAAAAAAAAAAAAAAAAAA67RcoLqegMAAAAAAAAAAAAAAAAAAAAAAAAAAAAAAAAAAAAAAAAAAAAAAAAAAAAAAAAAAAAAAAAAAAAAAAAAAAAAAAAAAAAAAAAAAAAAAAAAAAAAAAAAAAAAAAAAAAAAAAAAAAAAAAAAAAAAAAAAAAAAAAAAAAAAAAAAAAAAAAAAAAAAAAAAAAAAAAAAAAAAAAAAAAAAAAAAAAAAAAAAAAAAAAAAAAAAAAAAAAAAAAAAAAAAAAAAAAAAAAAAAAAAAAAAAAAAAAAAAAAAAAAAAAAAAAAAAAAAAAAAAAAAAAAAAAAAAAAAAAAAAAAAAAAAAAAAAAAAAAAAAAAAAAAAAAAAAAAAAAAAAAAAAAAAAAAAAAAAAAAAAAAAAAAAAAAAAAAAAAAAAAAAAAAAAAAAAAAAAAAAAAAAAAAAAAAAAAAAAAAAAAAAAAAAAAAAAAAAAAAAAAAAAAAAAAAAAAAAAAAAAAAAAAAAAAAAAAAAAAAAAAAAAAAAAAAAAAAAAAAAAAAAAAAAAAAAAAAAAAAAAAAAAAAAAAAAAAAAAAAAAAADrtFygup6AwAAAAAAAAAAAAAAAAAAAAAAAAAAAAAAAALFuV0fMhaFANpXitls/uMAAAAAAAAAAAAAAAAAAAAAAAAAAAAAAAAAAAAAAAAAAAAAAAAAAAAAAAAAAAAAAAAAAAAAAAAAAAAAAAAAAAAAAAAAAAAAAAAAAAAAAAAAAAAAAAAAAAAAAAAAAAAAAAAAAAAAAAAAAAAAAAAAAAAAAAAAAAAAAAAAAAAAAAAAAAAAAAAAAAAAAAAAAAAAAAAAAAAAAAAAAAAAAAAAAAAAAAAAAAAAAAAAAAAAAAAAAAAAAAAAAAAAAAAAAAAAAAAAAAAAAAAAAAAAAAAAAAAAAAAAAAAAAAAAAAAAAAAAAAAAAAAAAAAAAAAAAAAAAAAAAAAAAAAAAAAAAAAAAAAAAAAAAAAAAAAAAAAAAAAAAAAAAAAAAAAAAAAAAAAAAAAAAAAAAAAAAAAAAAAAAAAAAAAAAAAAAAAAAAAAAAAAAAAAAAAAAAAAAAAAAAAAAAAAAAAAAAAAAAAAAAAAAAAAAAAAAAAAAAAAAAAAAAAAAAOu0XKC6noDAAAAAAAAAAAAAAAAAAAAAAAAAAAAAAAAAAAAAAAAAAAAAAAAAAAAAAA==",
          "dtype": "f8"
         },
         "yaxis": "y2"
        },
        {
         "line": {
          "color": "#0072B2",
          "width": 2
         },
         "mode": "lines",
         "name": "extra_regressors_additive",
         "type": "scatter",
         "x": [
          "2014-01-05T00:00:00.000000000",
          "2014-01-12T00:00:00.000000000",
          "2014-01-19T00:00:00.000000000",
          "2014-01-26T00:00:00.000000000",
          "2014-02-02T00:00:00.000000000",
          "2014-02-09T00:00:00.000000000",
          "2014-02-16T00:00:00.000000000",
          "2014-02-23T00:00:00.000000000",
          "2014-03-02T00:00:00.000000000",
          "2014-03-09T00:00:00.000000000",
          "2014-03-16T00:00:00.000000000",
          "2014-03-23T00:00:00.000000000",
          "2014-03-30T00:00:00.000000000",
          "2014-04-06T00:00:00.000000000",
          "2014-04-13T00:00:00.000000000",
          "2014-04-20T00:00:00.000000000",
          "2014-04-27T00:00:00.000000000",
          "2014-05-04T00:00:00.000000000",
          "2014-05-11T00:00:00.000000000",
          "2014-05-18T00:00:00.000000000",
          "2014-05-25T00:00:00.000000000",
          "2014-06-01T00:00:00.000000000",
          "2014-06-08T00:00:00.000000000",
          "2014-06-15T00:00:00.000000000",
          "2014-06-22T00:00:00.000000000",
          "2014-06-29T00:00:00.000000000",
          "2014-07-06T00:00:00.000000000",
          "2014-07-13T00:00:00.000000000",
          "2014-07-20T00:00:00.000000000",
          "2014-07-27T00:00:00.000000000",
          "2014-08-03T00:00:00.000000000",
          "2014-08-10T00:00:00.000000000",
          "2014-08-17T00:00:00.000000000",
          "2014-08-24T00:00:00.000000000",
          "2014-08-31T00:00:00.000000000",
          "2014-09-07T00:00:00.000000000",
          "2014-09-14T00:00:00.000000000",
          "2014-09-21T00:00:00.000000000",
          "2014-09-28T00:00:00.000000000",
          "2014-10-05T00:00:00.000000000",
          "2014-10-12T00:00:00.000000000",
          "2014-10-19T00:00:00.000000000",
          "2014-10-26T00:00:00.000000000",
          "2014-11-02T00:00:00.000000000",
          "2014-11-09T00:00:00.000000000",
          "2014-11-16T00:00:00.000000000",
          "2014-11-23T00:00:00.000000000",
          "2014-11-30T00:00:00.000000000",
          "2014-12-07T00:00:00.000000000",
          "2014-12-14T00:00:00.000000000",
          "2014-12-21T00:00:00.000000000",
          "2014-12-28T00:00:00.000000000",
          "2015-01-04T00:00:00.000000000",
          "2015-01-11T00:00:00.000000000",
          "2015-01-18T00:00:00.000000000",
          "2015-01-25T00:00:00.000000000",
          "2015-02-01T00:00:00.000000000",
          "2015-02-08T00:00:00.000000000",
          "2015-02-15T00:00:00.000000000",
          "2015-02-22T00:00:00.000000000",
          "2015-03-01T00:00:00.000000000",
          "2015-03-08T00:00:00.000000000",
          "2015-03-15T00:00:00.000000000",
          "2015-03-22T00:00:00.000000000",
          "2015-03-29T00:00:00.000000000",
          "2015-04-05T00:00:00.000000000",
          "2015-04-12T00:00:00.000000000",
          "2015-04-19T00:00:00.000000000",
          "2015-04-26T00:00:00.000000000",
          "2015-05-03T00:00:00.000000000",
          "2015-05-10T00:00:00.000000000",
          "2015-05-17T00:00:00.000000000",
          "2015-05-24T00:00:00.000000000",
          "2015-05-31T00:00:00.000000000",
          "2015-06-07T00:00:00.000000000",
          "2015-06-14T00:00:00.000000000",
          "2015-06-21T00:00:00.000000000",
          "2015-06-28T00:00:00.000000000",
          "2015-07-05T00:00:00.000000000",
          "2015-07-12T00:00:00.000000000",
          "2015-07-19T00:00:00.000000000",
          "2015-07-26T00:00:00.000000000",
          "2015-08-02T00:00:00.000000000",
          "2015-08-09T00:00:00.000000000",
          "2015-08-16T00:00:00.000000000",
          "2015-08-23T00:00:00.000000000",
          "2015-08-30T00:00:00.000000000",
          "2015-09-06T00:00:00.000000000",
          "2015-09-13T00:00:00.000000000",
          "2015-09-20T00:00:00.000000000",
          "2015-09-27T00:00:00.000000000",
          "2015-10-04T00:00:00.000000000",
          "2015-10-11T00:00:00.000000000",
          "2015-10-18T00:00:00.000000000",
          "2015-10-25T00:00:00.000000000",
          "2015-11-01T00:00:00.000000000",
          "2015-11-08T00:00:00.000000000",
          "2015-11-15T00:00:00.000000000",
          "2015-11-22T00:00:00.000000000",
          "2015-11-29T00:00:00.000000000",
          "2015-12-06T00:00:00.000000000",
          "2015-12-13T00:00:00.000000000",
          "2015-12-20T00:00:00.000000000",
          "2015-12-27T00:00:00.000000000",
          "2016-01-03T00:00:00.000000000",
          "2016-01-10T00:00:00.000000000",
          "2016-01-17T00:00:00.000000000",
          "2016-01-24T00:00:00.000000000",
          "2016-01-31T00:00:00.000000000",
          "2016-02-07T00:00:00.000000000",
          "2016-02-14T00:00:00.000000000",
          "2016-02-21T00:00:00.000000000",
          "2016-02-28T00:00:00.000000000",
          "2016-03-06T00:00:00.000000000",
          "2016-03-13T00:00:00.000000000",
          "2016-03-20T00:00:00.000000000",
          "2016-03-27T00:00:00.000000000",
          "2016-04-03T00:00:00.000000000",
          "2016-04-10T00:00:00.000000000",
          "2016-04-17T00:00:00.000000000",
          "2016-04-24T00:00:00.000000000",
          "2016-05-01T00:00:00.000000000",
          "2016-05-08T00:00:00.000000000",
          "2016-05-15T00:00:00.000000000",
          "2016-05-22T00:00:00.000000000",
          "2016-05-29T00:00:00.000000000",
          "2016-06-05T00:00:00.000000000",
          "2016-06-12T00:00:00.000000000",
          "2016-06-19T00:00:00.000000000",
          "2016-06-26T00:00:00.000000000",
          "2016-07-03T00:00:00.000000000",
          "2016-07-10T00:00:00.000000000",
          "2016-07-17T00:00:00.000000000",
          "2016-07-24T00:00:00.000000000",
          "2016-07-31T00:00:00.000000000",
          "2016-08-07T00:00:00.000000000",
          "2016-08-14T00:00:00.000000000",
          "2016-08-21T00:00:00.000000000",
          "2016-08-28T00:00:00.000000000",
          "2016-09-04T00:00:00.000000000",
          "2016-09-11T00:00:00.000000000",
          "2016-09-18T00:00:00.000000000",
          "2016-09-25T00:00:00.000000000",
          "2016-10-02T00:00:00.000000000",
          "2016-10-09T00:00:00.000000000",
          "2016-10-16T00:00:00.000000000",
          "2016-10-23T00:00:00.000000000",
          "2016-10-30T00:00:00.000000000",
          "2016-11-06T00:00:00.000000000",
          "2016-11-13T00:00:00.000000000",
          "2016-11-20T00:00:00.000000000",
          "2016-11-27T00:00:00.000000000",
          "2016-12-04T00:00:00.000000000",
          "2016-12-11T00:00:00.000000000",
          "2016-12-18T00:00:00.000000000",
          "2016-12-25T00:00:00.000000000",
          "2017-01-01T00:00:00.000000000",
          "2017-01-08T00:00:00.000000000",
          "2017-01-15T00:00:00.000000000",
          "2017-01-22T00:00:00.000000000",
          "2017-01-29T00:00:00.000000000",
          "2017-02-05T00:00:00.000000000",
          "2017-02-12T00:00:00.000000000",
          "2017-02-19T00:00:00.000000000",
          "2017-02-26T00:00:00.000000000",
          "2017-03-05T00:00:00.000000000",
          "2017-03-12T00:00:00.000000000",
          "2017-03-19T00:00:00.000000000",
          "2017-03-26T00:00:00.000000000",
          "2017-04-02T00:00:00.000000000",
          "2017-04-09T00:00:00.000000000",
          "2017-04-16T00:00:00.000000000",
          "2017-04-23T00:00:00.000000000",
          "2017-04-30T00:00:00.000000000",
          "2017-05-07T00:00:00.000000000",
          "2017-05-14T00:00:00.000000000",
          "2017-05-21T00:00:00.000000000",
          "2017-05-28T00:00:00.000000000",
          "2017-06-04T00:00:00.000000000",
          "2017-06-11T00:00:00.000000000",
          "2017-06-18T00:00:00.000000000",
          "2017-06-25T00:00:00.000000000",
          "2017-07-02T00:00:00.000000000",
          "2017-07-09T00:00:00.000000000",
          "2017-07-16T00:00:00.000000000",
          "2017-07-23T00:00:00.000000000",
          "2017-07-30T00:00:00.000000000",
          "2017-08-06T00:00:00.000000000",
          "2017-08-13T00:00:00.000000000",
          "2017-08-20T00:00:00.000000000",
          "2017-08-27T00:00:00.000000000",
          "2017-09-03T00:00:00.000000000",
          "2017-09-10T00:00:00.000000000",
          "2017-09-17T00:00:00.000000000",
          "2017-09-24T00:00:00.000000000",
          "2017-10-01T00:00:00.000000000",
          "2017-10-08T00:00:00.000000000",
          "2017-10-15T00:00:00.000000000",
          "2017-10-22T00:00:00.000000000",
          "2017-10-29T00:00:00.000000000",
          "2017-11-05T00:00:00.000000000",
          "2017-11-12T00:00:00.000000000",
          "2017-11-19T00:00:00.000000000",
          "2017-11-26T00:00:00.000000000",
          "2017-12-03T00:00:00.000000000",
          "2017-12-10T00:00:00.000000000",
          "2017-12-17T00:00:00.000000000",
          "2017-12-24T00:00:00.000000000",
          "2017-12-31T00:00:00.000000000"
         ],
         "xaxis": "x3",
         "y": {
          "bdata": "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",
          "dtype": "f8"
         },
         "yaxis": "y3"
        },
        {
         "line": {
          "color": "#0072B2",
          "width": 2
         },
         "mode": "lines",
         "name": "yearly",
         "type": "scatter",
         "x": [
          "2017-01-01T00:00:00.000000000",
          "2017-01-02T00:00:59.178082304",
          "2017-01-03T00:01:58.356164352",
          "2017-01-04T00:02:57.534246656",
          "2017-01-05T00:03:56.712328704",
          "2017-01-06T00:04:55.890411008",
          "2017-01-07T00:05:55.068493056",
          "2017-01-08T00:06:54.246575360",
          "2017-01-09T00:07:53.424657408",
          "2017-01-10T00:08:52.602739712",
          "2017-01-11T00:09:51.780822016",
          "2017-01-12T00:10:50.958904064",
          "2017-01-13T00:11:50.136986368",
          "2017-01-14T00:12:49.315068416",
          "2017-01-15T00:13:48.493150720",
          "2017-01-16T00:14:47.671232768",
          "2017-01-17T00:15:46.849315072",
          "2017-01-18T00:16:46.027397376",
          "2017-01-19T00:17:45.205479424",
          "2017-01-20T00:18:44.383561728",
          "2017-01-21T00:19:43.561643776",
          "2017-01-22T00:20:42.739726080",
          "2017-01-23T00:21:41.917808128",
          "2017-01-24T00:22:41.095890432",
          "2017-01-25T00:23:40.273972480",
          "2017-01-26T00:24:39.452054784",
          "2017-01-27T00:25:38.630137088",
          "2017-01-28T00:26:37.808219136",
          "2017-01-29T00:27:36.986301440",
          "2017-01-30T00:28:36.164383488",
          "2017-01-31T00:29:35.342465792",
          "2017-02-01T00:30:34.520547840",
          "2017-02-02T00:31:33.698630144",
          "2017-02-03T00:32:32.876712448",
          "2017-02-04T00:33:32.054794496",
          "2017-02-05T00:34:31.232876800",
          "2017-02-06T00:35:30.410958848",
          "2017-02-07T00:36:29.589041152",
          "2017-02-08T00:37:28.767123200",
          "2017-02-09T00:38:27.945205504",
          "2017-02-10T00:39:27.123287552",
          "2017-02-11T00:40:26.301369856",
          "2017-02-12T00:41:25.479452160",
          "2017-02-13T00:42:24.657534208",
          "2017-02-14T00:43:23.835616512",
          "2017-02-15T00:44:23.013698560",
          "2017-02-16T00:45:22.191780864",
          "2017-02-17T00:46:21.369862912",
          "2017-02-18T00:47:20.547945216",
          "2017-02-19T00:48:19.726027520",
          "2017-02-20T00:49:18.904109568",
          "2017-02-21T00:50:18.082191872",
          "2017-02-22T00:51:17.260273920",
          "2017-02-23T00:52:16.438356224",
          "2017-02-24T00:53:15.616438272",
          "2017-02-25T00:54:14.794520576",
          "2017-02-26T00:55:13.972602624",
          "2017-02-27T00:56:13.150684928",
          "2017-02-28T00:57:12.328767232",
          "2017-03-01T00:58:11.506849280",
          "2017-03-02T00:59:10.684931584",
          "2017-03-03T01:00:09.863013632",
          "2017-03-04T01:01:09.041095936",
          "2017-03-05T01:02:08.219177984",
          "2017-03-06T01:03:07.397260288",
          "2017-03-07T01:04:06.575342592",
          "2017-03-08T01:05:05.753424640",
          "2017-03-09T01:06:04.931506944",
          "2017-03-10T01:07:04.109588992",
          "2017-03-11T01:08:03.287671296",
          "2017-03-12T01:09:02.465753344",
          "2017-03-13T01:10:01.643835648",
          "2017-03-14T01:11:00.821917696",
          "2017-03-15T01:12:00.000000000",
          "2017-03-16T01:12:59.178082304",
          "2017-03-17T01:13:58.356164352",
          "2017-03-18T01:14:57.534246656",
          "2017-03-19T01:15:56.712328704",
          "2017-03-20T01:16:55.890411008",
          "2017-03-21T01:17:55.068493056",
          "2017-03-22T01:18:54.246575360",
          "2017-03-23T01:19:53.424657408",
          "2017-03-24T01:20:52.602739712",
          "2017-03-25T01:21:51.780822016",
          "2017-03-26T01:22:50.958904064",
          "2017-03-27T01:23:50.136986368",
          "2017-03-28T01:24:49.315068416",
          "2017-03-29T01:25:48.493150720",
          "2017-03-30T01:26:47.671232768",
          "2017-03-31T01:27:46.849315072",
          "2017-04-01T01:28:46.027397376",
          "2017-04-02T01:29:45.205479424",
          "2017-04-03T01:30:44.383561728",
          "2017-04-04T01:31:43.561643776",
          "2017-04-05T01:32:42.739726080",
          "2017-04-06T01:33:41.917808128",
          "2017-04-07T01:34:41.095890432",
          "2017-04-08T01:35:40.273972480",
          "2017-04-09T01:36:39.452054784",
          "2017-04-10T01:37:38.630137088",
          "2017-04-11T01:38:37.808219136",
          "2017-04-12T01:39:36.986301440",
          "2017-04-13T01:40:36.164383488",
          "2017-04-14T01:41:35.342465792",
          "2017-04-15T01:42:34.520547840",
          "2017-04-16T01:43:33.698630144",
          "2017-04-17T01:44:32.876712448",
          "2017-04-18T01:45:32.054794496",
          "2017-04-19T01:46:31.232876800",
          "2017-04-20T01:47:30.410958848",
          "2017-04-21T01:48:29.589041152",
          "2017-04-22T01:49:28.767123200",
          "2017-04-23T01:50:27.945205504",
          "2017-04-24T01:51:27.123287552",
          "2017-04-25T01:52:26.301369856",
          "2017-04-26T01:53:25.479452160",
          "2017-04-27T01:54:24.657534208",
          "2017-04-28T01:55:23.835616512",
          "2017-04-29T01:56:23.013698560",
          "2017-04-30T01:57:22.191780864",
          "2017-05-01T01:58:21.369862912",
          "2017-05-02T01:59:20.547945216",
          "2017-05-03T02:00:19.726027520",
          "2017-05-04T02:01:18.904109568",
          "2017-05-05T02:02:18.082191872",
          "2017-05-06T02:03:17.260273920",
          "2017-05-07T02:04:16.438356224",
          "2017-05-08T02:05:15.616438272",
          "2017-05-09T02:06:14.794520576",
          "2017-05-10T02:07:13.972602624",
          "2017-05-11T02:08:13.150684928",
          "2017-05-12T02:09:12.328767232",
          "2017-05-13T02:10:11.506849280",
          "2017-05-14T02:11:10.684931584",
          "2017-05-15T02:12:09.863013632",
          "2017-05-16T02:13:09.041095936",
          "2017-05-17T02:14:08.219177984",
          "2017-05-18T02:15:07.397260288",
          "2017-05-19T02:16:06.575342592",
          "2017-05-20T02:17:05.753424640",
          "2017-05-21T02:18:04.931506944",
          "2017-05-22T02:19:04.109588992",
          "2017-05-23T02:20:03.287671296",
          "2017-05-24T02:21:02.465753344",
          "2017-05-25T02:22:01.643835648",
          "2017-05-26T02:23:00.821917696",
          "2017-05-27T02:24:00.000000000",
          "2017-05-28T02:24:59.178082304",
          "2017-05-29T02:25:58.356164352",
          "2017-05-30T02:26:57.534246656",
          "2017-05-31T02:27:56.712328704",
          "2017-06-01T02:28:55.890411008",
          "2017-06-02T02:29:55.068493056",
          "2017-06-03T02:30:54.246575360",
          "2017-06-04T02:31:53.424657408",
          "2017-06-05T02:32:52.602739712",
          "2017-06-06T02:33:51.780822016",
          "2017-06-07T02:34:50.958904064",
          "2017-06-08T02:35:50.136986368",
          "2017-06-09T02:36:49.315068416",
          "2017-06-10T02:37:48.493150720",
          "2017-06-11T02:38:47.671232768",
          "2017-06-12T02:39:46.849315072",
          "2017-06-13T02:40:46.027397376",
          "2017-06-14T02:41:45.205479424",
          "2017-06-15T02:42:44.383561728",
          "2017-06-16T02:43:43.561643776",
          "2017-06-17T02:44:42.739726080",
          "2017-06-18T02:45:41.917808128",
          "2017-06-19T02:46:41.095890432",
          "2017-06-20T02:47:40.273972480",
          "2017-06-21T02:48:39.452054784",
          "2017-06-22T02:49:38.630137088",
          "2017-06-23T02:50:37.808219136",
          "2017-06-24T02:51:36.986301440",
          "2017-06-25T02:52:36.164383488",
          "2017-06-26T02:53:35.342465792",
          "2017-06-27T02:54:34.520547840",
          "2017-06-28T02:55:33.698630144",
          "2017-06-29T02:56:32.876712448",
          "2017-06-30T02:57:32.054794496",
          "2017-07-01T02:58:31.232876800",
          "2017-07-02T02:59:30.410958848",
          "2017-07-03T03:00:29.589041152",
          "2017-07-04T03:01:28.767123200",
          "2017-07-05T03:02:27.945205504",
          "2017-07-06T03:03:27.123287552",
          "2017-07-07T03:04:26.301369856",
          "2017-07-08T03:05:25.479452160",
          "2017-07-09T03:06:24.657534208",
          "2017-07-10T03:07:23.835616512",
          "2017-07-11T03:08:23.013698560",
          "2017-07-12T03:09:22.191780864",
          "2017-07-13T03:10:21.369862912",
          "2017-07-14T03:11:20.547945216",
          "2017-07-15T03:12:19.726027520",
          "2017-07-16T03:13:18.904109568",
          "2017-07-17T03:14:18.082191872",
          "2017-07-18T03:15:17.260273920",
          "2017-07-19T03:16:16.438356224",
          "2017-07-20T03:17:15.616438272",
          "2017-07-21T03:18:14.794520576",
          "2017-07-22T03:19:13.972602624",
          "2017-07-23T03:20:13.150684928",
          "2017-07-24T03:21:12.328767232",
          "2017-07-25T03:22:11.506849280",
          "2017-07-26T03:23:10.684931584",
          "2017-07-27T03:24:09.863013632",
          "2017-07-28T03:25:09.041095936",
          "2017-07-29T03:26:08.219177984",
          "2017-07-30T03:27:07.397260288",
          "2017-07-31T03:28:06.575342592",
          "2017-08-01T03:29:05.753424640",
          "2017-08-02T03:30:04.931506944",
          "2017-08-03T03:31:04.109588992",
          "2017-08-04T03:32:03.287671296",
          "2017-08-05T03:33:02.465753344",
          "2017-08-06T03:34:01.643835648",
          "2017-08-07T03:35:00.821917696",
          "2017-08-08T03:36:00.000000000",
          "2017-08-09T03:36:59.178082304",
          "2017-08-10T03:37:58.356164352",
          "2017-08-11T03:38:57.534246656",
          "2017-08-12T03:39:56.712328704",
          "2017-08-13T03:40:55.890411008",
          "2017-08-14T03:41:55.068493056",
          "2017-08-15T03:42:54.246575360",
          "2017-08-16T03:43:53.424657408",
          "2017-08-17T03:44:52.602739712",
          "2017-08-18T03:45:51.780822016",
          "2017-08-19T03:46:50.958904064",
          "2017-08-20T03:47:50.136986368",
          "2017-08-21T03:48:49.315068416",
          "2017-08-22T03:49:48.493150720",
          "2017-08-23T03:50:47.671232768",
          "2017-08-24T03:51:46.849315072",
          "2017-08-25T03:52:46.027397376",
          "2017-08-26T03:53:45.205479424",
          "2017-08-27T03:54:44.383561728",
          "2017-08-28T03:55:43.561643776",
          "2017-08-29T03:56:42.739726080",
          "2017-08-30T03:57:41.917808128",
          "2017-08-31T03:58:41.095890432",
          "2017-09-01T03:59:40.273972480",
          "2017-09-02T04:00:39.452054784",
          "2017-09-03T04:01:38.630137088",
          "2017-09-04T04:02:37.808219136",
          "2017-09-05T04:03:36.986301440",
          "2017-09-06T04:04:36.164383488",
          "2017-09-07T04:05:35.342465792",
          "2017-09-08T04:06:34.520547840",
          "2017-09-09T04:07:33.698630144",
          "2017-09-10T04:08:32.876712448",
          "2017-09-11T04:09:32.054794496",
          "2017-09-12T04:10:31.232876800",
          "2017-09-13T04:11:30.410958848",
          "2017-09-14T04:12:29.589041152",
          "2017-09-15T04:13:28.767123200",
          "2017-09-16T04:14:27.945205504",
          "2017-09-17T04:15:27.123287552",
          "2017-09-18T04:16:26.301369856",
          "2017-09-19T04:17:25.479452160",
          "2017-09-20T04:18:24.657534208",
          "2017-09-21T04:19:23.835616512",
          "2017-09-22T04:20:23.013698560",
          "2017-09-23T04:21:22.191780864",
          "2017-09-24T04:22:21.369862912",
          "2017-09-25T04:23:20.547945216",
          "2017-09-26T04:24:19.726027520",
          "2017-09-27T04:25:18.904109568",
          "2017-09-28T04:26:18.082191872",
          "2017-09-29T04:27:17.260273920",
          "2017-09-30T04:28:16.438356224",
          "2017-10-01T04:29:15.616438272",
          "2017-10-02T04:30:14.794520576",
          "2017-10-03T04:31:13.972602624",
          "2017-10-04T04:32:13.150684928",
          "2017-10-05T04:33:12.328767232",
          "2017-10-06T04:34:11.506849280",
          "2017-10-07T04:35:10.684931584",
          "2017-10-08T04:36:09.863013632",
          "2017-10-09T04:37:09.041095936",
          "2017-10-10T04:38:08.219177984",
          "2017-10-11T04:39:07.397260288",
          "2017-10-12T04:40:06.575342592",
          "2017-10-13T04:41:05.753424640",
          "2017-10-14T04:42:04.931506944",
          "2017-10-15T04:43:04.109588992",
          "2017-10-16T04:44:03.287671296",
          "2017-10-17T04:45:02.465753344",
          "2017-10-18T04:46:01.643835648",
          "2017-10-19T04:47:00.821917696",
          "2017-10-20T04:48:00.000000000",
          "2017-10-21T04:48:59.178082304",
          "2017-10-22T04:49:58.356164352",
          "2017-10-23T04:50:57.534246656",
          "2017-10-24T04:51:56.712328704",
          "2017-10-25T04:52:55.890411008",
          "2017-10-26T04:53:55.068493056",
          "2017-10-27T04:54:54.246575360",
          "2017-10-28T04:55:53.424657408",
          "2017-10-29T04:56:52.602739712",
          "2017-10-30T04:57:51.780822016",
          "2017-10-31T04:58:50.958904064",
          "2017-11-01T04:59:50.136986368",
          "2017-11-02T05:00:49.315068416",
          "2017-11-03T05:01:48.493150720",
          "2017-11-04T05:02:47.671232768",
          "2017-11-05T05:03:46.849315072",
          "2017-11-06T05:04:46.027397376",
          "2017-11-07T05:05:45.205479424",
          "2017-11-08T05:06:44.383561728",
          "2017-11-09T05:07:43.561643776",
          "2017-11-10T05:08:42.739726080",
          "2017-11-11T05:09:41.917808128",
          "2017-11-12T05:10:41.095890432",
          "2017-11-13T05:11:40.273972480",
          "2017-11-14T05:12:39.452054784",
          "2017-11-15T05:13:38.630137088",
          "2017-11-16T05:14:37.808219136",
          "2017-11-17T05:15:36.986301440",
          "2017-11-18T05:16:36.164383488",
          "2017-11-19T05:17:35.342465792",
          "2017-11-20T05:18:34.520547840",
          "2017-11-21T05:19:33.698630144",
          "2017-11-22T05:20:32.876712448",
          "2017-11-23T05:21:32.054794496",
          "2017-11-24T05:22:31.232876800",
          "2017-11-25T05:23:30.410958848",
          "2017-11-26T05:24:29.589041152",
          "2017-11-27T05:25:28.767123200",
          "2017-11-28T05:26:27.945205504",
          "2017-11-29T05:27:27.123287552",
          "2017-11-30T05:28:26.301369856",
          "2017-12-01T05:29:25.479452160",
          "2017-12-02T05:30:24.657534208",
          "2017-12-03T05:31:23.835616512",
          "2017-12-04T05:32:23.013698560",
          "2017-12-05T05:33:22.191780864",
          "2017-12-06T05:34:21.369862912",
          "2017-12-07T05:35:20.547945216",
          "2017-12-08T05:36:19.726027520",
          "2017-12-09T05:37:18.904109568",
          "2017-12-10T05:38:18.082191872",
          "2017-12-11T05:39:17.260273920",
          "2017-12-12T05:40:16.438356224",
          "2017-12-13T05:41:15.616438272",
          "2017-12-14T05:42:14.794520576",
          "2017-12-15T05:43:13.972602624",
          "2017-12-16T05:44:13.150684928",
          "2017-12-17T05:45:12.328767232",
          "2017-12-18T05:46:11.506849280",
          "2017-12-19T05:47:10.684931584",
          "2017-12-20T05:48:09.863013632",
          "2017-12-21T05:49:09.041095936",
          "2017-12-22T05:50:08.219177984",
          "2017-12-23T05:51:07.397260288",
          "2017-12-24T05:52:06.575342592",
          "2017-12-25T05:53:05.753424640",
          "2017-12-26T05:54:04.931506944",
          "2017-12-27T05:55:04.109588992",
          "2017-12-28T05:56:03.287671296",
          "2017-12-29T05:57:02.465753344",
          "2017-12-30T05:58:01.643835648",
          "2017-12-31T05:59:00.821917696"
         ],
         "xaxis": "x4",
         "y": {
          "bdata": "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",
          "dtype": "f8"
         },
         "yaxis": "y4"
        }
       ],
       "layout": {
        "height": 800,
        "showlegend": false,
        "template": {
         "data": {
          "bar": [
           {
            "error_x": {
             "color": "#2a3f5f"
            },
            "error_y": {
             "color": "#2a3f5f"
            },
            "marker": {
             "line": {
              "color": "#E5ECF6",
              "width": 0.5
             },
             "pattern": {
              "fillmode": "overlay",
              "size": 10,
              "solidity": 0.2
             }
            },
            "type": "bar"
           }
          ],
          "barpolar": [
           {
            "marker": {
             "line": {
              "color": "#E5ECF6",
              "width": 0.5
             },
             "pattern": {
              "fillmode": "overlay",
              "size": 10,
              "solidity": 0.2
             }
            },
            "type": "barpolar"
           }
          ],
          "carpet": [
           {
            "aaxis": {
             "endlinecolor": "#2a3f5f",
             "gridcolor": "white",
             "linecolor": "white",
             "minorgridcolor": "white",
             "startlinecolor": "#2a3f5f"
            },
            "baxis": {
             "endlinecolor": "#2a3f5f",
             "gridcolor": "white",
             "linecolor": "white",
             "minorgridcolor": "white",
             "startlinecolor": "#2a3f5f"
            },
            "type": "carpet"
           }
          ],
          "choropleth": [
           {
            "colorbar": {
             "outlinewidth": 0,
             "ticks": ""
            },
            "type": "choropleth"
           }
          ],
          "contour": [
           {
            "colorbar": {
             "outlinewidth": 0,
             "ticks": ""
            },
            "colorscale": [
             [
              0,
              "#0d0887"
             ],
             [
              0.1111111111111111,
              "#46039f"
             ],
             [
              0.2222222222222222,
              "#7201a8"
             ],
             [
              0.3333333333333333,
              "#9c179e"
             ],
             [
              0.4444444444444444,
              "#bd3786"
             ],
             [
              0.5555555555555556,
              "#d8576b"
             ],
             [
              0.6666666666666666,
              "#ed7953"
             ],
             [
              0.7777777777777778,
              "#fb9f3a"
             ],
             [
              0.8888888888888888,
              "#fdca26"
             ],
             [
              1,
              "#f0f921"
             ]
            ],
            "type": "contour"
           }
          ],
          "contourcarpet": [
           {
            "colorbar": {
             "outlinewidth": 0,
             "ticks": ""
            },
            "type": "contourcarpet"
           }
          ],
          "heatmap": [
           {
            "colorbar": {
             "outlinewidth": 0,
             "ticks": ""
            },
            "colorscale": [
             [
              0,
              "#0d0887"
             ],
             [
              0.1111111111111111,
              "#46039f"
             ],
             [
              0.2222222222222222,
              "#7201a8"
             ],
             [
              0.3333333333333333,
              "#9c179e"
             ],
             [
              0.4444444444444444,
              "#bd3786"
             ],
             [
              0.5555555555555556,
              "#d8576b"
             ],
             [
              0.6666666666666666,
              "#ed7953"
             ],
             [
              0.7777777777777778,
              "#fb9f3a"
             ],
             [
              0.8888888888888888,
              "#fdca26"
             ],
             [
              1,
              "#f0f921"
             ]
            ],
            "type": "heatmap"
           }
          ],
          "histogram": [
           {
            "marker": {
             "pattern": {
              "fillmode": "overlay",
              "size": 10,
              "solidity": 0.2
             }
            },
            "type": "histogram"
           }
          ],
          "histogram2d": [
           {
            "colorbar": {
             "outlinewidth": 0,
             "ticks": ""
            },
            "colorscale": [
             [
              0,
              "#0d0887"
             ],
             [
              0.1111111111111111,
              "#46039f"
             ],
             [
              0.2222222222222222,
              "#7201a8"
             ],
             [
              0.3333333333333333,
              "#9c179e"
             ],
             [
              0.4444444444444444,
              "#bd3786"
             ],
             [
              0.5555555555555556,
              "#d8576b"
             ],
             [
              0.6666666666666666,
              "#ed7953"
             ],
             [
              0.7777777777777778,
              "#fb9f3a"
             ],
             [
              0.8888888888888888,
              "#fdca26"
             ],
             [
              1,
              "#f0f921"
             ]
            ],
            "type": "histogram2d"
           }
          ],
          "histogram2dcontour": [
           {
            "colorbar": {
             "outlinewidth": 0,
             "ticks": ""
            },
            "colorscale": [
             [
              0,
              "#0d0887"
             ],
             [
              0.1111111111111111,
              "#46039f"
             ],
             [
              0.2222222222222222,
              "#7201a8"
             ],
             [
              0.3333333333333333,
              "#9c179e"
             ],
             [
              0.4444444444444444,
              "#bd3786"
             ],
             [
              0.5555555555555556,
              "#d8576b"
             ],
             [
              0.6666666666666666,
              "#ed7953"
             ],
             [
              0.7777777777777778,
              "#fb9f3a"
             ],
             [
              0.8888888888888888,
              "#fdca26"
             ],
             [
              1,
              "#f0f921"
             ]
            ],
            "type": "histogram2dcontour"
           }
          ],
          "mesh3d": [
           {
            "colorbar": {
             "outlinewidth": 0,
             "ticks": ""
            },
            "type": "mesh3d"
           }
          ],
          "parcoords": [
           {
            "line": {
             "colorbar": {
              "outlinewidth": 0,
              "ticks": ""
             }
            },
            "type": "parcoords"
           }
          ],
          "pie": [
           {
            "automargin": true,
            "type": "pie"
           }
          ],
          "scatter": [
           {
            "fillpattern": {
             "fillmode": "overlay",
             "size": 10,
             "solidity": 0.2
            },
            "type": "scatter"
           }
          ],
          "scatter3d": [
           {
            "line": {
             "colorbar": {
              "outlinewidth": 0,
              "ticks": ""
             }
            },
            "marker": {
             "colorbar": {
              "outlinewidth": 0,
              "ticks": ""
             }
            },
            "type": "scatter3d"
           }
          ],
          "scattercarpet": [
           {
            "marker": {
             "colorbar": {
              "outlinewidth": 0,
              "ticks": ""
             }
            },
            "type": "scattercarpet"
           }
          ],
          "scattergeo": [
           {
            "marker": {
             "colorbar": {
              "outlinewidth": 0,
              "ticks": ""
             }
            },
            "type": "scattergeo"
           }
          ],
          "scattergl": [
           {
            "marker": {
             "colorbar": {
              "outlinewidth": 0,
              "ticks": ""
             }
            },
            "type": "scattergl"
           }
          ],
          "scattermap": [
           {
            "marker": {
             "colorbar": {
              "outlinewidth": 0,
              "ticks": ""
             }
            },
            "type": "scattermap"
           }
          ],
          "scattermapbox": [
           {
            "marker": {
             "colorbar": {
              "outlinewidth": 0,
              "ticks": ""
             }
            },
            "type": "scattermapbox"
           }
          ],
          "scatterpolar": [
           {
            "marker": {
             "colorbar": {
              "outlinewidth": 0,
              "ticks": ""
             }
            },
            "type": "scatterpolar"
           }
          ],
          "scatterpolargl": [
           {
            "marker": {
             "colorbar": {
              "outlinewidth": 0,
              "ticks": ""
             }
            },
            "type": "scatterpolargl"
           }
          ],
          "scatterternary": [
           {
            "marker": {
             "colorbar": {
              "outlinewidth": 0,
              "ticks": ""
             }
            },
            "type": "scatterternary"
           }
          ],
          "surface": [
           {
            "colorbar": {
             "outlinewidth": 0,
             "ticks": ""
            },
            "colorscale": [
             [
              0,
              "#0d0887"
             ],
             [
              0.1111111111111111,
              "#46039f"
             ],
             [
              0.2222222222222222,
              "#7201a8"
             ],
             [
              0.3333333333333333,
              "#9c179e"
             ],
             [
              0.4444444444444444,
              "#bd3786"
             ],
             [
              0.5555555555555556,
              "#d8576b"
             ],
             [
              0.6666666666666666,
              "#ed7953"
             ],
             [
              0.7777777777777778,
              "#fb9f3a"
             ],
             [
              0.8888888888888888,
              "#fdca26"
             ],
             [
              1,
              "#f0f921"
             ]
            ],
            "type": "surface"
           }
          ],
          "table": [
           {
            "cells": {
             "fill": {
              "color": "#EBF0F8"
             },
             "line": {
              "color": "white"
             }
            },
            "header": {
             "fill": {
              "color": "#C8D4E3"
             },
             "line": {
              "color": "white"
             }
            },
            "type": "table"
           }
          ]
         },
         "layout": {
          "annotationdefaults": {
           "arrowcolor": "#2a3f5f",
           "arrowhead": 0,
           "arrowwidth": 1
          },
          "autotypenumbers": "strict",
          "coloraxis": {
           "colorbar": {
            "outlinewidth": 0,
            "ticks": ""
           }
          },
          "colorscale": {
           "diverging": [
            [
             0,
             "#8e0152"
            ],
            [
             0.1,
             "#c51b7d"
            ],
            [
             0.2,
             "#de77ae"
            ],
            [
             0.3,
             "#f1b6da"
            ],
            [
             0.4,
             "#fde0ef"
            ],
            [
             0.5,
             "#f7f7f7"
            ],
            [
             0.6,
             "#e6f5d0"
            ],
            [
             0.7,
             "#b8e186"
            ],
            [
             0.8,
             "#7fbc41"
            ],
            [
             0.9,
             "#4d9221"
            ],
            [
             1,
             "#276419"
            ]
           ],
           "sequential": [
            [
             0,
             "#0d0887"
            ],
            [
             0.1111111111111111,
             "#46039f"
            ],
            [
             0.2222222222222222,
             "#7201a8"
            ],
            [
             0.3333333333333333,
             "#9c179e"
            ],
            [
             0.4444444444444444,
             "#bd3786"
            ],
            [
             0.5555555555555556,
             "#d8576b"
            ],
            [
             0.6666666666666666,
             "#ed7953"
            ],
            [
             0.7777777777777778,
             "#fb9f3a"
            ],
            [
             0.8888888888888888,
             "#fdca26"
            ],
            [
             1,
             "#f0f921"
            ]
           ],
           "sequentialminus": [
            [
             0,
             "#0d0887"
            ],
            [
             0.1111111111111111,
             "#46039f"
            ],
            [
             0.2222222222222222,
             "#7201a8"
            ],
            [
             0.3333333333333333,
             "#9c179e"
            ],
            [
             0.4444444444444444,
             "#bd3786"
            ],
            [
             0.5555555555555556,
             "#d8576b"
            ],
            [
             0.6666666666666666,
             "#ed7953"
            ],
            [
             0.7777777777777778,
             "#fb9f3a"
            ],
            [
             0.8888888888888888,
             "#fdca26"
            ],
            [
             1,
             "#f0f921"
            ]
           ]
          },
          "colorway": [
           "#636efa",
           "#EF553B",
           "#00cc96",
           "#ab63fa",
           "#FFA15A",
           "#19d3f3",
           "#FF6692",
           "#B6E880",
           "#FF97FF",
           "#FECB52"
          ],
          "font": {
           "color": "#2a3f5f"
          },
          "geo": {
           "bgcolor": "white",
           "lakecolor": "white",
           "landcolor": "#E5ECF6",
           "showlakes": true,
           "showland": true,
           "subunitcolor": "white"
          },
          "hoverlabel": {
           "align": "left"
          },
          "hovermode": "closest",
          "mapbox": {
           "style": "light"
          },
          "paper_bgcolor": "white",
          "plot_bgcolor": "#E5ECF6",
          "polar": {
           "angularaxis": {
            "gridcolor": "white",
            "linecolor": "white",
            "ticks": ""
           },
           "bgcolor": "#E5ECF6",
           "radialaxis": {
            "gridcolor": "white",
            "linecolor": "white",
            "ticks": ""
           }
          },
          "scene": {
           "xaxis": {
            "backgroundcolor": "#E5ECF6",
            "gridcolor": "white",
            "gridwidth": 2,
            "linecolor": "white",
            "showbackground": true,
            "ticks": "",
            "zerolinecolor": "white"
           },
           "yaxis": {
            "backgroundcolor": "#E5ECF6",
            "gridcolor": "white",
            "gridwidth": 2,
            "linecolor": "white",
            "showbackground": true,
            "ticks": "",
            "zerolinecolor": "white"
           },
           "zaxis": {
            "backgroundcolor": "#E5ECF6",
            "gridcolor": "white",
            "gridwidth": 2,
            "linecolor": "white",
            "showbackground": true,
            "ticks": "",
            "zerolinecolor": "white"
           }
          },
          "shapedefaults": {
           "line": {
            "color": "#2a3f5f"
           }
          },
          "ternary": {
           "aaxis": {
            "gridcolor": "white",
            "linecolor": "white",
            "ticks": ""
           },
           "baxis": {
            "gridcolor": "white",
            "linecolor": "white",
            "ticks": ""
           },
           "bgcolor": "#E5ECF6",
           "caxis": {
            "gridcolor": "white",
            "linecolor": "white",
            "ticks": ""
           }
          },
          "title": {
           "x": 0.05
          },
          "xaxis": {
           "automargin": true,
           "gridcolor": "white",
           "linecolor": "white",
           "ticks": "",
           "title": {
            "standoff": 15
           },
           "zerolinecolor": "white",
           "zerolinewidth": 2
          },
          "yaxis": {
           "automargin": true,
           "gridcolor": "white",
           "linecolor": "white",
           "ticks": "",
           "title": {
            "standoff": 15
           },
           "zerolinecolor": "white",
           "zerolinewidth": 2
          }
         }
        },
        "width": 900,
        "xaxis": {
         "anchor": "y",
         "domain": [
          0,
          1
         ],
         "range": [
          "2013-10-24T04:48:00",
          "2018-03-13T19:12:00"
         ],
         "type": "date"
        },
        "xaxis2": {
         "anchor": "y2",
         "domain": [
          0,
          1
         ],
         "range": [
          "2013-10-24T04:48:00",
          "2018-03-13T19:12:00"
         ],
         "type": "date"
        },
        "xaxis3": {
         "anchor": "y3",
         "domain": [
          0,
          1
         ],
         "range": [
          "2013-10-24T04:48:00",
          "2018-03-13T19:12:00"
         ],
         "type": "date"
        },
        "xaxis4": {
         "anchor": "y4",
         "domain": [
          0,
          1
         ],
         "range": [
          "2016-12-13T18:54:02.958904115",
          "2018-01-18T11:04:57.863013581"
         ],
         "tickformat": "%B %e",
         "type": "date"
        },
        "yaxis": {
         "anchor": "x",
         "domain": [
          0.80625,
          1
         ],
         "rangemode": "normal",
         "title": {
          "text": "trend"
         },
         "zerolinecolor": "#AAA"
        },
        "yaxis2": {
         "anchor": "x2",
         "domain": [
          0.5375,
          0.73125
         ],
         "rangemode": "tozero",
         "title": {
          "text": "holidays"
         },
         "zerolinecolor": "#AAA"
        },
        "yaxis3": {
         "anchor": "x3",
         "domain": [
          0.26875,
          0.4625
         ],
         "rangemode": "tozero",
         "title": {
          "text": "extra_regressors_additive"
         },
         "zerolinecolor": "#AAA"
        },
        "yaxis4": {
         "anchor": "x4",
         "domain": [
          0,
          0.19375
         ],
         "title": {
          "text": "yearly"
         },
         "zerolinecolor": "#AAA"
        }
       }
      }
     },
     "metadata": {},
     "output_type": "display_data"
    },
    {
     "name": "stdout",
     "output_type": "stream",
     "text": [
      "\n",
      "Plot Interaktif Perbandingan:\n"
     ]
    },
    {
     "data": {
      "application/vnd.plotly.v1+json": {
       "config": {
        "plotlyServerURL": "https://plot.ly"
       },
       "data": [
        {
         "line": {
          "color": "lightgreen"
         },
         "mode": "lines",
         "showlegend": false,
         "type": "scatter",
         "x": [
          "2017-03-19T00:00:00.000000000",
          "2017-03-26T00:00:00.000000000",
          "2017-04-02T00:00:00.000000000",
          "2017-04-09T00:00:00.000000000",
          "2017-04-16T00:00:00.000000000",
          "2017-04-23T00:00:00.000000000",
          "2017-04-30T00:00:00.000000000",
          "2017-05-07T00:00:00.000000000",
          "2017-05-14T00:00:00.000000000",
          "2017-05-21T00:00:00.000000000",
          "2017-05-28T00:00:00.000000000",
          "2017-06-04T00:00:00.000000000",
          "2017-06-11T00:00:00.000000000",
          "2017-06-18T00:00:00.000000000",
          "2017-06-25T00:00:00.000000000",
          "2017-07-02T00:00:00.000000000",
          "2017-07-09T00:00:00.000000000",
          "2017-07-16T00:00:00.000000000",
          "2017-07-23T00:00:00.000000000",
          "2017-07-30T00:00:00.000000000",
          "2017-08-06T00:00:00.000000000",
          "2017-08-13T00:00:00.000000000",
          "2017-08-20T00:00:00.000000000",
          "2017-08-27T00:00:00.000000000",
          "2017-09-03T00:00:00.000000000",
          "2017-09-10T00:00:00.000000000",
          "2017-09-17T00:00:00.000000000",
          "2017-09-24T00:00:00.000000000",
          "2017-10-01T00:00:00.000000000",
          "2017-10-08T00:00:00.000000000",
          "2017-10-15T00:00:00.000000000",
          "2017-10-22T00:00:00.000000000",
          "2017-10-29T00:00:00.000000000",
          "2017-11-05T00:00:00.000000000",
          "2017-11-12T00:00:00.000000000",
          "2017-11-19T00:00:00.000000000",
          "2017-11-26T00:00:00.000000000",
          "2017-12-03T00:00:00.000000000",
          "2017-12-10T00:00:00.000000000",
          "2017-12-17T00:00:00.000000000",
          "2017-12-24T00:00:00.000000000",
          "2017-12-31T00:00:00.000000000"
         ],
         "y": {
          "bdata": "Kq4cOW3E0EDWMo5YVw7FQJ0IHO7YA8VAZ/jDS+xIjkASTv3XwrKwQH40IgaFjr9ALUV8qs0cu0A4y3r/KSTDQIQ1KYZAUcJASB9E0CTKv0ArYJcDkbqxQMOZa6jlVMJAI3kLK6d+uEAGgKZ5+6O/QOMuj1XchbtAvyV3Ea3jukDW95FahvjCQEGepbVvJp5AUogy4mkxwkCeKbKNlnGpQCiX+Dp8KLJACiRdMlWbwED6ZLIOSSO5QOldS+tSnb9A9H2DhvGrx0DdQD5T857WQGr7WwM4Z9ZAA3mrQn1h2UBYlkC9+cvIQFV1GMh7BMxAw/Tyvv/KwkCDO66PROzFQBMCbZtbKrVAZstjdD6+1kC9/XhrO+PUQLhV7/BwhtlABNwMI+Oo00DdGtDxPezeQN2jbLPiT9lArV1S49/Lx0CMI1HNRevUQH49V5q+2shA",
          "dtype": "f8"
         }
        },
        {
         "fill": "tonexty",
         "line": {
          "color": "lightgreen"
         },
         "mode": "lines",
         "name": "95% Confidence Interval",
         "type": "scatter",
         "x": [
          "2017-03-19T00:00:00.000000000",
          "2017-03-26T00:00:00.000000000",
          "2017-04-02T00:00:00.000000000",
          "2017-04-09T00:00:00.000000000",
          "2017-04-16T00:00:00.000000000",
          "2017-04-23T00:00:00.000000000",
          "2017-04-30T00:00:00.000000000",
          "2017-05-07T00:00:00.000000000",
          "2017-05-14T00:00:00.000000000",
          "2017-05-21T00:00:00.000000000",
          "2017-05-28T00:00:00.000000000",
          "2017-06-04T00:00:00.000000000",
          "2017-06-11T00:00:00.000000000",
          "2017-06-18T00:00:00.000000000",
          "2017-06-25T00:00:00.000000000",
          "2017-07-02T00:00:00.000000000",
          "2017-07-09T00:00:00.000000000",
          "2017-07-16T00:00:00.000000000",
          "2017-07-23T00:00:00.000000000",
          "2017-07-30T00:00:00.000000000",
          "2017-08-06T00:00:00.000000000",
          "2017-08-13T00:00:00.000000000",
          "2017-08-20T00:00:00.000000000",
          "2017-08-27T00:00:00.000000000",
          "2017-09-03T00:00:00.000000000",
          "2017-09-10T00:00:00.000000000",
          "2017-09-17T00:00:00.000000000",
          "2017-09-24T00:00:00.000000000",
          "2017-10-01T00:00:00.000000000",
          "2017-10-08T00:00:00.000000000",
          "2017-10-15T00:00:00.000000000",
          "2017-10-22T00:00:00.000000000",
          "2017-10-29T00:00:00.000000000",
          "2017-11-05T00:00:00.000000000",
          "2017-11-12T00:00:00.000000000",
          "2017-11-19T00:00:00.000000000",
          "2017-11-26T00:00:00.000000000",
          "2017-12-03T00:00:00.000000000",
          "2017-12-10T00:00:00.000000000",
          "2017-12-17T00:00:00.000000000",
          "2017-12-24T00:00:00.000000000",
          "2017-12-31T00:00:00.000000000"
         ],
         "y": {
          "bdata": "vMXiMT/y2EA9TJyU1mjTQEjpvhBQo9NAizsIsA9Ew0DA6TvOmznKQPHsE32cwtBABHTLbeUNz0D7M1Lh/CPSQKLp0NcY4tFATuwhXhmp0ED1r+Ex5IrKQPQqKn2D+9FAdI07MZw8zUDEPS06Wa3QQHxsRLqKmc5AC2OmtHKyzkBKglItMATSQOhTh262d8VAPhFH8cAg0kAMpVSoTKTIQH3bRC5oAspA5cMBgjyk0EC0+/lPkCbOQPch2UNhO9BAYkrJKwGr1EC3BoQI7sjfQIL6wczTQd9ADJD7PEs74UDuRTnb7h3VQFUauOLzxtZAyB7PHC9y0kDf/c0cUMjTQKbjU/ZWQMxAyqQITARH30Dls5dGMLHdQPeRZLKWHOFAG3kg1qQ73ECApg3TdyTkQCpkwb0SMuFAijiIGDPn1EAlKrIkwHvdQCcKZiFCPdVA",
          "dtype": "f8"
         }
        },
        {
         "line": {
          "color": "orange"
         },
         "mode": "lines",
         "name": "Actual Values (Test)",
         "type": "scatter",
         "x": [
          "2017-03-19T00:00:00.000000000",
          "2017-03-26T00:00:00.000000000",
          "2017-04-02T00:00:00.000000000",
          "2017-04-09T00:00:00.000000000",
          "2017-04-16T00:00:00.000000000",
          "2017-04-23T00:00:00.000000000",
          "2017-04-30T00:00:00.000000000",
          "2017-05-07T00:00:00.000000000",
          "2017-05-14T00:00:00.000000000",
          "2017-05-21T00:00:00.000000000",
          "2017-05-28T00:00:00.000000000",
          "2017-06-04T00:00:00.000000000",
          "2017-06-11T00:00:00.000000000",
          "2017-06-18T00:00:00.000000000",
          "2017-06-25T00:00:00.000000000",
          "2017-07-02T00:00:00.000000000",
          "2017-07-09T00:00:00.000000000",
          "2017-07-16T00:00:00.000000000",
          "2017-07-23T00:00:00.000000000",
          "2017-07-30T00:00:00.000000000",
          "2017-08-06T00:00:00.000000000",
          "2017-08-13T00:00:00.000000000",
          "2017-08-20T00:00:00.000000000",
          "2017-08-27T00:00:00.000000000",
          "2017-09-03T00:00:00.000000000",
          "2017-09-10T00:00:00.000000000",
          "2017-09-17T00:00:00.000000000",
          "2017-09-24T00:00:00.000000000",
          "2017-10-01T00:00:00.000000000",
          "2017-10-08T00:00:00.000000000",
          "2017-10-15T00:00:00.000000000",
          "2017-10-22T00:00:00.000000000",
          "2017-10-29T00:00:00.000000000",
          "2017-11-05T00:00:00.000000000",
          "2017-11-12T00:00:00.000000000",
          "2017-11-19T00:00:00.000000000",
          "2017-11-26T00:00:00.000000000",
          "2017-12-03T00:00:00.000000000",
          "2017-12-10T00:00:00.000000000",
          "2017-12-17T00:00:00.000000000",
          "2017-12-24T00:00:00.000000000",
          "2017-12-31T00:00:00.000000000"
         ],
         "y": {
          "bdata": "JzEIrAywxEA5tMh2Xn3aQLFQa5o/jtBAVOOlm6xlxUC8dJMYhESxQLOd76cWUcFACBueXolrtUCwA+eMmMjJQLfz/dSILspAQDVeuslXxUBmZmZmRrO0QNQrZRnCPsNAhutRuN5mvkDXo3A9wmjMQML1KFzPyrtAdy0hHwQZz0DfT42X7pHJQG3n+6kh4sBAAiuHFinlxkDdJAaBdW/CQDVeuknM6rdA3SQGgdUdyEApXI/CFczTQFK4HoWLmdRACKwcWpyn0EBI4XoUtiXSQGdmZmYuANdAQmDl0Ort2kArhxbZrmzBQGIQWDkUB9NAAAAAAFiI0EB9YTJV8MTaQH0/NV5aF7lAgZVDi2SX3kCHFtnO9xbUQMdLN4kNQuFALbKd78+d00CuR+F6pJjfQGQ730+9cddABoGVQ/t/xEDwp8ZLlxvXQGgibHjqiMFA",
          "dtype": "f8"
         }
        },
        {
         "line": {
          "color": "green"
         },
         "mode": "lines",
         "name": "Prophet Forecast",
         "type": "scatter",
         "x": [
          "2017-03-19T00:00:00.000000000",
          "2017-03-26T00:00:00.000000000",
          "2017-04-02T00:00:00.000000000",
          "2017-04-09T00:00:00.000000000",
          "2017-04-16T00:00:00.000000000",
          "2017-04-23T00:00:00.000000000",
          "2017-04-30T00:00:00.000000000",
          "2017-05-07T00:00:00.000000000",
          "2017-05-14T00:00:00.000000000",
          "2017-05-21T00:00:00.000000000",
          "2017-05-28T00:00:00.000000000",
          "2017-06-04T00:00:00.000000000",
          "2017-06-11T00:00:00.000000000",
          "2017-06-18T00:00:00.000000000",
          "2017-06-25T00:00:00.000000000",
          "2017-07-02T00:00:00.000000000",
          "2017-07-09T00:00:00.000000000",
          "2017-07-16T00:00:00.000000000",
          "2017-07-23T00:00:00.000000000",
          "2017-07-30T00:00:00.000000000",
          "2017-08-06T00:00:00.000000000",
          "2017-08-13T00:00:00.000000000",
          "2017-08-20T00:00:00.000000000",
          "2017-08-27T00:00:00.000000000",
          "2017-09-03T00:00:00.000000000",
          "2017-09-10T00:00:00.000000000",
          "2017-09-17T00:00:00.000000000",
          "2017-09-24T00:00:00.000000000",
          "2017-10-01T00:00:00.000000000",
          "2017-10-08T00:00:00.000000000",
          "2017-10-15T00:00:00.000000000",
          "2017-10-22T00:00:00.000000000",
          "2017-10-29T00:00:00.000000000",
          "2017-11-05T00:00:00.000000000",
          "2017-11-12T00:00:00.000000000",
          "2017-11-19T00:00:00.000000000",
          "2017-11-26T00:00:00.000000000",
          "2017-12-03T00:00:00.000000000",
          "2017-12-10T00:00:00.000000000",
          "2017-12-17T00:00:00.000000000",
          "2017-12-24T00:00:00.000000000",
          "2017-12-31T00:00:00.000000000"
         ],
         "y": {
          "bdata": "CsG2tcvl1ECEFa2f/bTNQLD+rjrVHM5AEiYkP4CEtUCg8UJrHDXBQHqHINYFcchAX8/i6mEvxkAT+eMZmpvLQL7LBgd2wspA2EBVZ4J4yEA2Qdg5L13BQPjTp1f/jcpA5xVC+NfOxED3reAMJMTIQCact/vh/cVAsOXgo3UYxkAvsAVIUdPLQGQEdLZ5zLlACSb5WwxGy0A0+RsObPu9QFjwaW9tjsFAuh9HTSC+yECmDx8mEzLFQPqjvKSQMMhAqYAYOS1d0ED851lHNyXbQHQffkj+3tpAtL/9Q0kg3kBDSzaz18XQQIRG/6wIn9JA7i8HfUVDzECbG/So9HbOQLbWYuUGgsNAbHWTJ18S20Aa4TrBIknZQAgZHuZK5N1AedesmV7x10B9hwhiDcThQFPqDi3S4N1ADr2teMmK0ECnZR8PcjTZQHMlA/+EBtFA",
          "dtype": "f8"
         }
        }
       ],
       "layout": {
        "legend": {
         "x": 0.01,
         "y": 0.99
        },
        "template": {
         "data": {
          "bar": [
           {
            "error_x": {
             "color": "#2a3f5f"
            },
            "error_y": {
             "color": "#2a3f5f"
            },
            "marker": {
             "line": {
              "color": "#E5ECF6",
              "width": 0.5
             },
             "pattern": {
              "fillmode": "overlay",
              "size": 10,
              "solidity": 0.2
             }
            },
            "type": "bar"
           }
          ],
          "barpolar": [
           {
            "marker": {
             "line": {
              "color": "#E5ECF6",
              "width": 0.5
             },
             "pattern": {
              "fillmode": "overlay",
              "size": 10,
              "solidity": 0.2
             }
            },
            "type": "barpolar"
           }
          ],
          "carpet": [
           {
            "aaxis": {
             "endlinecolor": "#2a3f5f",
             "gridcolor": "white",
             "linecolor": "white",
             "minorgridcolor": "white",
             "startlinecolor": "#2a3f5f"
            },
            "baxis": {
             "endlinecolor": "#2a3f5f",
             "gridcolor": "white",
             "linecolor": "white",
             "minorgridcolor": "white",
             "startlinecolor": "#2a3f5f"
            },
            "type": "carpet"
           }
          ],
          "choropleth": [
           {
            "colorbar": {
             "outlinewidth": 0,
             "ticks": ""
            },
            "type": "choropleth"
           }
          ],
          "contour": [
           {
            "colorbar": {
             "outlinewidth": 0,
             "ticks": ""
            },
            "colorscale": [
             [
              0,
              "#0d0887"
             ],
             [
              0.1111111111111111,
              "#46039f"
             ],
             [
              0.2222222222222222,
              "#7201a8"
             ],
             [
              0.3333333333333333,
              "#9c179e"
             ],
             [
              0.4444444444444444,
              "#bd3786"
             ],
             [
              0.5555555555555556,
              "#d8576b"
             ],
             [
              0.6666666666666666,
              "#ed7953"
             ],
             [
              0.7777777777777778,
              "#fb9f3a"
             ],
             [
              0.8888888888888888,
              "#fdca26"
             ],
             [
              1,
              "#f0f921"
             ]
            ],
            "type": "contour"
           }
          ],
          "contourcarpet": [
           {
            "colorbar": {
             "outlinewidth": 0,
             "ticks": ""
            },
            "type": "contourcarpet"
           }
          ],
          "heatmap": [
           {
            "colorbar": {
             "outlinewidth": 0,
             "ticks": ""
            },
            "colorscale": [
             [
              0,
              "#0d0887"
             ],
             [
              0.1111111111111111,
              "#46039f"
             ],
             [
              0.2222222222222222,
              "#7201a8"
             ],
             [
              0.3333333333333333,
              "#9c179e"
             ],
             [
              0.4444444444444444,
              "#bd3786"
             ],
             [
              0.5555555555555556,
              "#d8576b"
             ],
             [
              0.6666666666666666,
              "#ed7953"
             ],
             [
              0.7777777777777778,
              "#fb9f3a"
             ],
             [
              0.8888888888888888,
              "#fdca26"
             ],
             [
              1,
              "#f0f921"
             ]
            ],
            "type": "heatmap"
           }
          ],
          "histogram": [
           {
            "marker": {
             "pattern": {
              "fillmode": "overlay",
              "size": 10,
              "solidity": 0.2
             }
            },
            "type": "histogram"
           }
          ],
          "histogram2d": [
           {
            "colorbar": {
             "outlinewidth": 0,
             "ticks": ""
            },
            "colorscale": [
             [
              0,
              "#0d0887"
             ],
             [
              0.1111111111111111,
              "#46039f"
             ],
             [
              0.2222222222222222,
              "#7201a8"
             ],
             [
              0.3333333333333333,
              "#9c179e"
             ],
             [
              0.4444444444444444,
              "#bd3786"
             ],
             [
              0.5555555555555556,
              "#d8576b"
             ],
             [
              0.6666666666666666,
              "#ed7953"
             ],
             [
              0.7777777777777778,
              "#fb9f3a"
             ],
             [
              0.8888888888888888,
              "#fdca26"
             ],
             [
              1,
              "#f0f921"
             ]
            ],
            "type": "histogram2d"
           }
          ],
          "histogram2dcontour": [
           {
            "colorbar": {
             "outlinewidth": 0,
             "ticks": ""
            },
            "colorscale": [
             [
              0,
              "#0d0887"
             ],
             [
              0.1111111111111111,
              "#46039f"
             ],
             [
              0.2222222222222222,
              "#7201a8"
             ],
             [
              0.3333333333333333,
              "#9c179e"
             ],
             [
              0.4444444444444444,
              "#bd3786"
             ],
             [
              0.5555555555555556,
              "#d8576b"
             ],
             [
              0.6666666666666666,
              "#ed7953"
             ],
             [
              0.7777777777777778,
              "#fb9f3a"
             ],
             [
              0.8888888888888888,
              "#fdca26"
             ],
             [
              1,
              "#f0f921"
             ]
            ],
            "type": "histogram2dcontour"
           }
          ],
          "mesh3d": [
           {
            "colorbar": {
             "outlinewidth": 0,
             "ticks": ""
            },
            "type": "mesh3d"
           }
          ],
          "parcoords": [
           {
            "line": {
             "colorbar": {
              "outlinewidth": 0,
              "ticks": ""
             }
            },
            "type": "parcoords"
           }
          ],
          "pie": [
           {
            "automargin": true,
            "type": "pie"
           }
          ],
          "scatter": [
           {
            "fillpattern": {
             "fillmode": "overlay",
             "size": 10,
             "solidity": 0.2
            },
            "type": "scatter"
           }
          ],
          "scatter3d": [
           {
            "line": {
             "colorbar": {
              "outlinewidth": 0,
              "ticks": ""
             }
            },
            "marker": {
             "colorbar": {
              "outlinewidth": 0,
              "ticks": ""
             }
            },
            "type": "scatter3d"
           }
          ],
          "scattercarpet": [
           {
            "marker": {
             "colorbar": {
              "outlinewidth": 0,
              "ticks": ""
             }
            },
            "type": "scattercarpet"
           }
          ],
          "scattergeo": [
           {
            "marker": {
             "colorbar": {
              "outlinewidth": 0,
              "ticks": ""
             }
            },
            "type": "scattergeo"
           }
          ],
          "scattergl": [
           {
            "marker": {
             "colorbar": {
              "outlinewidth": 0,
              "ticks": ""
             }
            },
            "type": "scattergl"
           }
          ],
          "scattermap": [
           {
            "marker": {
             "colorbar": {
              "outlinewidth": 0,
              "ticks": ""
             }
            },
            "type": "scattermap"
           }
          ],
          "scattermapbox": [
           {
            "marker": {
             "colorbar": {
              "outlinewidth": 0,
              "ticks": ""
             }
            },
            "type": "scattermapbox"
           }
          ],
          "scatterpolar": [
           {
            "marker": {
             "colorbar": {
              "outlinewidth": 0,
              "ticks": ""
             }
            },
            "type": "scatterpolar"
           }
          ],
          "scatterpolargl": [
           {
            "marker": {
             "colorbar": {
              "outlinewidth": 0,
              "ticks": ""
             }
            },
            "type": "scatterpolargl"
           }
          ],
          "scatterternary": [
           {
            "marker": {
             "colorbar": {
              "outlinewidth": 0,
              "ticks": ""
             }
            },
            "type": "scatterternary"
           }
          ],
          "surface": [
           {
            "colorbar": {
             "outlinewidth": 0,
             "ticks": ""
            },
            "colorscale": [
             [
              0,
              "#0d0887"
             ],
             [
              0.1111111111111111,
              "#46039f"
             ],
             [
              0.2222222222222222,
              "#7201a8"
             ],
             [
              0.3333333333333333,
              "#9c179e"
             ],
             [
              0.4444444444444444,
              "#bd3786"
             ],
             [
              0.5555555555555556,
              "#d8576b"
             ],
             [
              0.6666666666666666,
              "#ed7953"
             ],
             [
              0.7777777777777778,
              "#fb9f3a"
             ],
             [
              0.8888888888888888,
              "#fdca26"
             ],
             [
              1,
              "#f0f921"
             ]
            ],
            "type": "surface"
           }
          ],
          "table": [
           {
            "cells": {
             "fill": {
              "color": "#EBF0F8"
             },
             "line": {
              "color": "white"
             }
            },
            "header": {
             "fill": {
              "color": "#C8D4E3"
             },
             "line": {
              "color": "white"
             }
            },
            "type": "table"
           }
          ]
         },
         "layout": {
          "annotationdefaults": {
           "arrowcolor": "#2a3f5f",
           "arrowhead": 0,
           "arrowwidth": 1
          },
          "autotypenumbers": "strict",
          "coloraxis": {
           "colorbar": {
            "outlinewidth": 0,
            "ticks": ""
           }
          },
          "colorscale": {
           "diverging": [
            [
             0,
             "#8e0152"
            ],
            [
             0.1,
             "#c51b7d"
            ],
            [
             0.2,
             "#de77ae"
            ],
            [
             0.3,
             "#f1b6da"
            ],
            [
             0.4,
             "#fde0ef"
            ],
            [
             0.5,
             "#f7f7f7"
            ],
            [
             0.6,
             "#e6f5d0"
            ],
            [
             0.7,
             "#b8e186"
            ],
            [
             0.8,
             "#7fbc41"
            ],
            [
             0.9,
             "#4d9221"
            ],
            [
             1,
             "#276419"
            ]
           ],
           "sequential": [
            [
             0,
             "#0d0887"
            ],
            [
             0.1111111111111111,
             "#46039f"
            ],
            [
             0.2222222222222222,
             "#7201a8"
            ],
            [
             0.3333333333333333,
             "#9c179e"
            ],
            [
             0.4444444444444444,
             "#bd3786"
            ],
            [
             0.5555555555555556,
             "#d8576b"
            ],
            [
             0.6666666666666666,
             "#ed7953"
            ],
            [
             0.7777777777777778,
             "#fb9f3a"
            ],
            [
             0.8888888888888888,
             "#fdca26"
            ],
            [
             1,
             "#f0f921"
            ]
           ],
           "sequentialminus": [
            [
             0,
             "#0d0887"
            ],
            [
             0.1111111111111111,
             "#46039f"
            ],
            [
             0.2222222222222222,
             "#7201a8"
            ],
            [
             0.3333333333333333,
             "#9c179e"
            ],
            [
             0.4444444444444444,
             "#bd3786"
            ],
            [
             0.5555555555555556,
             "#d8576b"
            ],
            [
             0.6666666666666666,
             "#ed7953"
            ],
            [
             0.7777777777777778,
             "#fb9f3a"
            ],
            [
             0.8888888888888888,
             "#fdca26"
            ],
            [
             1,
             "#f0f921"
            ]
           ]
          },
          "colorway": [
           "#636efa",
           "#EF553B",
           "#00cc96",
           "#ab63fa",
           "#FFA15A",
           "#19d3f3",
           "#FF6692",
           "#B6E880",
           "#FF97FF",
           "#FECB52"
          ],
          "font": {
           "color": "#2a3f5f"
          },
          "geo": {
           "bgcolor": "white",
           "lakecolor": "white",
           "landcolor": "#E5ECF6",
           "showlakes": true,
           "showland": true,
           "subunitcolor": "white"
          },
          "hoverlabel": {
           "align": "left"
          },
          "hovermode": "closest",
          "mapbox": {
           "style": "light"
          },
          "paper_bgcolor": "white",
          "plot_bgcolor": "#E5ECF6",
          "polar": {
           "angularaxis": {
            "gridcolor": "white",
            "linecolor": "white",
            "ticks": ""
           },
           "bgcolor": "#E5ECF6",
           "radialaxis": {
            "gridcolor": "white",
            "linecolor": "white",
            "ticks": ""
           }
          },
          "scene": {
           "xaxis": {
            "backgroundcolor": "#E5ECF6",
            "gridcolor": "white",
            "gridwidth": 2,
            "linecolor": "white",
            "showbackground": true,
            "ticks": "",
            "zerolinecolor": "white"
           },
           "yaxis": {
            "backgroundcolor": "#E5ECF6",
            "gridcolor": "white",
            "gridwidth": 2,
            "linecolor": "white",
            "showbackground": true,
            "ticks": "",
            "zerolinecolor": "white"
           },
           "zaxis": {
            "backgroundcolor": "#E5ECF6",
            "gridcolor": "white",
            "gridwidth": 2,
            "linecolor": "white",
            "showbackground": true,
            "ticks": "",
            "zerolinecolor": "white"
           }
          },
          "shapedefaults": {
           "line": {
            "color": "#2a3f5f"
           }
          },
          "ternary": {
           "aaxis": {
            "gridcolor": "white",
            "linecolor": "white",
            "ticks": ""
           },
           "baxis": {
            "gridcolor": "white",
            "linecolor": "white",
            "ticks": ""
           },
           "bgcolor": "#E5ECF6",
           "caxis": {
            "gridcolor": "white",
            "linecolor": "white",
            "ticks": ""
           }
          },
          "title": {
           "x": 0.05
          },
          "xaxis": {
           "automargin": true,
           "gridcolor": "white",
           "linecolor": "white",
           "ticks": "",
           "title": {
            "standoff": 15
           },
           "zerolinecolor": "white",
           "zerolinewidth": 2
          },
          "yaxis": {
           "automargin": true,
           "gridcolor": "white",
           "linecolor": "white",
           "ticks": "",
           "title": {
            "standoff": 15
           },
           "zerolinecolor": "white",
           "zerolinewidth": 2
          }
         }
        },
        "title": {
         "text": "<b>Prophet Forecast vs. Actual Values (Test Period)</b>"
        },
        "xaxis": {
         "title": {
          "text": "Date"
         }
        },
        "yaxis": {
         "title": {
          "text": "Weekly Sales"
         }
        }
       }
      }
     },
     "metadata": {},
     "output_type": "display_data"
    },
    {
     "name": "stdout",
     "output_type": "stream",
     "text": [
      "MAE Prophet: $4,399.99\n",
      "MAPE Prophet: 35.51%\n"
     ]
    }
   ],
   "source": [
    "from prophet.plot import plot_plotly, plot_components_plotly\n",
    "import plotly.graph_objects as go\n",
    "from prophet import Prophet\n",
    "\n",
    "# --- Persiapan Data untuk Prophet ---\n",
    "# Prophet memerlukan kolom 'ds' (datestamp) dan 'y' (target)\n",
    "prophet_df = pd.DataFrame()\n",
    "\n",
    "prophet_df['ds'] = weekly_df.index\n",
    "prophet_df['y'] = weekly_df['Sales'].values\n",
    "\n",
    "prophet_df['Quantity'] = weekly_df['Quantity'].values\n",
    "prophet_df['Discount'] = weekly_df['Discount'].values\n",
    "prophet_df['month'] = weekly_df['month'].values\n",
    "\n",
    "# Mendefinisikan hari libur (costum holidays)\n",
    "holiday_df = pd.DataFrame({\n",
    "    'holiday': 'black_friday',\n",
    "    'ds': black_friday_dates,\n",
    "    'lower_window': 0,\n",
    "    'upper_window': 2\n",
    "})\n",
    "\n",
    "# Train Test Split\n",
    "train_size = int(len(prophet_df) * 0.8)\n",
    "train = prophet_df[:train_size]\n",
    "test = prophet_df[train_size:]\n",
    "\n",
    "# --- Konfigurasi dan Pelatihan Model ---\n",
    "model_prophet = Prophet(\n",
    "    holidays=holiday_df,\n",
    "    yearly_seasonality=True,\n",
    "    weekly_seasonality=False, # Data sudah mingguan\n",
    "    daily_seasonality=False\n",
    ")\n",
    "model_prophet.add_country_holidays(country_name='US') # Menambahkan hari libur standar AS\n",
    "model_prophet.add_regressor('Quantity')\n",
    "model_prophet.add_regressor('Discount')\n",
    "model_prophet.add_regressor('month')\n",
    "\n",
    "model_prophet.fit(train)\n",
    "\n",
    "# --- Forecasting dan Evaluasi ---\n",
    "# Membuat dataframe 'future' yang berisi tanggal untuk peramalan\n",
    "future = model_prophet.make_future_dataframe(periods=len(test), freq='W')\n",
    "future = pd.merge(future, prophet_df.drop(columns='y'), on='ds', how='left') # Menambahkan data regressor\n",
    "forecast_prophet = model_prophet.predict(future)\n",
    "\n",
    "# --- Visualisasi Interaktif ---\n",
    "# Gunakan plot bawaan Prophet yang sudah interaktif\n",
    "\n",
    "print(\"Prophet Forecast, Plot Interaktif:\")\n",
    "fig1 = plot_plotly(model_prophet, forecast_prophet)\n",
    "fig1.show()\n",
    "\n",
    "# Create the components plot (interactive)\n",
    "print(\"\\nProphet Components Plot, Interaktif:\")\n",
    "fig2 = plot_components_plotly(model_prophet, forecast_prophet)\n",
    "fig2.show()\n",
    "\n",
    "print(\"\\nPlot Interaktif Perbandingan:\")\n",
    "fig_custom = go.Figure()\n",
    "\n",
    "forecast_test_period = forecast_prophet.iloc[-len(test):]\n",
    "\n",
    "fig_custom.add_trace(go.Scatter(\n",
    "    x=forecast_test_period['ds'],\n",
    "    y=forecast_test_period['yhat_lower'],\n",
    "    fill=None,\n",
    "    mode='lines',\n",
    "    line=dict(color='lightgreen'),\n",
    "    showlegend=False\n",
    "))\n",
    "fig_custom.add_trace(go.Scatter(\n",
    "    x=forecast_test_period['ds'],\n",
    "    y=forecast_test_period['yhat_upper'],\n",
    "    fill='tonexty',\n",
    "    mode='lines',\n",
    "    line=dict(color='lightgreen'),\n",
    "    name='95% Confidence Interval'\n",
    "))\n",
    "\n",
    "fig_custom.add_trace(go.Scatter(\n",
    "    x=test['ds'],\n",
    "    y=test['y'],\n",
    "    name='Actual Values (Test)',\n",
    "    mode='lines',\n",
    "    line=dict(color='orange')\n",
    "))\n",
    "\n",
    "fig_custom.add_trace(go.Scatter(\n",
    "    x=forecast_test_period['ds'],\n",
    "    y=forecast_test_period['yhat'],\n",
    "    name='Prophet Forecast',\n",
    "    mode='lines',\n",
    "    line=dict(color='green')\n",
    "))\n",
    "\n",
    "fig_custom.update_layout(\n",
    "    title_text=\"<b>Prophet Forecast vs. Actual Values (Test Period)</b>\",\n",
    "    xaxis_title=\"Date\",\n",
    "    yaxis_title=\"Weekly Sales\",\n",
    "    legend=dict(x=0.01, y=0.99)\n",
    ")\n",
    "\n",
    "fig_custom.show()\n",
    "\n",
    "# --- Metrik Evaluasi ---\n",
    "y_forecast_prophet = forecast_prophet.iloc[-len(test):]['yhat']\n",
    "y_test_prophet = test['y']\n",
    "mae_prophet = mean_absolute_error(y_test_prophet, y_forecast_prophet)\n",
    "mape_prophet = mean_absolute_percentage_error(y_test_prophet, y_forecast_prophet)\n",
    "print(f\"MAE Prophet: ${mae_prophet:,.2f}\")\n",
    "print(f\"MAPE Prophet: {mape_prophet:.2%}\")"
   ]
  },
  {
   "cell_type": "markdown",
   "id": "cddee079",
   "metadata": {},
   "source": [
    "**Interpretasi Hasil Model Prophet**\n",
    "Analisis ini didasarkan pada visualisasi forecast dan dekomposisi komponen yang dihasilkan oleh model Prophet.\n",
    "\n",
    "**Analisis Plot Forecast**\n",
    "Berdasarkan plot forecast utama, model Prophet berhasil menangkap **pola umum dan ritme musiman** dari data penjualan mingguan. Garis forecast (`yhat`) secara umum mengikuti pergerakan data historis dan data aktual pada periode pengujian.\n",
    "Namun, terlihat bahwa forecast cenderung lebih mulus dibandingkan data aktual yang sangat fluktuatif. Model ini berhasil memprediksi kapan puncak penjualan akan terjadi, tetapi seringkali kurang presisi dalam memprediksi magnitudo atau ketinggian puncak tersebut. Hal ini menghasilkan nilai evaluasi sebagai berikut:\n",
    "\n",
    "**Dekomposisi Komponen Model**\n",
    "Plot komponen memberikan wawasan yang sangat berharga mengenati faktor-faktor yang mendorong penjualan:\n",
    "- Trend: Model mengidentifikasi adanya perubahan tren dalam data. Terdapat pertumbuhan positif hingga pertengahan tahun 2016, yang kemudian diikuti oleh perlambatan dan sedikit penurunan tren hingga akhir periode. Ini mengindikasikan adanya perubahan pada laju pertumbuhan bisnis inti.\n",
    "- Efek Holidays: Komponen ini menunjukkan dampak yang sangat signifikan dan positif dari hari libur terhadap penjualan. Puncak-puncak tertinggi pada komponen ini bertepatan dengan hari libur yang telah didefinisikan (seperti Black Friday dan hari libur AS lainnya), yang membuktikan bahwa penambahan fitur ini sangat krusial.\n",
    "- Musiman Tahunan (Yearly Seasonality): Teridentifikasi pola tahunan yang jelas, di mana penjualan cenderung memuncak pada akhir tahun (November-Desember) dan berada pada titik terendah pada awal tahun (Februari-Maret).\n",
    "- Regresor Tambahan (Extra Regressors): Fitur tambahan yang Anda berikan (Quantity, Discount, month) secara kolektif memberikan kontribusi terhadap hasil akhir forecast.\n"
   ]
  },
  {
   "cell_type": "markdown",
   "id": "ccc86e26",
   "metadata": {},
   "source": [
    "## **Perbandingan Model**\n",
    "| Model | MAE (Mean Absolute Error) | MAPE (Mean Absolute Percentage Error) |\n",
    "|---|---|---|\n",
    "| **SARIMAX** | \\$4,215.85 | 34.93% |\n",
    "| **Prophet** | \\$4,399.99 | 35.51% |\n",
    "\n",
    "Kedua model menunjukkan performa yang sangat kompetitif dan serupa. Ini mengindikasikan bahwa fitur rekayasa berhasil memberikan informasi krusial kepada kedua model."
   ]
  }
 ],
 "metadata": {
  "kernelspec": {
   "display_name": "Python 3",
   "language": "python",
   "name": "python3"
  },
  "language_info": {
   "codemirror_mode": {
    "name": "ipython",
    "version": 3
   },
   "file_extension": ".py",
   "mimetype": "text/x-python",
   "name": "python",
   "nbconvert_exporter": "python",
   "pygments_lexer": "ipython3",
   "version": "3.13.5"
  }
 },
 "nbformat": 4,
 "nbformat_minor": 5
}
